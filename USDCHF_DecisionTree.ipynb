{
 "cells": [
  {
   "cell_type": "code",
   "execution_count": 1,
   "metadata": {
    "id": "ZycvyTvZmEif",
    "tags": []
   },
   "outputs": [],
   "source": [
    "import pandas as pd\n",
    "\n",
    "import numpy as np\n",
    "\n",
    "from sklearn.ensemble import RandomForestClassifier\n",
    "from sklearn.tree import DecisionTreeClassifier\n",
    "from sklearn.ensemble import RandomForestClassifier\n",
    "from sklearn.ensemble import BaggingClassifier\n",
    "from sklearn.tree import DecisionTreeClassifier as dt\n",
    "from datetime import datetime,timedelta\n",
    "from sklearn.model_selection import train_test_split\n",
    "\n",
    "from sklearn.metrics import accuracy_score\n",
    "\n",
    "from sklearn.metrics import classification_report\n",
    "\n",
    "from sklearn.metrics import confusion_matrix\n",
    "\n",
    "from sklearn.model_selection import cross_val_score\n",
    "\n",
    "import plotly.express as px\n",
    "\n",
    "from matplotlib import pyplot as plt\n",
    "\n",
    "from sklearn.ensemble import AdaBoostClassifier\n",
    "\n",
    "import pandas_ta as pa\n",
    "\n",
    "from sklearn.linear_model import LogisticRegression\n",
    "from sklearn.svm import SVC\n",
    "from sklearn.ensemble import RandomForestRegressor, VotingClassifier\n",
    "\n",
    "from sklearn.neural_network import MLPClassifier\n",
    "from sklearn.naive_bayes import GaussianNB\n"
   ]
  },
  {
   "cell_type": "code",
   "execution_count": 50,
   "metadata": {
    "colab": {
     "base_uri": "https://localhost:8080/",
     "height": 455
    },
    "id": "WJBZrta-ps9E",
    "outputId": "90f9930c-e637-4b0e-99ac-89aafe679d02",
    "tags": []
   },
   "outputs": [
    {
     "data": {
      "text/html": [
       "<div>\n",
       "<style scoped>\n",
       "    .dataframe tbody tr th:only-of-type {\n",
       "        vertical-align: middle;\n",
       "    }\n",
       "\n",
       "    .dataframe tbody tr th {\n",
       "        vertical-align: top;\n",
       "    }\n",
       "\n",
       "    .dataframe thead th {\n",
       "        text-align: right;\n",
       "    }\n",
       "</style>\n",
       "<table border=\"1\" class=\"dataframe\">\n",
       "  <thead>\n",
       "    <tr style=\"text-align: right;\">\n",
       "      <th></th>\n",
       "      <th>USDCHF</th>\n",
       "      <th>USCN-EQ-SPREAD</th>\n",
       "      <th>CHFV1M</th>\n",
       "      <th>USDCHF25R1M</th>\n",
       "      <th>ECOSPREAD</th>\n",
       "      <th>CHF2YSpread</th>\n",
       "      <th>USCHFCurvesSpread</th>\n",
       "      <th>MACross</th>\n",
       "    </tr>\n",
       "    <tr>\n",
       "      <th>Date</th>\n",
       "      <th></th>\n",
       "      <th></th>\n",
       "      <th></th>\n",
       "      <th></th>\n",
       "      <th></th>\n",
       "      <th></th>\n",
       "      <th></th>\n",
       "      <th></th>\n",
       "    </tr>\n",
       "  </thead>\n",
       "  <tbody>\n",
       "    <tr>\n",
       "      <th>2009-01-02</th>\n",
       "      <td>0.010561</td>\n",
       "      <td>0.043424</td>\n",
       "      <td>3.7050</td>\n",
       "      <td>0.3175</td>\n",
       "      <td>-23.0</td>\n",
       "      <td>0.0265</td>\n",
       "      <td>20.107</td>\n",
       "      <td>-1.0</td>\n",
       "    </tr>\n",
       "    <tr>\n",
       "      <th>2009-01-09</th>\n",
       "      <td>0.030334</td>\n",
       "      <td>-0.071778</td>\n",
       "      <td>-2.9075</td>\n",
       "      <td>0.4750</td>\n",
       "      <td>23.1</td>\n",
       "      <td>-0.3067</td>\n",
       "      <td>18.024</td>\n",
       "      <td>-1.0</td>\n",
       "    </tr>\n",
       "    <tr>\n",
       "      <th>2009-01-16</th>\n",
       "      <td>0.005026</td>\n",
       "      <td>0.002155</td>\n",
       "      <td>-3.1950</td>\n",
       "      <td>-0.0025</td>\n",
       "      <td>12.2</td>\n",
       "      <td>0.0563</td>\n",
       "      <td>-5.307</td>\n",
       "      <td>1.0</td>\n",
       "    </tr>\n",
       "    <tr>\n",
       "      <th>2009-01-23</th>\n",
       "      <td>0.030812</td>\n",
       "      <td>0.002139</td>\n",
       "      <td>-0.0625</td>\n",
       "      <td>0.4225</td>\n",
       "      <td>1.2</td>\n",
       "      <td>0.1495</td>\n",
       "      <td>10.988</td>\n",
       "      <td>1.0</td>\n",
       "    </tr>\n",
       "    <tr>\n",
       "      <th>2009-01-30</th>\n",
       "      <td>0.006671</td>\n",
       "      <td>-0.006742</td>\n",
       "      <td>-0.8550</td>\n",
       "      <td>-0.1200</td>\n",
       "      <td>90.0</td>\n",
       "      <td>0.1928</td>\n",
       "      <td>6.671</td>\n",
       "      <td>1.0</td>\n",
       "    </tr>\n",
       "    <tr>\n",
       "      <th>...</th>\n",
       "      <td>...</td>\n",
       "      <td>...</td>\n",
       "      <td>...</td>\n",
       "      <td>...</td>\n",
       "      <td>...</td>\n",
       "      <td>...</td>\n",
       "      <td>...</td>\n",
       "      <td>...</td>\n",
       "    </tr>\n",
       "    <tr>\n",
       "      <th>2023-11-10</th>\n",
       "      <td>0.004339</td>\n",
       "      <td>0.015334</td>\n",
       "      <td>-0.0700</td>\n",
       "      <td>0.0250</td>\n",
       "      <td>-5.2</td>\n",
       "      <td>0.1747</td>\n",
       "      <td>-7.535</td>\n",
       "      <td>1.0</td>\n",
       "    </tr>\n",
       "    <tr>\n",
       "      <th>2023-11-17</th>\n",
       "      <td>-0.018832</td>\n",
       "      <td>0.005376</td>\n",
       "      <td>-0.0500</td>\n",
       "      <td>-0.0125</td>\n",
       "      <td>-6.2</td>\n",
       "      <td>-0.1458</td>\n",
       "      <td>4.345</td>\n",
       "      <td>-1.0</td>\n",
       "    </tr>\n",
       "    <tr>\n",
       "      <th>2023-11-24</th>\n",
       "      <td>-0.003048</td>\n",
       "      <td>-0.000547</td>\n",
       "      <td>-0.1900</td>\n",
       "      <td>0.0275</td>\n",
       "      <td>-1.0</td>\n",
       "      <td>-0.0051</td>\n",
       "      <td>0.722</td>\n",
       "      <td>-1.0</td>\n",
       "    </tr>\n",
       "    <tr>\n",
       "      <th>2023-12-01</th>\n",
       "      <td>-0.015629</td>\n",
       "      <td>0.010172</td>\n",
       "      <td>0.4675</td>\n",
       "      <td>-0.0050</td>\n",
       "      <td>10.3</td>\n",
       "      <td>-0.1530</td>\n",
       "      <td>15.469</td>\n",
       "      <td>-1.0</td>\n",
       "    </tr>\n",
       "    <tr>\n",
       "      <th>2023-12-08</th>\n",
       "      <td>0.012310</td>\n",
       "      <td>-0.013182</td>\n",
       "      <td>0.7300</td>\n",
       "      <td>0.0200</td>\n",
       "      <td>76.7</td>\n",
       "      <td>0.1425</td>\n",
       "      <td>-12.851</td>\n",
       "      <td>-1.0</td>\n",
       "    </tr>\n",
       "  </tbody>\n",
       "</table>\n",
       "<p>780 rows × 8 columns</p>\n",
       "</div>"
      ],
      "text/plain": [
       "              USDCHF  USCN-EQ-SPREAD  CHFV1M  USDCHF25R1M  ECOSPREAD  \\\n",
       "Date                                                                   \n",
       "2009-01-02  0.010561        0.043424  3.7050       0.3175      -23.0   \n",
       "2009-01-09  0.030334       -0.071778 -2.9075       0.4750       23.1   \n",
       "2009-01-16  0.005026        0.002155 -3.1950      -0.0025       12.2   \n",
       "2009-01-23  0.030812        0.002139 -0.0625       0.4225        1.2   \n",
       "2009-01-30  0.006671       -0.006742 -0.8550      -0.1200       90.0   \n",
       "...              ...             ...     ...          ...        ...   \n",
       "2023-11-10  0.004339        0.015334 -0.0700       0.0250       -5.2   \n",
       "2023-11-17 -0.018832        0.005376 -0.0500      -0.0125       -6.2   \n",
       "2023-11-24 -0.003048       -0.000547 -0.1900       0.0275       -1.0   \n",
       "2023-12-01 -0.015629        0.010172  0.4675      -0.0050       10.3   \n",
       "2023-12-08  0.012310       -0.013182  0.7300       0.0200       76.7   \n",
       "\n",
       "            CHF2YSpread  USCHFCurvesSpread  MACross  \n",
       "Date                                                 \n",
       "2009-01-02       0.0265             20.107     -1.0  \n",
       "2009-01-09      -0.3067             18.024     -1.0  \n",
       "2009-01-16       0.0563             -5.307      1.0  \n",
       "2009-01-23       0.1495             10.988      1.0  \n",
       "2009-01-30       0.1928              6.671      1.0  \n",
       "...                 ...                ...      ...  \n",
       "2023-11-10       0.1747             -7.535      1.0  \n",
       "2023-11-17      -0.1458              4.345     -1.0  \n",
       "2023-11-24      -0.0051              0.722     -1.0  \n",
       "2023-12-01      -0.1530             15.469     -1.0  \n",
       "2023-12-08       0.1425            -12.851     -1.0  \n",
       "\n",
       "[780 rows x 8 columns]"
      ]
     },
     "execution_count": 50,
     "metadata": {},
     "output_type": "execute_result"
    }
   ],
   "source": [
    "df = pd.read_excel(r'S:\\Risk\\Risk Research\\AI and Machine Learning\\Final_Strategy\\USDCHF\\USDCHF_Data_2003.xlsx',sheet_name='Data',parse_dates=['Date'],index_col='Date')\n",
    "\n",
    "#Calculate all the spreads\n",
    "df['CHF2YSpread']=df['US2Y']-df['CHF2Y']\n",
    "df['USCHFCurvesSpread']=df['US2Y10Y']-df['CHF2Y10Y']\n",
    "\n",
    "\n",
    "df=df.drop(['US2Y','CHF2Y','US2Y10Y','CHF2Y10Y','VIX'], axis=1)\n",
    "\n",
    "# Select the columns for which you want to apply pct_change()\n",
    "columns_pct_change = ['USDCHF','MXUS','MXCH']\n",
    "\n",
    "df_pct_change = df[columns_pct_change].pct_change()\n",
    "\n",
    "df_pct_change['USCN-EQ-SPREAD']=df_pct_change['MXUS']-df_pct_change['MXCH']\n",
    "df_pct_change.drop(['MXUS','MXCH'],axis=1,inplace=True)\n",
    "\n",
    "#Calculate the difference for the remaining columns\n",
    "df_diff = df.drop(columns_pct_change, axis=1).diff()\n",
    "\n",
    "#Combine the 2 Datasets\n",
    "df_combined = pd.concat([df_pct_change, df_diff], axis=1).dropna()\n",
    "\n",
    "df_combined['MA4'] = df_combined['USDCHF'].rolling(window=4).mean()\n",
    "\n",
    "df_combined['MA40'] = df_combined['USDCHF'].rolling(window=40).mean()\n",
    "\n",
    "df_combined['MACross'] = np.NaN  # Initialize the signal column with zeros\n",
    "df_combined.loc[df_combined['MA4'] > df_combined['MA40'], 'MACross'] = 1  # Set signal as 1 where MA4 > MA40\n",
    "df_combined.loc[df_combined['MA4'] < df_combined['MA40'], 'MACross'] = -1\n",
    "\n",
    "df_combined.drop(['MA4','MA40'],axis=1,inplace=True)\n",
    "\n",
    "df_combined=df_combined.dropna(subset=['MACross'])\n",
    "\n",
    "df_combined = df_combined[df_combined.index >=\"2009-01-01\"]\n",
    "\n",
    "df_combined"
   ]
  },
  {
   "cell_type": "code",
   "execution_count": 58,
   "metadata": {
    "tags": []
   },
   "outputs": [
    {
     "data": {
      "text/html": [
       "<div>\n",
       "<style scoped>\n",
       "    .dataframe tbody tr th:only-of-type {\n",
       "        vertical-align: middle;\n",
       "    }\n",
       "\n",
       "    .dataframe tbody tr th {\n",
       "        vertical-align: top;\n",
       "    }\n",
       "\n",
       "    .dataframe thead th {\n",
       "        text-align: right;\n",
       "    }\n",
       "</style>\n",
       "<table border=\"1\" class=\"dataframe\">\n",
       "  <thead>\n",
       "    <tr style=\"text-align: right;\">\n",
       "      <th></th>\n",
       "      <th>USDCHF</th>\n",
       "      <th>CHFV1M</th>\n",
       "      <th>USDCHF25R1M</th>\n",
       "      <th>ECOSPREAD</th>\n",
       "      <th>MXUS</th>\n",
       "      <th>MXCH</th>\n",
       "      <th>CHF2YSpread</th>\n",
       "      <th>USCHFCurvesSpread</th>\n",
       "    </tr>\n",
       "    <tr>\n",
       "      <th>Date</th>\n",
       "      <th></th>\n",
       "      <th></th>\n",
       "      <th></th>\n",
       "      <th></th>\n",
       "      <th></th>\n",
       "      <th></th>\n",
       "      <th></th>\n",
       "      <th></th>\n",
       "    </tr>\n",
       "  </thead>\n",
       "  <tbody>\n",
       "    <tr>\n",
       "      <th>2007-03-02</th>\n",
       "      <td>1.2165</td>\n",
       "      <td>7.0009</td>\n",
       "      <td>-0.1980</td>\n",
       "      <td>14.9</td>\n",
       "      <td>1312.14</td>\n",
       "      <td>1152.65</td>\n",
       "      <td>2.1322</td>\n",
       "      <td>-24.852</td>\n",
       "    </tr>\n",
       "    <tr>\n",
       "      <th>2007-03-09</th>\n",
       "      <td>1.2347</td>\n",
       "      <td>6.8000</td>\n",
       "      <td>-0.0750</td>\n",
       "      <td>20.9</td>\n",
       "      <td>1326.48</td>\n",
       "      <td>1170.73</td>\n",
       "      <td>2.2311</td>\n",
       "      <td>-33.799</td>\n",
       "    </tr>\n",
       "    <tr>\n",
       "      <th>2007-03-16</th>\n",
       "      <td>1.2070</td>\n",
       "      <td>7.2500</td>\n",
       "      <td>-0.0750</td>\n",
       "      <td>14.8</td>\n",
       "      <td>1311.85</td>\n",
       "      <td>1142.55</td>\n",
       "      <td>2.1656</td>\n",
       "      <td>-26.736</td>\n",
       "    </tr>\n",
       "    <tr>\n",
       "      <th>2007-03-23</th>\n",
       "      <td>1.2192</td>\n",
       "      <td>6.9509</td>\n",
       "      <td>-0.4455</td>\n",
       "      <td>-6.9</td>\n",
       "      <td>1358.36</td>\n",
       "      <td>1190.99</td>\n",
       "      <td>2.1328</td>\n",
       "      <td>-22.037</td>\n",
       "    </tr>\n",
       "    <tr>\n",
       "      <th>2007-03-30</th>\n",
       "      <td>1.2156</td>\n",
       "      <td>6.8750</td>\n",
       "      <td>-0.4500</td>\n",
       "      <td>-16.8</td>\n",
       "      <td>1343.99</td>\n",
       "      <td>1176.39</td>\n",
       "      <td>2.1174</td>\n",
       "      <td>-25.704</td>\n",
       "    </tr>\n",
       "    <tr>\n",
       "      <th>...</th>\n",
       "      <td>...</td>\n",
       "      <td>...</td>\n",
       "      <td>...</td>\n",
       "      <td>...</td>\n",
       "      <td>...</td>\n",
       "      <td>...</td>\n",
       "      <td>...</td>\n",
       "      <td>...</td>\n",
       "    </tr>\n",
       "    <tr>\n",
       "      <th>2023-11-10</th>\n",
       "      <td>0.9027</td>\n",
       "      <td>6.2250</td>\n",
       "      <td>-0.1375</td>\n",
       "      <td>72.9</td>\n",
       "      <td>4198.58</td>\n",
       "      <td>1367.06</td>\n",
       "      <td>3.6933</td>\n",
       "      <td>-8.692</td>\n",
       "    </tr>\n",
       "    <tr>\n",
       "      <th>2023-11-17</th>\n",
       "      <td>0.8857</td>\n",
       "      <td>6.1750</td>\n",
       "      <td>-0.1500</td>\n",
       "      <td>66.7</td>\n",
       "      <td>4295.72</td>\n",
       "      <td>1391.34</td>\n",
       "      <td>3.5475</td>\n",
       "      <td>-4.347</td>\n",
       "    </tr>\n",
       "    <tr>\n",
       "      <th>2023-11-24</th>\n",
       "      <td>0.8830</td>\n",
       "      <td>5.9850</td>\n",
       "      <td>-0.1225</td>\n",
       "      <td>65.7</td>\n",
       "      <td>4339.65</td>\n",
       "      <td>1406.33</td>\n",
       "      <td>3.5424</td>\n",
       "      <td>-3.625</td>\n",
       "    </tr>\n",
       "    <tr>\n",
       "      <th>2023-12-01</th>\n",
       "      <td>0.8692</td>\n",
       "      <td>6.4525</td>\n",
       "      <td>-0.1275</td>\n",
       "      <td>76.0</td>\n",
       "      <td>4381.11</td>\n",
       "      <td>1405.46</td>\n",
       "      <td>3.3894</td>\n",
       "      <td>11.844</td>\n",
       "    </tr>\n",
       "    <tr>\n",
       "      <th>2023-12-08</th>\n",
       "      <td>0.8799</td>\n",
       "      <td>7.1825</td>\n",
       "      <td>-0.1075</td>\n",
       "      <td>152.7</td>\n",
       "      <td>4390.41</td>\n",
       "      <td>1426.97</td>\n",
       "      <td>3.5319</td>\n",
       "      <td>-1.007</td>\n",
       "    </tr>\n",
       "  </tbody>\n",
       "</table>\n",
       "<p>876 rows × 8 columns</p>\n",
       "</div>"
      ],
      "text/plain": [
       "            USDCHF  CHFV1M  USDCHF25R1M  ECOSPREAD     MXUS     MXCH  \\\n",
       "Date                                                                   \n",
       "2007-03-02  1.2165  7.0009      -0.1980       14.9  1312.14  1152.65   \n",
       "2007-03-09  1.2347  6.8000      -0.0750       20.9  1326.48  1170.73   \n",
       "2007-03-16  1.2070  7.2500      -0.0750       14.8  1311.85  1142.55   \n",
       "2007-03-23  1.2192  6.9509      -0.4455       -6.9  1358.36  1190.99   \n",
       "2007-03-30  1.2156  6.8750      -0.4500      -16.8  1343.99  1176.39   \n",
       "...            ...     ...          ...        ...      ...      ...   \n",
       "2023-11-10  0.9027  6.2250      -0.1375       72.9  4198.58  1367.06   \n",
       "2023-11-17  0.8857  6.1750      -0.1500       66.7  4295.72  1391.34   \n",
       "2023-11-24  0.8830  5.9850      -0.1225       65.7  4339.65  1406.33   \n",
       "2023-12-01  0.8692  6.4525      -0.1275       76.0  4381.11  1405.46   \n",
       "2023-12-08  0.8799  7.1825      -0.1075      152.7  4390.41  1426.97   \n",
       "\n",
       "            CHF2YSpread  USCHFCurvesSpread  \n",
       "Date                                        \n",
       "2007-03-02       2.1322            -24.852  \n",
       "2007-03-09       2.2311            -33.799  \n",
       "2007-03-16       2.1656            -26.736  \n",
       "2007-03-23       2.1328            -22.037  \n",
       "2007-03-30       2.1174            -25.704  \n",
       "...                 ...                ...  \n",
       "2023-11-10       3.6933             -8.692  \n",
       "2023-11-17       3.5475             -4.347  \n",
       "2023-11-24       3.5424             -3.625  \n",
       "2023-12-01       3.3894             11.844  \n",
       "2023-12-08       3.5319             -1.007  \n",
       "\n",
       "[876 rows x 8 columns]"
      ]
     },
     "execution_count": 58,
     "metadata": {},
     "output_type": "execute_result"
    }
   ],
   "source": [
    "df"
   ]
  },
  {
   "cell_type": "code",
   "execution_count": 51,
   "metadata": {
    "colab": {
     "base_uri": "https://localhost:8080/"
    },
    "id": "8Ix_xalzq9wQ",
    "outputId": "3cb981b9-e1ef-44c8-94c0-321d544f8939",
    "tags": []
   },
   "outputs": [
    {
     "data": {
      "text/html": [
       "<div>\n",
       "<style scoped>\n",
       "    .dataframe tbody tr th:only-of-type {\n",
       "        vertical-align: middle;\n",
       "    }\n",
       "\n",
       "    .dataframe tbody tr th {\n",
       "        vertical-align: top;\n",
       "    }\n",
       "\n",
       "    .dataframe thead th {\n",
       "        text-align: right;\n",
       "    }\n",
       "</style>\n",
       "<table border=\"1\" class=\"dataframe\">\n",
       "  <thead>\n",
       "    <tr style=\"text-align: right;\">\n",
       "      <th></th>\n",
       "      <th>USDCHF</th>\n",
       "      <th>USCN-EQ-SPREAD</th>\n",
       "      <th>CHFV1M</th>\n",
       "      <th>USDCHF25R1M</th>\n",
       "      <th>ECOSPREAD</th>\n",
       "      <th>CHF2YSpread</th>\n",
       "      <th>USCHFCurvesSpread</th>\n",
       "      <th>MACross</th>\n",
       "    </tr>\n",
       "    <tr>\n",
       "      <th>Date</th>\n",
       "      <th></th>\n",
       "      <th></th>\n",
       "      <th></th>\n",
       "      <th></th>\n",
       "      <th></th>\n",
       "      <th></th>\n",
       "      <th></th>\n",
       "      <th></th>\n",
       "    </tr>\n",
       "  </thead>\n",
       "  <tbody>\n",
       "    <tr>\n",
       "      <th>2009-01-02</th>\n",
       "      <td>1</td>\n",
       "      <td>1</td>\n",
       "      <td>1</td>\n",
       "      <td>1</td>\n",
       "      <td>-1</td>\n",
       "      <td>1</td>\n",
       "      <td>1</td>\n",
       "      <td>-1</td>\n",
       "    </tr>\n",
       "    <tr>\n",
       "      <th>2009-01-09</th>\n",
       "      <td>1</td>\n",
       "      <td>-1</td>\n",
       "      <td>-1</td>\n",
       "      <td>1</td>\n",
       "      <td>1</td>\n",
       "      <td>-1</td>\n",
       "      <td>1</td>\n",
       "      <td>-1</td>\n",
       "    </tr>\n",
       "    <tr>\n",
       "      <th>2009-01-16</th>\n",
       "      <td>1</td>\n",
       "      <td>1</td>\n",
       "      <td>-1</td>\n",
       "      <td>-1</td>\n",
       "      <td>1</td>\n",
       "      <td>1</td>\n",
       "      <td>-1</td>\n",
       "      <td>1</td>\n",
       "    </tr>\n",
       "    <tr>\n",
       "      <th>2009-01-23</th>\n",
       "      <td>1</td>\n",
       "      <td>1</td>\n",
       "      <td>-1</td>\n",
       "      <td>1</td>\n",
       "      <td>1</td>\n",
       "      <td>1</td>\n",
       "      <td>1</td>\n",
       "      <td>1</td>\n",
       "    </tr>\n",
       "    <tr>\n",
       "      <th>2009-01-30</th>\n",
       "      <td>1</td>\n",
       "      <td>-1</td>\n",
       "      <td>-1</td>\n",
       "      <td>-1</td>\n",
       "      <td>1</td>\n",
       "      <td>1</td>\n",
       "      <td>1</td>\n",
       "      <td>1</td>\n",
       "    </tr>\n",
       "    <tr>\n",
       "      <th>...</th>\n",
       "      <td>...</td>\n",
       "      <td>...</td>\n",
       "      <td>...</td>\n",
       "      <td>...</td>\n",
       "      <td>...</td>\n",
       "      <td>...</td>\n",
       "      <td>...</td>\n",
       "      <td>...</td>\n",
       "    </tr>\n",
       "    <tr>\n",
       "      <th>2023-11-10</th>\n",
       "      <td>1</td>\n",
       "      <td>1</td>\n",
       "      <td>-1</td>\n",
       "      <td>1</td>\n",
       "      <td>-1</td>\n",
       "      <td>1</td>\n",
       "      <td>-1</td>\n",
       "      <td>1</td>\n",
       "    </tr>\n",
       "    <tr>\n",
       "      <th>2023-11-17</th>\n",
       "      <td>-1</td>\n",
       "      <td>1</td>\n",
       "      <td>-1</td>\n",
       "      <td>-1</td>\n",
       "      <td>-1</td>\n",
       "      <td>-1</td>\n",
       "      <td>1</td>\n",
       "      <td>-1</td>\n",
       "    </tr>\n",
       "    <tr>\n",
       "      <th>2023-11-24</th>\n",
       "      <td>-1</td>\n",
       "      <td>-1</td>\n",
       "      <td>-1</td>\n",
       "      <td>1</td>\n",
       "      <td>-1</td>\n",
       "      <td>-1</td>\n",
       "      <td>1</td>\n",
       "      <td>-1</td>\n",
       "    </tr>\n",
       "    <tr>\n",
       "      <th>2023-12-01</th>\n",
       "      <td>-1</td>\n",
       "      <td>1</td>\n",
       "      <td>1</td>\n",
       "      <td>-1</td>\n",
       "      <td>1</td>\n",
       "      <td>-1</td>\n",
       "      <td>1</td>\n",
       "      <td>-1</td>\n",
       "    </tr>\n",
       "    <tr>\n",
       "      <th>2023-12-08</th>\n",
       "      <td>1</td>\n",
       "      <td>-1</td>\n",
       "      <td>1</td>\n",
       "      <td>1</td>\n",
       "      <td>1</td>\n",
       "      <td>1</td>\n",
       "      <td>-1</td>\n",
       "      <td>-1</td>\n",
       "    </tr>\n",
       "  </tbody>\n",
       "</table>\n",
       "<p>780 rows × 8 columns</p>\n",
       "</div>"
      ],
      "text/plain": [
       "            USDCHF  USCN-EQ-SPREAD  CHFV1M  USDCHF25R1M  ECOSPREAD  \\\n",
       "Date                                                                 \n",
       "2009-01-02       1               1       1            1         -1   \n",
       "2009-01-09       1              -1      -1            1          1   \n",
       "2009-01-16       1               1      -1           -1          1   \n",
       "2009-01-23       1               1      -1            1          1   \n",
       "2009-01-30       1              -1      -1           -1          1   \n",
       "...            ...             ...     ...          ...        ...   \n",
       "2023-11-10       1               1      -1            1         -1   \n",
       "2023-11-17      -1               1      -1           -1         -1   \n",
       "2023-11-24      -1              -1      -1            1         -1   \n",
       "2023-12-01      -1               1       1           -1          1   \n",
       "2023-12-08       1              -1       1            1          1   \n",
       "\n",
       "            CHF2YSpread  USCHFCurvesSpread  MACross  \n",
       "Date                                                 \n",
       "2009-01-02            1                  1       -1  \n",
       "2009-01-09           -1                  1       -1  \n",
       "2009-01-16            1                 -1        1  \n",
       "2009-01-23            1                  1        1  \n",
       "2009-01-30            1                  1        1  \n",
       "...                 ...                ...      ...  \n",
       "2023-11-10            1                 -1        1  \n",
       "2023-11-17           -1                  1       -1  \n",
       "2023-11-24           -1                  1       -1  \n",
       "2023-12-01           -1                  1       -1  \n",
       "2023-12-08            1                 -1       -1  \n",
       "\n",
       "[780 rows x 8 columns]"
      ]
     },
     "execution_count": 51,
     "metadata": {},
     "output_type": "execute_result"
    }
   ],
   "source": [
    "# Classification\n",
    "\n",
    "def replace_values(val):\n",
    "    if val > 0:\n",
    "        return 1\n",
    "    elif val < 0:\n",
    "        return -1\n",
    "    else:\n",
    "        return 0\n",
    "\n",
    "# Apply the function to each element in the DataFrame\n",
    "df_binary = df_combined.applymap(replace_values)\n",
    "\n",
    "df_binary\n"
   ]
  },
  {
   "cell_type": "code",
   "execution_count": 52,
   "metadata": {
    "tags": []
   },
   "outputs": [
    {
     "name": "stdout",
     "output_type": "stream",
     "text": [
      "Accuracy: 0.532051282051282\n"
     ]
    },
    {
     "name": "stderr",
     "output_type": "stream",
     "text": [
      "C:\\ProgramData\\anaconda3\\Lib\\site-packages\\sklearn\\metrics\\_classification.py:1469: UndefinedMetricWarning:\n",
      "\n",
      "Precision and F-score are ill-defined and being set to 0.0 in labels with no predicted samples. Use `zero_division` parameter to control this behavior.\n",
      "\n",
      "C:\\ProgramData\\anaconda3\\Lib\\site-packages\\sklearn\\metrics\\_classification.py:1469: UndefinedMetricWarning:\n",
      "\n",
      "Precision and F-score are ill-defined and being set to 0.0 in labels with no predicted samples. Use `zero_division` parameter to control this behavior.\n",
      "\n",
      "C:\\ProgramData\\anaconda3\\Lib\\site-packages\\sklearn\\metrics\\_classification.py:1469: UndefinedMetricWarning:\n",
      "\n",
      "Precision and F-score are ill-defined and being set to 0.0 in labels with no predicted samples. Use `zero_division` parameter to control this behavior.\n",
      "\n"
     ]
    }
   ],
   "source": [
    "#adding some comments here as well,can git finds it out\n",
    "\n",
    "x=df_binary.drop(columns=['USDCHF']).shift(1).dropna()\n",
    "\n",
    "y=df_binary['USDCHF'][1:]\n",
    "\n",
    "x_train, x_test, y_train, y_test = train_test_split(x, y, test_size=0.4, shuffle=False,random_state=42)\n",
    "\n",
    "model = DecisionTreeClassifier(criterion='gini',max_depth=4, random_state=0)\n",
    "\n",
    "model.fit(x_train, y_train)\n",
    "\n",
    "y_pred = model.predict(x_test)\n",
    "\n",
    "accuracy=accuracy_score(y_test,y_pred)\n",
    "\n",
    "print(\"Accuracy:\", accuracy)"
   ]
  },
  {
   "cell_type": "code",
   "execution_count": 37,
   "metadata": {
    "tags": []
   },
   "outputs": [
    {
     "data": {
      "text/plain": [
       "<Axes: title={'center': 'Training Target: 467 Samples'}, xlabel='USDCHF'>"
      ]
     },
     "execution_count": 37,
     "metadata": {},
     "output_type": "execute_result"
    },
    {
     "data": {
      "image/png": "[encoded data removed]",
      "text/plain": [
       "<Figure size 640x480 with 1 Axes>"
      ]
     },
     "metadata": {},
     "output_type": "display_data"
    }
   ],
   "source": [
    "y_train.value_counts().plot(kind='bar',title='Training Target: 467 Samples')\n"
   ]
  },
  {
   "cell_type": "code",
   "execution_count": 38,
   "metadata": {
    "tags": []
   },
   "outputs": [
    {
     "data": {
      "text/plain": [
       "USDCHF\n",
       " 1    238\n",
       "-1    229\n",
       "Name: count, dtype: int64"
      ]
     },
     "execution_count": 38,
     "metadata": {},
     "output_type": "execute_result"
    }
   ],
   "source": [
    "y_train.value_counts()"
   ]
  },
  {
   "cell_type": "code",
   "execution_count": 31,
   "metadata": {
    "tags": []
   },
   "outputs": [
    {
     "data": {
      "text/plain": [
       "(312, 7)"
      ]
     },
     "execution_count": 31,
     "metadata": {},
     "output_type": "execute_result"
    }
   ],
   "source": []
  },
  {
   "cell_type": "code",
   "execution_count": 53,
   "metadata": {
    "colab": {
     "base_uri": "https://localhost:8080/",
     "height": 542
    },
    "id": "yrARDuaG-6cg",
    "outputId": "d288a6da-1815-434c-fd7a-1dd33a2136c0",
    "tags": []
   },
   "outputs": [
    {
     "data": {
      "application/vnd.plotly.v1+json": {
       "config": {
        "plotlyServerURL": "https://plot.ly"
       },
       "data": [
        {
         "hovertemplate": "variable=USDCHF_Cumulative_Return<br>index=%{x}<br>value=%{y}<extra></extra>",
         "legendgroup": "USDCHF_Cumulative_Return",
         "line": {
          "color": "#636efa",
          "dash": "solid"
         },
         "marker": {
          "symbol": "circle"
         },
         "mode": "lines",
         "name": "USDCHF_Cumulative_Return",
         "orientation": "v",
         "showlegend": true,
         "type": "scatter",
         "x": [
          "2017-12-22T00:00:00",
          "2017-12-29T00:00:00",
          "2018-01-05T00:00:00",
          "2018-01-12T00:00:00",
          "2018-01-19T00:00:00",
          "2018-01-26T00:00:00",
          "2018-02-02T00:00:00",
          "2018-02-09T00:00:00",
          "2018-02-16T00:00:00",
          "2018-02-23T00:00:00",
          "2018-03-02T00:00:00",
          "2018-03-09T00:00:00",
          "2018-03-16T00:00:00",
          "2018-03-23T00:00:00",
          "2018-03-30T00:00:00",
          "2018-04-06T00:00:00",
          "2018-04-13T00:00:00",
          "2018-04-20T00:00:00",
          "2018-04-27T00:00:00",
          "2018-05-04T00:00:00",
          "2018-05-11T00:00:00",
          "2018-05-18T00:00:00",
          "2018-05-25T00:00:00",
          "2018-06-01T00:00:00",
          "2018-06-08T00:00:00",
          "2018-06-15T00:00:00",
          "2018-06-22T00:00:00",
          "2018-06-29T00:00:00",
          "2018-07-06T00:00:00",
          "2018-07-13T00:00:00",
          "2018-07-20T00:00:00",
          "2018-07-27T00:00:00",
          "2018-08-03T00:00:00",
          "2018-08-10T00:00:00",
          "2018-08-17T00:00:00",
          "2018-08-24T00:00:00",
          "2018-08-31T00:00:00",
          "2018-09-07T00:00:00",
          "2018-09-14T00:00:00",
          "2018-09-21T00:00:00",
          "2018-09-28T00:00:00",
          "2018-10-05T00:00:00",
          "2018-10-12T00:00:00",
          "2018-10-19T00:00:00",
          "2018-10-26T00:00:00",
          "2018-11-02T00:00:00",
          "2018-11-09T00:00:00",
          "2018-11-16T00:00:00",
          "2018-11-23T00:00:00",
          "2018-11-30T00:00:00",
          "2018-12-07T00:00:00",
          "2018-12-14T00:00:00",
          "2018-12-21T00:00:00",
          "2018-12-28T00:00:00",
          "2019-01-04T00:00:00",
          "2019-01-11T00:00:00",
          "2019-01-18T00:00:00",
          "2019-01-25T00:00:00",
          "2019-02-01T00:00:00",
          "2019-02-08T00:00:00",
          "2019-02-15T00:00:00",
          "2019-02-22T00:00:00",
          "2019-03-01T00:00:00",
          "2019-03-08T00:00:00",
          "2019-03-15T00:00:00",
          "2019-03-22T00:00:00",
          "2019-03-29T00:00:00",
          "2019-04-05T00:00:00",
          "2019-04-12T00:00:00",
          "2019-04-19T00:00:00",
          "2019-04-26T00:00:00",
          "2019-05-03T00:00:00",
          "2019-05-10T00:00:00",
          "2019-05-17T00:00:00",
          "2019-05-24T00:00:00",
          "2019-05-31T00:00:00",
          "2019-06-07T00:00:00",
          "2019-06-14T00:00:00",
          "2019-06-21T00:00:00",
          "2019-06-28T00:00:00",
          "2019-07-05T00:00:00",
          "2019-07-12T00:00:00",
          "2019-07-19T00:00:00",
          "2019-07-26T00:00:00",
          "2019-08-02T00:00:00",
          "2019-08-09T00:00:00",
          "2019-08-16T00:00:00",
          "2019-08-23T00:00:00",
          "2019-08-30T00:00:00",
          "2019-09-06T00:00:00",
          "2019-09-13T00:00:00",
          "2019-09-20T00:00:00",
          "2019-09-27T00:00:00",
          "2019-10-04T00:00:00",
          "2019-10-11T00:00:00",
          "2019-10-18T00:00:00",
          "2019-10-25T00:00:00",
          "2019-11-01T00:00:00",
          "2019-11-08T00:00:00",
          "2019-11-15T00:00:00",
          "2019-11-22T00:00:00",
          "2019-11-29T00:00:00",
          "2019-12-06T00:00:00",
          "2019-12-13T00:00:00",
          "2019-12-20T00:00:00",
          "2019-12-27T00:00:00",
          "2020-01-03T00:00:00",
          "2020-01-10T00:00:00",
          "2020-01-17T00:00:00",
          "2020-01-24T00:00:00",
          "2020-01-31T00:00:00",
          "2020-02-07T00:00:00",
          "2020-02-14T00:00:00",
          "2020-02-21T00:00:00",
          "2020-02-28T00:00:00",
          "2020-03-06T00:00:00",
          "2020-03-13T00:00:00",
          "2020-03-20T00:00:00",
          "2020-03-27T00:00:00",
          "2020-04-03T00:00:00",
          "2020-04-10T00:00:00",
          "2020-04-17T00:00:00",
          "2020-04-24T00:00:00",
          "2020-05-01T00:00:00",
          "2020-05-08T00:00:00",
          "2020-05-15T00:00:00",
          "2020-05-22T00:00:00",
          "2020-05-29T00:00:00",
          "2020-06-05T00:00:00",
          "2020-06-12T00:00:00",
          "2020-06-19T00:00:00",
          "2020-06-26T00:00:00",
          "2020-07-03T00:00:00",
          "2020-07-10T00:00:00",
          "2020-07-17T00:00:00",
          "2020-07-24T00:00:00",
          "2020-07-31T00:00:00",
          "2020-08-07T00:00:00",
          "2020-08-14T00:00:00",
          "2020-08-21T00:00:00",
          "2020-08-28T00:00:00",
          "2020-09-04T00:00:00",
          "2020-09-11T00:00:00",
          "2020-09-18T00:00:00",
          "2020-09-25T00:00:00",
          "2020-10-02T00:00:00",
          "2020-10-09T00:00:00",
          "2020-10-16T00:00:00",
          "2020-10-23T00:00:00",
          "2020-10-30T00:00:00",
          "2020-11-06T00:00:00",
          "2020-11-13T00:00:00",
          "2020-11-20T00:00:00",
          "2020-11-27T00:00:00",
          "2020-12-04T00:00:00",
          "2020-12-11T00:00:00",
          "2020-12-18T00:00:00",
          "2020-12-25T00:00:00",
          "2021-01-01T00:00:00",
          "2021-01-08T00:00:00",
          "2021-01-15T00:00:00",
          "2021-01-22T00:00:00",
          "2021-01-29T00:00:00",
          "2021-02-05T00:00:00",
          "2021-02-12T00:00:00",
          "2021-02-19T00:00:00",
          "2021-02-26T00:00:00",
          "2021-03-05T00:00:00",
          "2021-03-12T00:00:00",
          "2021-03-19T00:00:00",
          "2021-03-26T00:00:00",
          "2021-04-02T00:00:00",
          "2021-04-09T00:00:00",
          "2021-04-16T00:00:00",
          "2021-04-23T00:00:00",
          "2021-04-30T00:00:00",
          "2021-05-07T00:00:00",
          "2021-05-14T00:00:00",
          "2021-05-21T00:00:00",
          "2021-05-28T00:00:00",
          "2021-06-04T00:00:00",
          "2021-06-11T00:00:00",
          "2021-06-18T00:00:00",
          "2021-06-25T00:00:00",
          "2021-07-02T00:00:00",
          "2021-07-09T00:00:00",
          "2021-07-16T00:00:00",
          "2021-07-23T00:00:00",
          "2021-07-30T00:00:00",
          "2021-08-06T00:00:00",
          "2021-08-13T00:00:00",
          "2021-08-20T00:00:00",
          "2021-08-27T00:00:00",
          "2021-09-03T00:00:00",
          "2021-09-10T00:00:00",
          "2021-09-17T00:00:00",
          "2021-09-24T00:00:00",
          "2021-10-01T00:00:00",
          "2021-10-08T00:00:00",
          "2021-10-15T00:00:00",
          "2021-10-22T00:00:00",
          "2021-10-29T00:00:00",
          "2021-11-05T00:00:00",
          "2021-11-12T00:00:00",
          "2021-11-19T00:00:00",
          "2021-11-26T00:00:00",
          "2021-12-03T00:00:00",
          "2021-12-10T00:00:00",
          "2021-12-17T00:00:00",
          "2021-12-24T00:00:00",
          "2021-12-31T00:00:00",
          "2022-01-07T00:00:00",
          "2022-01-14T00:00:00",
          "2022-01-21T00:00:00",
          "2022-01-28T00:00:00",
          "2022-02-04T00:00:00",
          "2022-02-11T00:00:00",
          "2022-02-18T00:00:00",
          "2022-02-25T00:00:00",
          "2022-03-04T00:00:00",
          "2022-03-11T00:00:00",
          "2022-03-18T00:00:00",
          "2022-03-25T00:00:00",
          "2022-04-01T00:00:00",
          "2022-04-08T00:00:00",
          "2022-04-15T00:00:00",
          "2022-04-22T00:00:00",
          "2022-04-29T00:00:00",
          "2022-05-06T00:00:00",
          "2022-05-13T00:00:00",
          "2022-05-20T00:00:00",
          "2022-05-27T00:00:00",
          "2022-06-03T00:00:00",
          "2022-06-10T00:00:00",
          "2022-06-17T00:00:00",
          "2022-06-24T00:00:00",
          "2022-07-01T00:00:00",
          "2022-07-08T00:00:00",
          "2022-07-15T00:00:00",
          "2022-07-22T00:00:00",
          "2022-07-29T00:00:00",
          "2022-08-05T00:00:00",
          "2022-08-12T00:00:00",
          "2022-08-19T00:00:00",
          "2022-08-26T00:00:00",
          "2022-09-02T00:00:00",
          "2022-09-09T00:00:00",
          "2022-09-16T00:00:00",
          "2022-09-23T00:00:00",
          "2022-09-30T00:00:00",
          "2022-10-07T00:00:00",
          "2022-10-14T00:00:00",
          "2022-10-21T00:00:00",
          "2022-10-28T00:00:00",
          "2022-11-04T00:00:00",
          "2022-11-11T00:00:00",
          "2022-11-18T00:00:00",
          "2022-11-25T00:00:00",
          "2022-12-02T00:00:00",
          "2022-12-09T00:00:00",
          "2022-12-16T00:00:00",
          "2022-12-23T00:00:00",
          "2022-12-30T00:00:00",
          "2023-01-06T00:00:00",
          "2023-01-13T00:00:00",
          "2023-01-20T00:00:00",
          "2023-01-27T00:00:00",
          "2023-02-03T00:00:00",
          "2023-02-10T00:00:00",
          "2023-02-17T00:00:00",
          "2023-02-24T00:00:00",
          "2023-03-03T00:00:00",
          "2023-03-10T00:00:00",
          "2023-03-17T00:00:00",
          "2023-03-24T00:00:00",
          "2023-03-31T00:00:00",
          "2023-04-07T00:00:00",
          "2023-04-14T00:00:00",
          "2023-04-21T00:00:00",
          "2023-04-28T00:00:00",
          "2023-05-05T00:00:00",
          "2023-05-12T00:00:00",
          "2023-05-19T00:00:00",
          "2023-05-26T00:00:00",
          "2023-06-02T00:00:00",
          "2023-06-09T00:00:00",
          "2023-06-16T00:00:00",
          "2023-06-23T00:00:00",
          "2023-06-30T00:00:00",
          "2023-07-07T00:00:00",
          "2023-07-14T00:00:00",
          "2023-07-21T00:00:00",
          "2023-07-28T00:00:00",
          "2023-08-04T00:00:00",
          "2023-08-11T00:00:00",
          "2023-08-18T00:00:00",
          "2023-08-25T00:00:00",
          "2023-09-01T00:00:00",
          "2023-09-08T00:00:00",
          "2023-09-15T00:00:00",
          "2023-09-22T00:00:00",
          "2023-09-29T00:00:00",
          "2023-10-06T00:00:00",
          "2023-10-13T00:00:00",
          "2023-10-20T00:00:00",
          "2023-10-27T00:00:00",
          "2023-11-03T00:00:00",
          "2023-11-10T00:00:00",
          "2023-11-17T00:00:00",
          "2023-11-24T00:00:00",
          "2023-12-01T00:00:00",
          "2023-12-08T00:00:00"
         ],
         "xaxis": "x",
         "y": [
          100,
          98.61336032388664,
          98.65441544038053,
          97.89520747895651,
          97.42999503193901,
          94.27253761606865,
          94.16528750881852,
          94.93831735635986,
          93.7024341260168,
          94.6840953989402,
          94.82296945085773,
          96.30579428550676,
          96.37937780279888,
          95.89618452548795,
          96.59282797070645,
          97.127419165675,
          97.45063885079648,
          98.73935221600121,
          100.08349340212885,
          101.32881080619892,
          101.3088108061989,
          101.12877479899747,
          100.42737199338625,
          100.14482910741248,
          99.89184388174967,
          101.09910775513914,
          100.14682226997473,
          100.39983309883822,
          100.26859950303769,
          101.52201100612069,
          100.58360629413107,
          100.80531343914771,
          100.76509222245589,
          100.87574507428165,
          100.93603446334917,
          99.7008466746366,
          98.21635252110329,
          98.24731546877591,
          98.16477316584566,
          97.16312095601502,
          99.56220304634567,
          100.6114034130565,
          100.70212921950811,
          101.01434595835391,
          101.11474756477962,
          101.76670343238243,
          101.97597099591007,
          101.40914522025375,
          101.1591202177535,
          101.2092505566346,
          100.6180089492591,
          101.22284765893653,
          100.8020059755698,
          99.87626639014013,
          100.18095865095671,
          99.76581081782588,
          100.97577523063727,
          100.8250820419694,
          100.996125406493,
          101.48829093481763,
          101.95805605225893,
          101.48053914020161,
          101.37058312260865,
          102.26120655901414,
          101.6561678762131,
          100.80794913556846,
          100.96897973138167,
          101.48143953845562,
          101.69137655734995,
          102.90845556772504,
          103.40126061404874,
          103.10702758148695,
          102.6348654724962,
          102.5557984632058,
          101.68537314174192,
          101.52572436904185,
          100.23649790492034,
          101.38056999158633,
          99.12831773933407,
          99.10783642853018,
          100.67497767609753,
          99.92870901938112,
          99.69501668042562,
          100.84584670384959,
          99.75845242273805,
          98.77107457257517,
          99.34679164875486,
          98.93791911476735,
          100.59038755364654,
          100.29757656818612,
          100.59124745426206,
          100.64173210692766,
          100.64173210692766,
          101.13623205646849,
          101.29690689077255,
          100.09377875762638,
          101.03755793359554,
          100.1327625178923,
          101.31973624214918,
          100.57780722670903,
          101.3454839943858,
          101.60610949558867,
          100.67629545839611,
          100.00014246616682,
          99.85789495549827,
          99.06424416184745,
          98.84885954646285,
          98.81802390045607,
          98.33478310259466,
          98.71705399834835,
          97.87308528694449,
          99.35741163114213,
          99.82790360209435,
          99.41051583868196,
          98.05087568329452,
          95.29411332450086,
          96.72222799997779,
          100.42087253081733,
          96.85414844529701,
          99.54407174045305,
          98.40828948321371,
          98.44968877942567,
          99.11180340802073,
          97.91961430216257,
          98.94936258591544,
          98.96995354648374,
          98.93907346413684,
          97.95060558934277,
          98.02340093044094,
          96.99461572832102,
          96.98411593831682,
          96.50107487982685,
          96.30058949415627,
          95.81422874135443,
          95.53798564743177,
          93.62023580724426,
          92.78382477096358,
          92.729054259407,
          92.36737078724566,
          92.64236803727314,
          91.83060849361365,
          92.85914200389898,
          92.35558425896194,
          92.65264664206238,
          94.48459047707775,
          93.6551172464411,
          92.57973162836592,
          93.04091533320836,
          91.89324892157867,
          93.28643777606786,
          91.37804082950296,
          92.84552276391096,
          92.69213172633016,
          92.14346498650792,
          90.5876887534725,
          90.36352376804322,
          89.63335077321062,
          90.3236302798305,
          89.90780649920563,
          89.84009405140064,
          90.46121206382301,
          89.85515145776242,
          90.38586509823214,
          91.36306379530055,
          90.57329738818153,
          91.06662623670715,
          92.42777763690798,
          94.70625864956622,
          94.81387810716416,
          94.66337283947979,
          95.77233063448409,
          96.1130824181067,
          94.1922504113148,
          93.74862349073484,
          93.08565207458443,
          92.98718380324962,
          91.64012433550239,
          91.7067317955379,
          91.31844690536705,
          91.541188858814,
          91.48562712973299,
          91.36332337167205,
          93.95711163839809,
          93.49053177728698,
          93.88298789851231,
          93.2097334734933,
          93.72356314442368,
          93.72356314442368,
          92.2552142212129,
          93.23766261507535,
          93.32511342399533,
          93.48894042268473,
          92.85651211606604,
          93.08695214679138,
          93.54677259785335,
          95.14877782889083,
          94.34431574587033,
          95.02554411957277,
          94.63890466086801,
          94.14294778755264,
          93.37363366901324,
          93.40639191317136,
          93.03525339117594,
          93.99942562739815,
          94.68309356011653,
          94.17651886729482,
          93.53736817939534,
          93.98438082658244,
          94.2123196087381,
          93.74664926002681,
          93.07207630822614,
          93.71836834459376,
          93.19594779605218,
          92.92242482012219,
          95.00690095835589,
          94.48030235545421,
          94.5127137642701,
          94.03750045829754,
          94.43901972037024,
          93.52029944367331,
          95.42932093380094,
          95.17241663065386,
          94.97924212968799,
          94.59214535549444,
          95.44490874064125,
          96.3867903632464,
          97.91366980339062,
          99.40714238824701,
          101.1770538926718,
          102.41062315455248,
          99.75381132874345,
          97.92742101476848,
          98.48135078065476,
          101.17337863638703,
          99.34139483071901,
          98.14539524313267,
          98.43757931910052,
          100.1127431938274,
          100.1127431938274,
          98.6493784783137,
          97.55892256388852,
          98.51440345427072,
          96.44472066695921,
          98.31387954546389,
          98.99152758549725,
          100.5965809146885,
          98.57864369495756,
          98.95309761632222,
          100.69403025880928,
          101.22366969657664,
          101.97341640377016,
          103.07961109403566,
          102.32369305146553,
          102.12325208133123,
          102.0529568413232,
          96.68666199658396,
          98.06714410341205,
          97.14538857811614,
          96.22562961839525,
          95.90552718561676,
          95.85200545579444,
          95.79845506487659,
          94.86617902544239,
          95.23394538563707,
          95.12617515177567,
          94.4464901803656,
          94.48994010432823,
          95.043686032667,
          94.79533272308919,
          94.94688067719183,
          96.5897687014028,
          96.14315024117312,
          94.48752110210026,
          95.07403136602987,
          94.39375925718633,
          93.90452246657968,
          92.82290988054231,
          91.53066335966757,
          91.37401123926922,
          91.6317720820351,
          91.21817941492132,
          91.95900330087935,
          92.20412864906878,
          92.87101761205643,
          93.24641785496249,
          92.60842423489868,
          91.55672491020036,
          91.91474683904349,
          91.75867103079376,
          90.98823780167362,
          87.98384936913169,
          88.42468463595304,
          88.88668509795352,
          89.19710128558286,
          89.67847664374905,
          90.2830163950893,
          90.58913884406891,
          90.63435191064514,
          91.5382045826596,
          91.96368885093865,
          93.04519180556011,
          94.00482119007368,
          93.40392530894181,
          92.54659402734146,
          91.4490330517317,
          92.59240262913335,
          92.20450503409845,
          92.63841691660845,
          90.7551777452337,
          90.45033411872359,
          88.88748021158881,
          90.11849723874022
         ],
         "yaxis": "y"
        },
        {
         "hovertemplate": "variable=Strategy_Cumulative_Return<br>index=%{x}<br>value=%{y}<extra></extra>",
         "legendgroup": "Strategy_Cumulative_Return",
         "line": {
          "color": "#EF553B",
          "dash": "solid"
         },
         "marker": {
          "symbol": "circle"
         },
         "mode": "lines",
         "name": "Strategy_Cumulative_Return",
         "orientation": "v",
         "showlegend": true,
         "type": "scatter",
         "x": [
          "2017-12-22T00:00:00",
          "2017-12-29T00:00:00",
          "2018-01-05T00:00:00",
          "2018-01-12T00:00:00",
          "2018-01-19T00:00:00",
          "2018-01-26T00:00:00",
          "2018-02-02T00:00:00",
          "2018-02-09T00:00:00",
          "2018-02-16T00:00:00",
          "2018-02-23T00:00:00",
          "2018-03-02T00:00:00",
          "2018-03-09T00:00:00",
          "2018-03-16T00:00:00",
          "2018-03-23T00:00:00",
          "2018-03-30T00:00:00",
          "2018-04-06T00:00:00",
          "2018-04-13T00:00:00",
          "2018-04-20T00:00:00",
          "2018-04-27T00:00:00",
          "2018-05-04T00:00:00",
          "2018-05-11T00:00:00",
          "2018-05-18T00:00:00",
          "2018-05-25T00:00:00",
          "2018-06-01T00:00:00",
          "2018-06-08T00:00:00",
          "2018-06-15T00:00:00",
          "2018-06-22T00:00:00",
          "2018-06-29T00:00:00",
          "2018-07-06T00:00:00",
          "2018-07-13T00:00:00",
          "2018-07-20T00:00:00",
          "2018-07-27T00:00:00",
          "2018-08-03T00:00:00",
          "2018-08-10T00:00:00",
          "2018-08-17T00:00:00",
          "2018-08-24T00:00:00",
          "2018-08-31T00:00:00",
          "2018-09-07T00:00:00",
          "2018-09-14T00:00:00",
          "2018-09-21T00:00:00",
          "2018-09-28T00:00:00",
          "2018-10-05T00:00:00",
          "2018-10-12T00:00:00",
          "2018-10-19T00:00:00",
          "2018-10-26T00:00:00",
          "2018-11-02T00:00:00",
          "2018-11-09T00:00:00",
          "2018-11-16T00:00:00",
          "2018-11-23T00:00:00",
          "2018-11-30T00:00:00",
          "2018-12-07T00:00:00",
          "2018-12-14T00:00:00",
          "2018-12-21T00:00:00",
          "2018-12-28T00:00:00",
          "2019-01-04T00:00:00",
          "2019-01-11T00:00:00",
          "2019-01-18T00:00:00",
          "2019-01-25T00:00:00",
          "2019-02-01T00:00:00",
          "2019-02-08T00:00:00",
          "2019-02-15T00:00:00",
          "2019-02-22T00:00:00",
          "2019-03-01T00:00:00",
          "2019-03-08T00:00:00",
          "2019-03-15T00:00:00",
          "2019-03-22T00:00:00",
          "2019-03-29T00:00:00",
          "2019-04-05T00:00:00",
          "2019-04-12T00:00:00",
          "2019-04-19T00:00:00",
          "2019-04-26T00:00:00",
          "2019-05-03T00:00:00",
          "2019-05-10T00:00:00",
          "2019-05-17T00:00:00",
          "2019-05-24T00:00:00",
          "2019-05-31T00:00:00",
          "2019-06-07T00:00:00",
          "2019-06-14T00:00:00",
          "2019-06-21T00:00:00",
          "2019-06-28T00:00:00",
          "2019-07-05T00:00:00",
          "2019-07-12T00:00:00",
          "2019-07-19T00:00:00",
          "2019-07-26T00:00:00",
          "2019-08-02T00:00:00",
          "2019-08-09T00:00:00",
          "2019-08-16T00:00:00",
          "2019-08-23T00:00:00",
          "2019-08-30T00:00:00",
          "2019-09-06T00:00:00",
          "2019-09-13T00:00:00",
          "2019-09-20T00:00:00",
          "2019-09-27T00:00:00",
          "2019-10-04T00:00:00",
          "2019-10-11T00:00:00",
          "2019-10-18T00:00:00",
          "2019-10-25T00:00:00",
          "2019-11-01T00:00:00",
          "2019-11-08T00:00:00",
          "2019-11-15T00:00:00",
          "2019-11-22T00:00:00",
          "2019-11-29T00:00:00",
          "2019-12-06T00:00:00",
          "2019-12-13T00:00:00",
          "2019-12-20T00:00:00",
          "2019-12-27T00:00:00",
          "2020-01-03T00:00:00",
          "2020-01-10T00:00:00",
          "2020-01-17T00:00:00",
          "2020-01-24T00:00:00",
          "2020-01-31T00:00:00",
          "2020-02-07T00:00:00",
          "2020-02-14T00:00:00",
          "2020-02-21T00:00:00",
          "2020-02-28T00:00:00",
          "2020-03-06T00:00:00",
          "2020-03-13T00:00:00",
          "2020-03-20T00:00:00",
          "2020-03-27T00:00:00",
          "2020-04-03T00:00:00",
          "2020-04-10T00:00:00",
          "2020-04-17T00:00:00",
          "2020-04-24T00:00:00",
          "2020-05-01T00:00:00",
          "2020-05-08T00:00:00",
          "2020-05-15T00:00:00",
          "2020-05-22T00:00:00",
          "2020-05-29T00:00:00",
          "2020-06-05T00:00:00",
          "2020-06-12T00:00:00",
          "2020-06-19T00:00:00",
          "2020-06-26T00:00:00",
          "2020-07-03T00:00:00",
          "2020-07-10T00:00:00",
          "2020-07-17T00:00:00",
          "2020-07-24T00:00:00",
          "2020-07-31T00:00:00",
          "2020-08-07T00:00:00",
          "2020-08-14T00:00:00",
          "2020-08-21T00:00:00",
          "2020-08-28T00:00:00",
          "2020-09-04T00:00:00",
          "2020-09-11T00:00:00",
          "2020-09-18T00:00:00",
          "2020-09-25T00:00:00",
          "2020-10-02T00:00:00",
          "2020-10-09T00:00:00",
          "2020-10-16T00:00:00",
          "2020-10-23T00:00:00",
          "2020-10-30T00:00:00",
          "2020-11-06T00:00:00",
          "2020-11-13T00:00:00",
          "2020-11-20T00:00:00",
          "2020-11-27T00:00:00",
          "2020-12-04T00:00:00",
          "2020-12-11T00:00:00",
          "2020-12-18T00:00:00",
          "2020-12-25T00:00:00",
          "2021-01-01T00:00:00",
          "2021-01-08T00:00:00",
          "2021-01-15T00:00:00",
          "2021-01-22T00:00:00",
          "2021-01-29T00:00:00",
          "2021-02-05T00:00:00",
          "2021-02-12T00:00:00",
          "2021-02-19T00:00:00",
          "2021-02-26T00:00:00",
          "2021-03-05T00:00:00",
          "2021-03-12T00:00:00",
          "2021-03-19T00:00:00",
          "2021-03-26T00:00:00",
          "2021-04-02T00:00:00",
          "2021-04-09T00:00:00",
          "2021-04-16T00:00:00",
          "2021-04-23T00:00:00",
          "2021-04-30T00:00:00",
          "2021-05-07T00:00:00",
          "2021-05-14T00:00:00",
          "2021-05-21T00:00:00",
          "2021-05-28T00:00:00",
          "2021-06-04T00:00:00",
          "2021-06-11T00:00:00",
          "2021-06-18T00:00:00",
          "2021-06-25T00:00:00",
          "2021-07-02T00:00:00",
          "2021-07-09T00:00:00",
          "2021-07-16T00:00:00",
          "2021-07-23T00:00:00",
          "2021-07-30T00:00:00",
          "2021-08-06T00:00:00",
          "2021-08-13T00:00:00",
          "2021-08-20T00:00:00",
          "2021-08-27T00:00:00",
          "2021-09-03T00:00:00",
          "2021-09-10T00:00:00",
          "2021-09-17T00:00:00",
          "2021-09-24T00:00:00",
          "2021-10-01T00:00:00",
          "2021-10-08T00:00:00",
          "2021-10-15T00:00:00",
          "2021-10-22T00:00:00",
          "2021-10-29T00:00:00",
          "2021-11-05T00:00:00",
          "2021-11-12T00:00:00",
          "2021-11-19T00:00:00",
          "2021-11-26T00:00:00",
          "2021-12-03T00:00:00",
          "2021-12-10T00:00:00",
          "2021-12-17T00:00:00",
          "2021-12-24T00:00:00",
          "2021-12-31T00:00:00",
          "2022-01-07T00:00:00",
          "2022-01-14T00:00:00",
          "2022-01-21T00:00:00",
          "2022-01-28T00:00:00",
          "2022-02-04T00:00:00",
          "2022-02-11T00:00:00",
          "2022-02-18T00:00:00",
          "2022-02-25T00:00:00",
          "2022-03-04T00:00:00",
          "2022-03-11T00:00:00",
          "2022-03-18T00:00:00",
          "2022-03-25T00:00:00",
          "2022-04-01T00:00:00",
          "2022-04-08T00:00:00",
          "2022-04-15T00:00:00",
          "2022-04-22T00:00:00",
          "2022-04-29T00:00:00",
          "2022-05-06T00:00:00",
          "2022-05-13T00:00:00",
          "2022-05-20T00:00:00",
          "2022-05-27T00:00:00",
          "2022-06-03T00:00:00",
          "2022-06-10T00:00:00",
          "2022-06-17T00:00:00",
          "2022-06-24T00:00:00",
          "2022-07-01T00:00:00",
          "2022-07-08T00:00:00",
          "2022-07-15T00:00:00",
          "2022-07-22T00:00:00",
          "2022-07-29T00:00:00",
          "2022-08-05T00:00:00",
          "2022-08-12T00:00:00",
          "2022-08-19T00:00:00",
          "2022-08-26T00:00:00",
          "2022-09-02T00:00:00",
          "2022-09-09T00:00:00",
          "2022-09-16T00:00:00",
          "2022-09-23T00:00:00",
          "2022-09-30T00:00:00",
          "2022-10-07T00:00:00",
          "2022-10-14T00:00:00",
          "2022-10-21T00:00:00",
          "2022-10-28T00:00:00",
          "2022-11-04T00:00:00",
          "2022-11-11T00:00:00",
          "2022-11-18T00:00:00",
          "2022-11-25T00:00:00",
          "2022-12-02T00:00:00",
          "2022-12-09T00:00:00",
          "2022-12-16T00:00:00",
          "2022-12-23T00:00:00",
          "2022-12-30T00:00:00",
          "2023-01-06T00:00:00",
          "2023-01-13T00:00:00",
          "2023-01-20T00:00:00",
          "2023-01-27T00:00:00",
          "2023-02-03T00:00:00",
          "2023-02-10T00:00:00",
          "2023-02-17T00:00:00",
          "2023-02-24T00:00:00",
          "2023-03-03T00:00:00",
          "2023-03-10T00:00:00",
          "2023-03-17T00:00:00",
          "2023-03-24T00:00:00",
          "2023-03-31T00:00:00",
          "2023-04-07T00:00:00",
          "2023-04-14T00:00:00",
          "2023-04-21T00:00:00",
          "2023-04-28T00:00:00",
          "2023-05-05T00:00:00",
          "2023-05-12T00:00:00",
          "2023-05-19T00:00:00",
          "2023-05-26T00:00:00",
          "2023-06-02T00:00:00",
          "2023-06-09T00:00:00",
          "2023-06-16T00:00:00",
          "2023-06-23T00:00:00",
          "2023-06-30T00:00:00",
          "2023-07-07T00:00:00",
          "2023-07-14T00:00:00",
          "2023-07-21T00:00:00",
          "2023-07-28T00:00:00",
          "2023-08-04T00:00:00",
          "2023-08-11T00:00:00",
          "2023-08-18T00:00:00",
          "2023-08-25T00:00:00",
          "2023-09-01T00:00:00",
          "2023-09-08T00:00:00",
          "2023-09-15T00:00:00",
          "2023-09-22T00:00:00",
          "2023-09-29T00:00:00",
          "2023-10-06T00:00:00",
          "2023-10-13T00:00:00",
          "2023-10-20T00:00:00",
          "2023-10-27T00:00:00",
          "2023-11-03T00:00:00",
          "2023-11-10T00:00:00",
          "2023-11-17T00:00:00",
          "2023-11-24T00:00:00",
          "2023-12-01T00:00:00",
          "2023-12-08T00:00:00"
         ],
         "xaxis": "x",
         "y": [
          100,
          101.35663967611336,
          101.36769479260724,
          100.60848683118321,
          100.14327438416574,
          103.27073180003612,
          103.13348169278599,
          103.90651154032733,
          105.11239477067039,
          106.0640560435938,
          106.20293009551132,
          104.69010526086228,
          104.7336887781544,
          105.18688205546533,
          105.85352550068382,
          105.28893430571527,
          105.58215399083674,
          104.26344062563201,
          102.91929943950437,
          104.13461684357443,
          104.12461684357443,
          103.91458083637298,
          104.5859836419842,
          104.86852652795797,
          104.58554130229516,
          105.79280517568463,
          106.71509066084903,
          106.93810148971252,
          106.806867893912,
          108.060279396995,
          107.12187468500537,
          107.343581830022,
          107.35380304671382,
          107.24315019488806,
          107.18286080582052,
          108.41804859453312,
          106.90355444099981,
          106.93451738867243,
          106.8519750857422,
          105.85032287591154,
          108.24940496624221,
          107.17020459953139,
          107.23093040598302,
          106.88871366713721,
          106.95911527356292,
          107.61107114116572,
          107.82033870469338,
          107.25351292903704,
          107.00348792653679,
          106.92335758765569,
          106.30211598028019,
          106.90695468995762,
          107.29779637332436,
          108.22353595875401,
          107.91884369793745,
          107.47369586480661,
          106.23373145199524,
          106.05303826332737,
          105.85199489880377,
          105.35982937047913,
          105.79959448792043,
          106.24711139997775,
          106.10715538238479,
          105.1865319459793,
          104.55149326317827,
          103.70327452253363,
          103.51224392672042,
          102.99978411964648,
          103.1797211385408,
          104.3968001489159,
          104.8896051952396,
          104.59537216267779,
          104.12321005368705,
          104.17227706297743,
          103.27185174151354,
          103.11220296881349,
          104.371429432935,
          103.22735734626903,
          105.47960959852128,
          105.50009090932518,
          107.03723215689254,
          107.75350081360895,
          107.98719315256444,
          109.10802317598842,
          110.16541745709998,
          109.1480396069371,
          109.7237566831168,
          109.31488414912928,
          110.96735258800847,
          111.23016357346889,
          111.49383445954483,
          111.54431911221043,
          111.54431911221043,
          112.03881906175125,
          111.8481442274472,
          113.05127236059336,
          112.10749318462422,
          111.17269776892098,
          112.35967149317784,
          111.6177424777377,
          110.82006571006093,
          111.0506912112638,
          110.12087717407124,
          110.76703016630054,
          110.59478265563199,
          111.35843344928278,
          111.5738180646674,
          111.51298241866063,
          111.02974162079923,
          111.4120125165529,
          110.56804380514905,
          109.0537174609514,
          109.49420943190364,
          109.07682166849125,
          110.40646182387869,
          107.61969946508503,
          109.04781414056195,
          112.7464586714015,
          116.28318275692182,
          113.59325946176578,
          114.72904171900512,
          114.68764242279316,
          115.31975705138822,
          114.12756794553006,
          113.06781966177721,
          113.0472287012089,
          113.07810878355579,
          114.06657665834986,
          113.99378131725169,
          112.93499611513178,
          112.92449632512756,
          113.37753738361755,
          113.57802276928811,
          114.06438352208997,
          114.34062661601263,
          116.25837645620012,
          117.09478749248082,
          117.01001698092423,
          116.6483335087629,
          116.92333075879039,
          116.1115712151309,
          115.05303770484556,
          114.51947995990852,
          114.19241757680808,
          115.99436141182346,
          116.79383464246011,
          117.86922026053529,
          117.40803655569283,
          118.55570296732253,
          119.91889182181171,
          118.01049487524682,
          119.47797680965482,
          119.60136784723561,
          120.15003458705785,
          118.56425835402243,
          118.7584233394517,
          117.9982503446191,
          117.2779708379992,
          116.83214705737433,
          116.76443460956935,
          116.11331659714698,
          116.71937720320757,
          116.18866356273784,
          115.21146486566944,
          116.00123127278846,
          115.50790242426284,
          114.14675102406201,
          116.39523203672024,
          116.5028514943182,
          116.62335676200257,
          117.70231455700687,
          118.04306634062948,
          119.93389834742138,
          119.46027142684142,
          118.79730001069099,
          118.6988317393562,
          120.01589120710344,
          120.05249866713893,
          120.41078355730978,
          120.60352551075673,
          120.5479637816757,
          120.42566002361478,
          117.80187175688876,
          117.30529189577766,
          116.88283577455232,
          117.55609019957133,
          117.04226052864095,
          117.04226052864095,
          118.51060945185174,
          119.4630578457142,
          119.3456070367942,
          119.18178003810482,
          118.51935173148613,
          118.25891170076078,
          117.79909124969882,
          119.3710964807363,
          118.5666343977158,
          117.85540602401338,
          117.43876656530861,
          116.94280969199325,
          116.17349557345385,
          116.20625381761195,
          116.54739233960737,
          117.48156457582958,
          116.76789664311119,
          117.27447133593292,
          117.91362202383239,
          118.33063467101948,
          118.55857345317514,
          118.09290310446386,
          117.41833015266319,
          118.0646221890308,
          118.55704273757237,
          118.83056571350235,
          120.88504185173603,
          120.35844324883438,
          120.29603184001849,
          120.77124514599105,
          121.14276440806375,
          120.22404413136681,
          122.13306562149445,
          122.35996992464155,
          122.5531444256074,
          122.13604765141386,
          121.25328426626703,
          122.1651658888722,
          123.6920453290164,
          125.18551791387279,
          123.385606409448,
          122.15203714756731,
          119.46522532175828,
          121.26161563573325,
          120.70768586984696,
          118.0156580141147,
          116.15367420844669,
          114.95767462086035,
          115.2498586968282,
          113.54469482210132,
          113.51469482210132,
          112.0513301065876,
          113.11178602101278,
          114.03726691139498,
          116.07694969870647,
          117.91610857721115,
          118.59375661724451,
          120.19880994643576,
          118.18087272670482,
          118.55532664806948,
          120.29625929055653,
          120.82589872832389,
          120.04615202113037,
          121.12234671139586,
          120.36642866882573,
          120.53686963896004,
          120.60716487896808,
          115.21087003422885,
          113.80038792740076,
          114.72214345269667,
          115.64190241241756,
          115.29179997963908,
          115.23827824981676,
          115.2618286407346,
          116.19410468016882,
          116.53187104036351,
          116.4241008065021,
          117.07378577791218,
          117.08723570187482,
          117.64098163021359,
          117.39262832063577,
          117.54417627473842,
          119.1870642989494,
          118.7404458387197,
          120.36607497779255,
          120.92258524172217,
          121.57285735056573,
          121.05362055995907,
          119.9720079739217,
          118.67976145304698,
          118.52310933264863,
          118.78087017541449,
          119.16446284252828,
          119.8752867284863,
          120.12041207667573,
          120.78730103966339,
          121.16270128256944,
          121.77069490263325,
          122.82239422733157,
          122.46437229848843,
          122.2782964902387,
          123.01872971935884,
          119.98434128681691,
          120.42517655363827,
          120.88717701563873,
          120.54676082800938,
          120.99813618617557,
          120.36359643483533,
          120.05747398585572,
          120.01226091927948,
          119.10840824726502,
          119.50389251554407,
          120.58539547016552,
          119.59576608565195,
          120.19666196678381,
          121.05399324838417,
          122.15155422399394,
          121.0081846465923,
          120.5902870515574,
          120.12637516904738,
          122.00961434042213,
          122.31445796693224,
          123.87731187406702,
          125.07832890121843
         ],
         "yaxis": "y"
        }
       ],
       "layout": {
        "autosize": true,
        "legend": {
         "title": {
          "text": "variable"
         },
         "tracegroupgap": 0
        },
        "margin": {
         "t": 60
        },
        "template": {
         "data": {
          "bar": [
           {
            "error_x": {
             "color": "#2a3f5f"
            },
            "error_y": {
             "color": "#2a3f5f"
            },
            "marker": {
             "line": {
              "color": "#E5ECF6",
              "width": 0.5
             },
             "pattern": {
              "fillmode": "overlay",
              "size": 10,
              "solidity": 0.2
             }
            },
            "type": "bar"
           }
          ],
          "barpolar": [
           {
            "marker": {
             "line": {
              "color": "#E5ECF6",
              "width": 0.5
             },
             "pattern": {
              "fillmode": "overlay",
              "size": 10,
              "solidity": 0.2
             }
            },
            "type": "barpolar"
           }
          ],
          "carpet": [
           {
            "aaxis": {
             "endlinecolor": "#2a3f5f",
             "gridcolor": "white",
             "linecolor": "white",
             "minorgridcolor": "white",
             "startlinecolor": "#2a3f5f"
            },
            "baxis": {
             "endlinecolor": "#2a3f5f",
             "gridcolor": "white",
             "linecolor": "white",
             "minorgridcolor": "white",
             "startlinecolor": "#2a3f5f"
            },
            "type": "carpet"
           }
          ],
          "choropleth": [
           {
            "colorbar": {
             "outlinewidth": 0,
             "ticks": ""
            },
            "type": "choropleth"
           }
          ],
          "contour": [
           {
            "colorbar": {
             "outlinewidth": 0,
             "ticks": ""
            },
            "colorscale": [
             [
              0,
              "#0d0887"
             ],
             [
              0.1111111111111111,
              "#46039f"
             ],
             [
              0.2222222222222222,
              "#7201a8"
             ],
             [
              0.3333333333333333,
              "#9c179e"
             ],
             [
              0.4444444444444444,
              "#bd3786"
             ],
             [
              0.5555555555555556,
              "#d8576b"
             ],
             [
              0.6666666666666666,
              "#ed7953"
             ],
             [
              0.7777777777777778,
              "#fb9f3a"
             ],
             [
              0.8888888888888888,
              "#fdca26"
             ],
             [
              1,
              "#f0f921"
             ]
            ],
            "type": "contour"
           }
          ],
          "contourcarpet": [
           {
            "colorbar": {
             "outlinewidth": 0,
             "ticks": ""
            },
            "type": "contourcarpet"
           }
          ],
          "heatmap": [
           {
            "colorbar": {
             "outlinewidth": 0,
             "ticks": ""
            },
            "colorscale": [
             [
              0,
              "#0d0887"
             ],
             [
              0.1111111111111111,
              "#46039f"
             ],
             [
              0.2222222222222222,
              "#7201a8"
             ],
             [
              0.3333333333333333,
              "#9c179e"
             ],
             [
              0.4444444444444444,
              "#bd3786"
             ],
             [
              0.5555555555555556,
              "#d8576b"
             ],
             [
              0.6666666666666666,
              "#ed7953"
             ],
             [
              0.7777777777777778,
              "#fb9f3a"
             ],
             [
              0.8888888888888888,
              "#fdca26"
             ],
             [
              1,
              "#f0f921"
             ]
            ],
            "type": "heatmap"
           }
          ],
          "heatmapgl": [
           {
            "colorbar": {
             "outlinewidth": 0,
             "ticks": ""
            },
            "colorscale": [
             [
              0,
              "#0d0887"
             ],
             [
              0.1111111111111111,
              "#46039f"
             ],
             [
              0.2222222222222222,
              "#7201a8"
             ],
             [
              0.3333333333333333,
              "#9c179e"
             ],
             [
              0.4444444444444444,
              "#bd3786"
             ],
             [
              0.5555555555555556,
              "#d8576b"
             ],
             [
              0.6666666666666666,
              "#ed7953"
             ],
             [
              0.7777777777777778,
              "#fb9f3a"
             ],
             [
              0.8888888888888888,
              "#fdca26"
             ],
             [
              1,
              "#f0f921"
             ]
            ],
            "type": "heatmapgl"
           }
          ],
          "histogram": [
           {
            "marker": {
             "pattern": {
              "fillmode": "overlay",
              "size": 10,
              "solidity": 0.2
             }
            },
            "type": "histogram"
           }
          ],
          "histogram2d": [
           {
            "colorbar": {
             "outlinewidth": 0,
             "ticks": ""
            },
            "colorscale": [
             [
              0,
              "#0d0887"
             ],
             [
              0.1111111111111111,
              "#46039f"
             ],
             [
              0.2222222222222222,
              "#7201a8"
             ],
             [
              0.3333333333333333,
              "#9c179e"
             ],
             [
              0.4444444444444444,
              "#bd3786"
             ],
             [
              0.5555555555555556,
              "#d8576b"
             ],
             [
              0.6666666666666666,
              "#ed7953"
             ],
             [
              0.7777777777777778,
              "#fb9f3a"
             ],
             [
              0.8888888888888888,
              "#fdca26"
             ],
             [
              1,
              "#f0f921"
             ]
            ],
            "type": "histogram2d"
           }
          ],
          "histogram2dcontour": [
           {
            "colorbar": {
             "outlinewidth": 0,
             "ticks": ""
            },
            "colorscale": [
             [
              0,
              "#0d0887"
             ],
             [
              0.1111111111111111,
              "#46039f"
             ],
             [
              0.2222222222222222,
              "#7201a8"
             ],
             [
              0.3333333333333333,
              "#9c179e"
             ],
             [
              0.4444444444444444,
              "#bd3786"
             ],
             [
              0.5555555555555556,
              "#d8576b"
             ],
             [
              0.6666666666666666,
              "#ed7953"
             ],
             [
              0.7777777777777778,
              "#fb9f3a"
             ],
             [
              0.8888888888888888,
              "#fdca26"
             ],
             [
              1,
              "#f0f921"
             ]
            ],
            "type": "histogram2dcontour"
           }
          ],
          "mesh3d": [
           {
            "colorbar": {
             "outlinewidth": 0,
             "ticks": ""
            },
            "type": "mesh3d"
           }
          ],
          "parcoords": [
           {
            "line": {
             "colorbar": {
              "outlinewidth": 0,
              "ticks": ""
             }
            },
            "type": "parcoords"
           }
          ],
          "pie": [
           {
            "automargin": true,
            "type": "pie"
           }
          ],
          "scatter": [
           {
            "fillpattern": {
             "fillmode": "overlay",
             "size": 10,
             "solidity": 0.2
            },
            "type": "scatter"
           }
          ],
          "scatter3d": [
           {
            "line": {
             "colorbar": {
              "outlinewidth": 0,
              "ticks": ""
             }
            },
            "marker": {
             "colorbar": {
              "outlinewidth": 0,
              "ticks": ""
             }
            },
            "type": "scatter3d"
           }
          ],
          "scattercarpet": [
           {
            "marker": {
             "colorbar": {
              "outlinewidth": 0,
              "ticks": ""
             }
            },
            "type": "scattercarpet"
           }
          ],
          "scattergeo": [
           {
            "marker": {
             "colorbar": {
              "outlinewidth": 0,
              "ticks": ""
             }
            },
            "type": "scattergeo"
           }
          ],
          "scattergl": [
           {
            "marker": {
             "colorbar": {
              "outlinewidth": 0,
              "ticks": ""
             }
            },
            "type": "scattergl"
           }
          ],
          "scattermapbox": [
           {
            "marker": {
             "colorbar": {
              "outlinewidth": 0,
              "ticks": ""
             }
            },
            "type": "scattermapbox"
           }
          ],
          "scatterpolar": [
           {
            "marker": {
             "colorbar": {
              "outlinewidth": 0,
              "ticks": ""
             }
            },
            "type": "scatterpolar"
           }
          ],
          "scatterpolargl": [
           {
            "marker": {
             "colorbar": {
              "outlinewidth": 0,
              "ticks": ""
             }
            },
            "type": "scatterpolargl"
           }
          ],
          "scatterternary": [
           {
            "marker": {
             "colorbar": {
              "outlinewidth": 0,
              "ticks": ""
             }
            },
            "type": "scatterternary"
           }
          ],
          "surface": [
           {
            "colorbar": {
             "outlinewidth": 0,
             "ticks": ""
            },
            "colorscale": [
             [
              0,
              "#0d0887"
             ],
             [
              0.1111111111111111,
              "#46039f"
             ],
             [
              0.2222222222222222,
              "#7201a8"
             ],
             [
              0.3333333333333333,
              "#9c179e"
             ],
             [
              0.4444444444444444,
              "#bd3786"
             ],
             [
              0.5555555555555556,
              "#d8576b"
             ],
             [
              0.6666666666666666,
              "#ed7953"
             ],
             [
              0.7777777777777778,
              "#fb9f3a"
             ],
             [
              0.8888888888888888,
              "#fdca26"
             ],
             [
              1,
              "#f0f921"
             ]
            ],
            "type": "surface"
           }
          ],
          "table": [
           {
            "cells": {
             "fill": {
              "color": "#EBF0F8"
             },
             "line": {
              "color": "white"
             }
            },
            "header": {
             "fill": {
              "color": "#C8D4E3"
             },
             "line": {
              "color": "white"
             }
            },
            "type": "table"
           }
          ]
         },
         "layout": {
          "annotationdefaults": {
           "arrowcolor": "#2a3f5f",
           "arrowhead": 0,
           "arrowwidth": 1
          },
          "autotypenumbers": "strict",
          "coloraxis": {
           "colorbar": {
            "outlinewidth": 0,
            "ticks": ""
           }
          },
          "colorscale": {
           "diverging": [
            [
             0,
             "#8e0152"
            ],
            [
             0.1,
             "#c51b7d"
            ],
            [
             0.2,
             "#de77ae"
            ],
            [
             0.3,
             "#f1b6da"
            ],
            [
             0.4,
             "#fde0ef"
            ],
            [
             0.5,
             "#f7f7f7"
            ],
            [
             0.6,
             "#e6f5d0"
            ],
            [
             0.7,
             "#b8e186"
            ],
            [
             0.8,
             "#7fbc41"
            ],
            [
             0.9,
             "#4d9221"
            ],
            [
             1,
             "#276419"
            ]
           ],
           "sequential": [
            [
             0,
             "#0d0887"
            ],
            [
             0.1111111111111111,
             "#46039f"
            ],
            [
             0.2222222222222222,
             "#7201a8"
            ],
            [
             0.3333333333333333,
             "#9c179e"
            ],
            [
             0.4444444444444444,
             "#bd3786"
            ],
            [
             0.5555555555555556,
             "#d8576b"
            ],
            [
             0.6666666666666666,
             "#ed7953"
            ],
            [
             0.7777777777777778,
             "#fb9f3a"
            ],
            [
             0.8888888888888888,
             "#fdca26"
            ],
            [
             1,
             "#f0f921"
            ]
           ],
           "sequentialminus": [
            [
             0,
             "#0d0887"
            ],
            [
             0.1111111111111111,
             "#46039f"
            ],
            [
             0.2222222222222222,
             "#7201a8"
            ],
            [
             0.3333333333333333,
             "#9c179e"
            ],
            [
             0.4444444444444444,
             "#bd3786"
            ],
            [
             0.5555555555555556,
             "#d8576b"
            ],
            [
             0.6666666666666666,
             "#ed7953"
            ],
            [
             0.7777777777777778,
             "#fb9f3a"
            ],
            [
             0.8888888888888888,
             "#fdca26"
            ],
            [
             1,
             "#f0f921"
            ]
           ]
          },
          "colorway": [
           "#636efa",
           "#EF553B",
           "#00cc96",
           "#ab63fa",
           "#FFA15A",
           "#19d3f3",
           "#FF6692",
           "#B6E880",
           "#FF97FF",
           "#FECB52"
          ],
          "font": {
           "color": "#2a3f5f"
          },
          "geo": {
           "bgcolor": "white",
           "lakecolor": "white",
           "landcolor": "#E5ECF6",
           "showlakes": true,
           "showland": true,
           "subunitcolor": "white"
          },
          "hoverlabel": {
           "align": "left"
          },
          "hovermode": "closest",
          "mapbox": {
           "style": "light"
          },
          "paper_bgcolor": "white",
          "plot_bgcolor": "#E5ECF6",
          "polar": {
           "angularaxis": {
            "gridcolor": "white",
            "linecolor": "white",
            "ticks": ""
           },
           "bgcolor": "#E5ECF6",
           "radialaxis": {
            "gridcolor": "white",
            "linecolor": "white",
            "ticks": ""
           }
          },
          "scene": {
           "xaxis": {
            "backgroundcolor": "#E5ECF6",
            "gridcolor": "white",
            "gridwidth": 2,
            "linecolor": "white",
            "showbackground": true,
            "ticks": "",
            "zerolinecolor": "white"
           },
           "yaxis": {
            "backgroundcolor": "#E5ECF6",
            "gridcolor": "white",
            "gridwidth": 2,
            "linecolor": "white",
            "showbackground": true,
            "ticks": "",
            "zerolinecolor": "white"
           },
           "zaxis": {
            "backgroundcolor": "#E5ECF6",
            "gridcolor": "white",
            "gridwidth": 2,
            "linecolor": "white",
            "showbackground": true,
            "ticks": "",
            "zerolinecolor": "white"
           }
          },
          "shapedefaults": {
           "line": {
            "color": "#2a3f5f"
           }
          },
          "ternary": {
           "aaxis": {
            "gridcolor": "white",
            "linecolor": "white",
            "ticks": ""
           },
           "baxis": {
            "gridcolor": "white",
            "linecolor": "white",
            "ticks": ""
           },
           "bgcolor": "#E5ECF6",
           "caxis": {
            "gridcolor": "white",
            "linecolor": "white",
            "ticks": ""
           }
          },
          "title": {
           "x": 0.05
          },
          "xaxis": {
           "automargin": true,
           "gridcolor": "white",
           "linecolor": "white",
           "ticks": "",
           "title": {
            "standoff": 15
           },
           "zerolinecolor": "white",
           "zerolinewidth": 2
          },
          "yaxis": {
           "automargin": true,
           "gridcolor": "white",
           "linecolor": "white",
           "ticks": "",
           "title": {
            "standoff": 15
           },
           "zerolinecolor": "white",
           "zerolinewidth": 2
          }
         }
        },
        "xaxis": {
         "anchor": "y",
         "autorange": true,
         "domain": [
          0,
          1
         ],
         "range": [
          "2017-12-22",
          "2023-12-08"
         ],
         "title": {
          "text": "index"
         },
         "type": "date"
        },
        "yaxis": {
         "anchor": "x",
         "autorange": true,
         "domain": [
          0,
          1
         ],
         "range": [
          85.91709000553496,
          127.25227727746952
         ],
         "title": {
          "text": "value"
         },
         "type": "linear"
        }
       }
      },
      "image/png": "[encoded data removed]",
      "text/html": [
       "<div>                            <div id=\"6b63bef7-1400-4bb7-a34a-4ba1c243737b\" class=\"plotly-graph-div\" style=\"height:525px; width:100%;\"></div>            <script type=\"text/javascript\">                require([\"plotly\"], function(Plotly) {                    window.PLOTLYENV=window.PLOTLYENV || {};                                    if (document.getElementById(\"6b63bef7-1400-4bb7-a34a-4ba1c243737b\")) {                    Plotly.newPlot(                        \"6b63bef7-1400-4bb7-a34a-4ba1c243737b\",                        [{\"hovertemplate\":\"variable=USDCHF_Cumulative_Return<br>index=%{x}<br>value=%{y}<extra></extra>\",\"legendgroup\":\"USDCHF_Cumulative_Return\",\"line\":{\"color\":\"#636efa\",\"dash\":\"solid\"},\"marker\":{\"symbol\":\"circle\"},\"mode\":\"lines\",\"name\":\"USDCHF_Cumulative_Return\",\"orientation\":\"v\",\"showlegend\":true,\"x\":[\"2017-12-22T00:00:00\",\"2017-12-29T00:00:00\",\"2018-01-05T00:00:00\",\"2018-01-12T00:00:00\",\"2018-01-19T00:00:00\",\"2018-01-26T00:00:00\",\"2018-02-02T00:00:00\",\"2018-02-09T00:00:00\",\"2018-02-16T00:00:00\",\"2018-02-23T00:00:00\",\"2018-03-02T00:00:00\",\"2018-03-09T00:00:00\",\"2018-03-16T00:00:00\",\"2018-03-23T00:00:00\",\"2018-03-30T00:00:00\",\"2018-04-06T00:00:00\",\"2018-04-13T00:00:00\",\"2018-04-20T00:00:00\",\"2018-04-27T00:00:00\",\"2018-05-04T00:00:00\",\"2018-05-11T00:00:00\",\"2018-05-18T00:00:00\",\"2018-05-25T00:00:00\",\"2018-06-01T00:00:00\",\"2018-06-08T00:00:00\",\"2018-06-15T00:00:00\",\"2018-06-22T00:00:00\",\"2018-06-29T00:00:00\",\"2018-07-06T00:00:00\",\"2018-07-13T00:00:00\",\"2018-07-20T00:00:00\",\"2018-07-27T00:00:00\",\"2018-08-03T00:00:00\",\"2018-08-10T00:00:00\",\"2018-08-17T00:00:00\",\"2018-08-24T00:00:00\",\"2018-08-31T00:00:00\",\"2018-09-07T00:00:00\",\"2018-09-14T00:00:00\",\"2018-09-21T00:00:00\",\"2018-09-28T00:00:00\",\"2018-10-05T00:00:00\",\"2018-10-12T00:00:00\",\"2018-10-19T00:00:00\",\"2018-10-26T00:00:00\",\"2018-11-02T00:00:00\",\"2018-11-09T00:00:00\",\"2018-11-16T00:00:00\",\"2018-11-23T00:00:00\",\"2018-11-30T00:00:00\",\"2018-12-07T00:00:00\",\"2018-12-14T00:00:00\",\"2018-12-21T00:00:00\",\"2018-12-28T00:00:00\",\"2019-01-04T00:00:00\",\"2019-01-11T00:00:00\",\"2019-01-18T00:00:00\",\"2019-01-25T00:00:00\",\"2019-02-01T00:00:00\",\"2019-02-08T00:00:00\",\"2019-02-15T00:00:00\",\"2019-02-22T00:00:00\",\"2019-03-01T00:00:00\",\"2019-03-08T00:00:00\",\"2019-03-15T00:00:00\",\"2019-03-22T00:00:00\",\"2019-03-29T00:00:00\",\"2019-04-05T00:00:00\",\"2019-04-12T00:00:00\",\"2019-04-19T00:00:00\",\"2019-04-26T00:00:00\",\"2019-05-03T00:00:00\",\"2019-05-10T00:00:00\",\"2019-05-17T00:00:00\",\"2019-05-24T00:00:00\",\"2019-05-31T00:00:00\",\"2019-06-07T00:00:00\",\"2019-06-14T00:00:00\",\"2019-06-21T00:00:00\",\"2019-06-28T00:00:00\",\"2019-07-05T00:00:00\",\"2019-07-12T00:00:00\",\"2019-07-19T00:00:00\",\"2019-07-26T00:00:00\",\"2019-08-02T00:00:00\",\"2019-08-09T00:00:00\",\"2019-08-16T00:00:00\",\"2019-08-23T00:00:00\",\"2019-08-30T00:00:00\",\"2019-09-06T00:00:00\",\"2019-09-13T00:00:00\",\"2019-09-20T00:00:00\",\"2019-09-27T00:00:00\",\"2019-10-04T00:00:00\",\"2019-10-11T00:00:00\",\"2019-10-18T00:00:00\",\"2019-10-25T00:00:00\",\"2019-11-01T00:00:00\",\"2019-11-08T00:00:00\",\"2019-11-15T00:00:00\",\"2019-11-22T00:00:00\",\"2019-11-29T00:00:00\",\"2019-12-06T00:00:00\",\"2019-12-13T00:00:00\",\"2019-12-20T00:00:00\",\"2019-12-27T00:00:00\",\"2020-01-03T00:00:00\",\"2020-01-10T00:00:00\",\"2020-01-17T00:00:00\",\"2020-01-24T00:00:00\",\"2020-01-31T00:00:00\",\"2020-02-07T00:00:00\",\"2020-02-14T00:00:00\",\"2020-02-21T00:00:00\",\"2020-02-28T00:00:00\",\"2020-03-06T00:00:00\",\"2020-03-13T00:00:00\",\"2020-03-20T00:00:00\",\"2020-03-27T00:00:00\",\"2020-04-03T00:00:00\",\"2020-04-10T00:00:00\",\"2020-04-17T00:00:00\",\"2020-04-24T00:00:00\",\"2020-05-01T00:00:00\",\"2020-05-08T00:00:00\",\"2020-05-15T00:00:00\",\"2020-05-22T00:00:00\",\"2020-05-29T00:00:00\",\"2020-06-05T00:00:00\",\"2020-06-12T00:00:00\",\"2020-06-19T00:00:00\",\"2020-06-26T00:00:00\",\"2020-07-03T00:00:00\",\"2020-07-10T00:00:00\",\"2020-07-17T00:00:00\",\"2020-07-24T00:00:00\",\"2020-07-31T00:00:00\",\"2020-08-07T00:00:00\",\"2020-08-14T00:00:00\",\"2020-08-21T00:00:00\",\"2020-08-28T00:00:00\",\"2020-09-04T00:00:00\",\"2020-09-11T00:00:00\",\"2020-09-18T00:00:00\",\"2020-09-25T00:00:00\",\"2020-10-02T00:00:00\",\"2020-10-09T00:00:00\",\"2020-10-16T00:00:00\",\"2020-10-23T00:00:00\",\"2020-10-30T00:00:00\",\"2020-11-06T00:00:00\",\"2020-11-13T00:00:00\",\"2020-11-20T00:00:00\",\"2020-11-27T00:00:00\",\"2020-12-04T00:00:00\",\"2020-12-11T00:00:00\",\"2020-12-18T00:00:00\",\"2020-12-25T00:00:00\",\"2021-01-01T00:00:00\",\"2021-01-08T00:00:00\",\"2021-01-15T00:00:00\",\"2021-01-22T00:00:00\",\"2021-01-29T00:00:00\",\"2021-02-05T00:00:00\",\"2021-02-12T00:00:00\",\"2021-02-19T00:00:00\",\"2021-02-26T00:00:00\",\"2021-03-05T00:00:00\",\"2021-03-12T00:00:00\",\"2021-03-19T00:00:00\",\"2021-03-26T00:00:00\",\"2021-04-02T00:00:00\",\"2021-04-09T00:00:00\",\"2021-04-16T00:00:00\",\"2021-04-23T00:00:00\",\"2021-04-30T00:00:00\",\"2021-05-07T00:00:00\",\"2021-05-14T00:00:00\",\"2021-05-21T00:00:00\",\"2021-05-28T00:00:00\",\"2021-06-04T00:00:00\",\"2021-06-11T00:00:00\",\"2021-06-18T00:00:00\",\"2021-06-25T00:00:00\",\"2021-07-02T00:00:00\",\"2021-07-09T00:00:00\",\"2021-07-16T00:00:00\",\"2021-07-23T00:00:00\",\"2021-07-30T00:00:00\",\"2021-08-06T00:00:00\",\"2021-08-13T00:00:00\",\"2021-08-20T00:00:00\",\"2021-08-27T00:00:00\",\"2021-09-03T00:00:00\",\"2021-09-10T00:00:00\",\"2021-09-17T00:00:00\",\"2021-09-24T00:00:00\",\"2021-10-01T00:00:00\",\"2021-10-08T00:00:00\",\"2021-10-15T00:00:00\",\"2021-10-22T00:00:00\",\"2021-10-29T00:00:00\",\"2021-11-05T00:00:00\",\"2021-11-12T00:00:00\",\"2021-11-19T00:00:00\",\"2021-11-26T00:00:00\",\"2021-12-03T00:00:00\",\"2021-12-10T00:00:00\",\"2021-12-17T00:00:00\",\"2021-12-24T00:00:00\",\"2021-12-31T00:00:00\",\"2022-01-07T00:00:00\",\"2022-01-14T00:00:00\",\"2022-01-21T00:00:00\",\"2022-01-28T00:00:00\",\"2022-02-04T00:00:00\",\"2022-02-11T00:00:00\",\"2022-02-18T00:00:00\",\"2022-02-25T00:00:00\",\"2022-03-04T00:00:00\",\"2022-03-11T00:00:00\",\"2022-03-18T00:00:00\",\"2022-03-25T00:00:00\",\"2022-04-01T00:00:00\",\"2022-04-08T00:00:00\",\"2022-04-15T00:00:00\",\"2022-04-22T00:00:00\",\"2022-04-29T00:00:00\",\"2022-05-06T00:00:00\",\"2022-05-13T00:00:00\",\"2022-05-20T00:00:00\",\"2022-05-27T00:00:00\",\"2022-06-03T00:00:00\",\"2022-06-10T00:00:00\",\"2022-06-17T00:00:00\",\"2022-06-24T00:00:00\",\"2022-07-01T00:00:00\",\"2022-07-08T00:00:00\",\"2022-07-15T00:00:00\",\"2022-07-22T00:00:00\",\"2022-07-29T00:00:00\",\"2022-08-05T00:00:00\",\"2022-08-12T00:00:00\",\"2022-08-19T00:00:00\",\"2022-08-26T00:00:00\",\"2022-09-02T00:00:00\",\"2022-09-09T00:00:00\",\"2022-09-16T00:00:00\",\"2022-09-23T00:00:00\",\"2022-09-30T00:00:00\",\"2022-10-07T00:00:00\",\"2022-10-14T00:00:00\",\"2022-10-21T00:00:00\",\"2022-10-28T00:00:00\",\"2022-11-04T00:00:00\",\"2022-11-11T00:00:00\",\"2022-11-18T00:00:00\",\"2022-11-25T00:00:00\",\"2022-12-02T00:00:00\",\"2022-12-09T00:00:00\",\"2022-12-16T00:00:00\",\"2022-12-23T00:00:00\",\"2022-12-30T00:00:00\",\"2023-01-06T00:00:00\",\"2023-01-13T00:00:00\",\"2023-01-20T00:00:00\",\"2023-01-27T00:00:00\",\"2023-02-03T00:00:00\",\"2023-02-10T00:00:00\",\"2023-02-17T00:00:00\",\"2023-02-24T00:00:00\",\"2023-03-03T00:00:00\",\"2023-03-10T00:00:00\",\"2023-03-17T00:00:00\",\"2023-03-24T00:00:00\",\"2023-03-31T00:00:00\",\"2023-04-07T00:00:00\",\"2023-04-14T00:00:00\",\"2023-04-21T00:00:00\",\"2023-04-28T00:00:00\",\"2023-05-05T00:00:00\",\"2023-05-12T00:00:00\",\"2023-05-19T00:00:00\",\"2023-05-26T00:00:00\",\"2023-06-02T00:00:00\",\"2023-06-09T00:00:00\",\"2023-06-16T00:00:00\",\"2023-06-23T00:00:00\",\"2023-06-30T00:00:00\",\"2023-07-07T00:00:00\",\"2023-07-14T00:00:00\",\"2023-07-21T00:00:00\",\"2023-07-28T00:00:00\",\"2023-08-04T00:00:00\",\"2023-08-11T00:00:00\",\"2023-08-18T00:00:00\",\"2023-08-25T00:00:00\",\"2023-09-01T00:00:00\",\"2023-09-08T00:00:00\",\"2023-09-15T00:00:00\",\"2023-09-22T00:00:00\",\"2023-09-29T00:00:00\",\"2023-10-06T00:00:00\",\"2023-10-13T00:00:00\",\"2023-10-20T00:00:00\",\"2023-10-27T00:00:00\",\"2023-11-03T00:00:00\",\"2023-11-10T00:00:00\",\"2023-11-17T00:00:00\",\"2023-11-24T00:00:00\",\"2023-12-01T00:00:00\",\"2023-12-08T00:00:00\"],\"xaxis\":\"x\",\"y\":[100.0,98.61336032388664,98.65441544038053,97.89520747895651,97.42999503193901,94.27253761606865,94.16528750881852,94.93831735635986,93.7024341260168,94.6840953989402,94.82296945085773,96.30579428550676,96.37937780279888,95.89618452548795,96.59282797070645,97.127419165675,97.45063885079648,98.73935221600121,100.08349340212885,101.32881080619892,101.3088108061989,101.12877479899747,100.42737199338625,100.14482910741248,99.89184388174967,101.09910775513914,100.14682226997473,100.39983309883822,100.26859950303769,101.52201100612069,100.58360629413107,100.80531343914771,100.76509222245589,100.87574507428165,100.93603446334917,99.7008466746366,98.21635252110329,98.24731546877591,98.16477316584566,97.16312095601502,99.56220304634567,100.6114034130565,100.70212921950811,101.01434595835391,101.11474756477962,101.76670343238243,101.97597099591007,101.40914522025375,101.1591202177535,101.2092505566346,100.6180089492591,101.22284765893653,100.8020059755698,99.87626639014013,100.18095865095671,99.76581081782588,100.97577523063727,100.8250820419694,100.996125406493,101.48829093481763,101.95805605225893,101.48053914020161,101.37058312260865,102.26120655901414,101.6561678762131,100.80794913556846,100.96897973138167,101.48143953845562,101.69137655734995,102.90845556772504,103.40126061404874,103.10702758148695,102.6348654724962,102.5557984632058,101.68537314174192,101.52572436904185,100.23649790492034,101.38056999158633,99.12831773933407,99.10783642853018,100.67497767609753,99.92870901938112,99.69501668042562,100.84584670384959,99.75845242273805,98.77107457257517,99.34679164875486,98.93791911476735,100.59038755364654,100.29757656818612,100.59124745426206,100.64173210692766,100.64173210692766,101.13623205646849,101.29690689077255,100.09377875762638,101.03755793359554,100.1327625178923,101.31973624214918,100.57780722670903,101.3454839943858,101.60610949558867,100.67629545839611,100.00014246616682,99.85789495549827,99.06424416184745,98.84885954646285,98.81802390045607,98.33478310259466,98.71705399834835,97.87308528694449,99.35741163114213,99.82790360209435,99.41051583868196,98.05087568329452,95.29411332450086,96.72222799997779,100.42087253081733,96.85414844529701,99.54407174045305,98.40828948321371,98.44968877942567,99.11180340802073,97.91961430216257,98.94936258591544,98.96995354648374,98.93907346413684,97.95060558934277,98.02340093044094,96.99461572832102,96.98411593831682,96.50107487982685,96.30058949415627,95.81422874135443,95.53798564743177,93.62023580724426,92.78382477096358,92.729054259407,92.36737078724566,92.64236803727314,91.83060849361365,92.85914200389898,92.35558425896194,92.65264664206238,94.48459047707775,93.6551172464411,92.57973162836592,93.04091533320836,91.89324892157867,93.28643777606786,91.37804082950296,92.84552276391096,92.69213172633016,92.14346498650792,90.5876887534725,90.36352376804322,89.63335077321062,90.3236302798305,89.90780649920563,89.84009405140064,90.46121206382301,89.85515145776242,90.38586509823214,91.36306379530055,90.57329738818153,91.06662623670715,92.42777763690798,94.70625864956622,94.81387810716416,94.66337283947979,95.77233063448409,96.1130824181067,94.1922504113148,93.74862349073484,93.08565207458443,92.98718380324962,91.64012433550239,91.7067317955379,91.31844690536705,91.541188858814,91.48562712973299,91.36332337167205,93.95711163839809,93.49053177728698,93.88298789851231,93.2097334734933,93.72356314442368,93.72356314442368,92.2552142212129,93.23766261507535,93.32511342399533,93.48894042268473,92.85651211606604,93.08695214679138,93.54677259785335,95.14877782889083,94.34431574587033,95.02554411957277,94.63890466086801,94.14294778755264,93.37363366901324,93.40639191317136,93.03525339117594,93.99942562739815,94.68309356011653,94.17651886729482,93.53736817939534,93.98438082658244,94.2123196087381,93.74664926002681,93.07207630822614,93.71836834459376,93.19594779605218,92.92242482012219,95.00690095835589,94.48030235545421,94.5127137642701,94.03750045829754,94.43901972037024,93.52029944367331,95.42932093380094,95.17241663065386,94.97924212968799,94.59214535549444,95.44490874064125,96.3867903632464,97.91366980339062,99.40714238824701,101.1770538926718,102.41062315455248,99.75381132874345,97.92742101476848,98.48135078065476,101.17337863638703,99.34139483071901,98.14539524313267,98.43757931910052,100.1127431938274,100.1127431938274,98.6493784783137,97.55892256388852,98.51440345427072,96.44472066695921,98.31387954546389,98.99152758549725,100.5965809146885,98.57864369495756,98.95309761632222,100.69403025880928,101.22366969657664,101.97341640377016,103.07961109403566,102.32369305146553,102.12325208133123,102.0529568413232,96.68666199658396,98.06714410341205,97.14538857811614,96.22562961839525,95.90552718561676,95.85200545579444,95.79845506487659,94.86617902544239,95.23394538563707,95.12617515177567,94.4464901803656,94.48994010432823,95.043686032667,94.79533272308919,94.94688067719183,96.5897687014028,96.14315024117312,94.48752110210026,95.07403136602987,94.39375925718633,93.90452246657968,92.82290988054231,91.53066335966757,91.37401123926922,91.6317720820351,91.21817941492132,91.95900330087935,92.20412864906878,92.87101761205643,93.24641785496249,92.60842423489868,91.55672491020036,91.91474683904349,91.75867103079376,90.98823780167362,87.98384936913169,88.42468463595304,88.88668509795352,89.19710128558286,89.67847664374905,90.2830163950893,90.58913884406891,90.63435191064514,91.5382045826596,91.96368885093865,93.04519180556011,94.00482119007368,93.40392530894181,92.54659402734146,91.4490330517317,92.59240262913335,92.20450503409845,92.63841691660845,90.7551777452337,90.45033411872359,88.88748021158881,90.11849723874022],\"yaxis\":\"y\",\"type\":\"scatter\"},{\"hovertemplate\":\"variable=Strategy_Cumulative_Return<br>index=%{x}<br>value=%{y}<extra></extra>\",\"legendgroup\":\"Strategy_Cumulative_Return\",\"line\":{\"color\":\"#EF553B\",\"dash\":\"solid\"},\"marker\":{\"symbol\":\"circle\"},\"mode\":\"lines\",\"name\":\"Strategy_Cumulative_Return\",\"orientation\":\"v\",\"showlegend\":true,\"x\":[\"2017-12-22T00:00:00\",\"2017-12-29T00:00:00\",\"2018-01-05T00:00:00\",\"2018-01-12T00:00:00\",\"2018-01-19T00:00:00\",\"2018-01-26T00:00:00\",\"2018-02-02T00:00:00\",\"2018-02-09T00:00:00\",\"2018-02-16T00:00:00\",\"2018-02-23T00:00:00\",\"2018-03-02T00:00:00\",\"2018-03-09T00:00:00\",\"2018-03-16T00:00:00\",\"2018-03-23T00:00:00\",\"2018-03-30T00:00:00\",\"2018-04-06T00:00:00\",\"2018-04-13T00:00:00\",\"2018-04-20T00:00:00\",\"2018-04-27T00:00:00\",\"2018-05-04T00:00:00\",\"2018-05-11T00:00:00\",\"2018-05-18T00:00:00\",\"2018-05-25T00:00:00\",\"2018-06-01T00:00:00\",\"2018-06-08T00:00:00\",\"2018-06-15T00:00:00\",\"2018-06-22T00:00:00\",\"2018-06-29T00:00:00\",\"2018-07-06T00:00:00\",\"2018-07-13T00:00:00\",\"2018-07-20T00:00:00\",\"2018-07-27T00:00:00\",\"2018-08-03T00:00:00\",\"2018-08-10T00:00:00\",\"2018-08-17T00:00:00\",\"2018-08-24T00:00:00\",\"2018-08-31T00:00:00\",\"2018-09-07T00:00:00\",\"2018-09-14T00:00:00\",\"2018-09-21T00:00:00\",\"2018-09-28T00:00:00\",\"2018-10-05T00:00:00\",\"2018-10-12T00:00:00\",\"2018-10-19T00:00:00\",\"2018-10-26T00:00:00\",\"2018-11-02T00:00:00\",\"2018-11-09T00:00:00\",\"2018-11-16T00:00:00\",\"2018-11-23T00:00:00\",\"2018-11-30T00:00:00\",\"2018-12-07T00:00:00\",\"2018-12-14T00:00:00\",\"2018-12-21T00:00:00\",\"2018-12-28T00:00:00\",\"2019-01-04T00:00:00\",\"2019-01-11T00:00:00\",\"2019-01-18T00:00:00\",\"2019-01-25T00:00:00\",\"2019-02-01T00:00:00\",\"2019-02-08T00:00:00\",\"2019-02-15T00:00:00\",\"2019-02-22T00:00:00\",\"2019-03-01T00:00:00\",\"2019-03-08T00:00:00\",\"2019-03-15T00:00:00\",\"2019-03-22T00:00:00\",\"2019-03-29T00:00:00\",\"2019-04-05T00:00:00\",\"2019-04-12T00:00:00\",\"2019-04-19T00:00:00\",\"2019-04-26T00:00:00\",\"2019-05-03T00:00:00\",\"2019-05-10T00:00:00\",\"2019-05-17T00:00:00\",\"2019-05-24T00:00:00\",\"2019-05-31T00:00:00\",\"2019-06-07T00:00:00\",\"2019-06-14T00:00:00\",\"2019-06-21T00:00:00\",\"2019-06-28T00:00:00\",\"2019-07-05T00:00:00\",\"2019-07-12T00:00:00\",\"2019-07-19T00:00:00\",\"2019-07-26T00:00:00\",\"2019-08-02T00:00:00\",\"2019-08-09T00:00:00\",\"2019-08-16T00:00:00\",\"2019-08-23T00:00:00\",\"2019-08-30T00:00:00\",\"2019-09-06T00:00:00\",\"2019-09-13T00:00:00\",\"2019-09-20T00:00:00\",\"2019-09-27T00:00:00\",\"2019-10-04T00:00:00\",\"2019-10-11T00:00:00\",\"2019-10-18T00:00:00\",\"2019-10-25T00:00:00\",\"2019-11-01T00:00:00\",\"2019-11-08T00:00:00\",\"2019-11-15T00:00:00\",\"2019-11-22T00:00:00\",\"2019-11-29T00:00:00\",\"2019-12-06T00:00:00\",\"2019-12-13T00:00:00\",\"2019-12-20T00:00:00\",\"2019-12-27T00:00:00\",\"2020-01-03T00:00:00\",\"2020-01-10T00:00:00\",\"2020-01-17T00:00:00\",\"2020-01-24T00:00:00\",\"2020-01-31T00:00:00\",\"2020-02-07T00:00:00\",\"2020-02-14T00:00:00\",\"2020-02-21T00:00:00\",\"2020-02-28T00:00:00\",\"2020-03-06T00:00:00\",\"2020-03-13T00:00:00\",\"2020-03-20T00:00:00\",\"2020-03-27T00:00:00\",\"2020-04-03T00:00:00\",\"2020-04-10T00:00:00\",\"2020-04-17T00:00:00\",\"2020-04-24T00:00:00\",\"2020-05-01T00:00:00\",\"2020-05-08T00:00:00\",\"2020-05-15T00:00:00\",\"2020-05-22T00:00:00\",\"2020-05-29T00:00:00\",\"2020-06-05T00:00:00\",\"2020-06-12T00:00:00\",\"2020-06-19T00:00:00\",\"2020-06-26T00:00:00\",\"2020-07-03T00:00:00\",\"2020-07-10T00:00:00\",\"2020-07-17T00:00:00\",\"2020-07-24T00:00:00\",\"2020-07-31T00:00:00\",\"2020-08-07T00:00:00\",\"2020-08-14T00:00:00\",\"2020-08-21T00:00:00\",\"2020-08-28T00:00:00\",\"2020-09-04T00:00:00\",\"2020-09-11T00:00:00\",\"2020-09-18T00:00:00\",\"2020-09-25T00:00:00\",\"2020-10-02T00:00:00\",\"2020-10-09T00:00:00\",\"2020-10-16T00:00:00\",\"2020-10-23T00:00:00\",\"2020-10-30T00:00:00\",\"2020-11-06T00:00:00\",\"2020-11-13T00:00:00\",\"2020-11-20T00:00:00\",\"2020-11-27T00:00:00\",\"2020-12-04T00:00:00\",\"2020-12-11T00:00:00\",\"2020-12-18T00:00:00\",\"2020-12-25T00:00:00\",\"2021-01-01T00:00:00\",\"2021-01-08T00:00:00\",\"2021-01-15T00:00:00\",\"2021-01-22T00:00:00\",\"2021-01-29T00:00:00\",\"2021-02-05T00:00:00\",\"2021-02-12T00:00:00\",\"2021-02-19T00:00:00\",\"2021-02-26T00:00:00\",\"2021-03-05T00:00:00\",\"2021-03-12T00:00:00\",\"2021-03-19T00:00:00\",\"2021-03-26T00:00:00\",\"2021-04-02T00:00:00\",\"2021-04-09T00:00:00\",\"2021-04-16T00:00:00\",\"2021-04-23T00:00:00\",\"2021-04-30T00:00:00\",\"2021-05-07T00:00:00\",\"2021-05-14T00:00:00\",\"2021-05-21T00:00:00\",\"2021-05-28T00:00:00\",\"2021-06-04T00:00:00\",\"2021-06-11T00:00:00\",\"2021-06-18T00:00:00\",\"2021-06-25T00:00:00\",\"2021-07-02T00:00:00\",\"2021-07-09T00:00:00\",\"2021-07-16T00:00:00\",\"2021-07-23T00:00:00\",\"2021-07-30T00:00:00\",\"2021-08-06T00:00:00\",\"2021-08-13T00:00:00\",\"2021-08-20T00:00:00\",\"2021-08-27T00:00:00\",\"2021-09-03T00:00:00\",\"2021-09-10T00:00:00\",\"2021-09-17T00:00:00\",\"2021-09-24T00:00:00\",\"2021-10-01T00:00:00\",\"2021-10-08T00:00:00\",\"2021-10-15T00:00:00\",\"2021-10-22T00:00:00\",\"2021-10-29T00:00:00\",\"2021-11-05T00:00:00\",\"2021-11-12T00:00:00\",\"2021-11-19T00:00:00\",\"2021-11-26T00:00:00\",\"2021-12-03T00:00:00\",\"2021-12-10T00:00:00\",\"2021-12-17T00:00:00\",\"2021-12-24T00:00:00\",\"2021-12-31T00:00:00\",\"2022-01-07T00:00:00\",\"2022-01-14T00:00:00\",\"2022-01-21T00:00:00\",\"2022-01-28T00:00:00\",\"2022-02-04T00:00:00\",\"2022-02-11T00:00:00\",\"2022-02-18T00:00:00\",\"2022-02-25T00:00:00\",\"2022-03-04T00:00:00\",\"2022-03-11T00:00:00\",\"2022-03-18T00:00:00\",\"2022-03-25T00:00:00\",\"2022-04-01T00:00:00\",\"2022-04-08T00:00:00\",\"2022-04-15T00:00:00\",\"2022-04-22T00:00:00\",\"2022-04-29T00:00:00\",\"2022-05-06T00:00:00\",\"2022-05-13T00:00:00\",\"2022-05-20T00:00:00\",\"2022-05-27T00:00:00\",\"2022-06-03T00:00:00\",\"2022-06-10T00:00:00\",\"2022-06-17T00:00:00\",\"2022-06-24T00:00:00\",\"2022-07-01T00:00:00\",\"2022-07-08T00:00:00\",\"2022-07-15T00:00:00\",\"2022-07-22T00:00:00\",\"2022-07-29T00:00:00\",\"2022-08-05T00:00:00\",\"2022-08-12T00:00:00\",\"2022-08-19T00:00:00\",\"2022-08-26T00:00:00\",\"2022-09-02T00:00:00\",\"2022-09-09T00:00:00\",\"2022-09-16T00:00:00\",\"2022-09-23T00:00:00\",\"2022-09-30T00:00:00\",\"2022-10-07T00:00:00\",\"2022-10-14T00:00:00\",\"2022-10-21T00:00:00\",\"2022-10-28T00:00:00\",\"2022-11-04T00:00:00\",\"2022-11-11T00:00:00\",\"2022-11-18T00:00:00\",\"2022-11-25T00:00:00\",\"2022-12-02T00:00:00\",\"2022-12-09T00:00:00\",\"2022-12-16T00:00:00\",\"2022-12-23T00:00:00\",\"2022-12-30T00:00:00\",\"2023-01-06T00:00:00\",\"2023-01-13T00:00:00\",\"2023-01-20T00:00:00\",\"2023-01-27T00:00:00\",\"2023-02-03T00:00:00\",\"2023-02-10T00:00:00\",\"2023-02-17T00:00:00\",\"2023-02-24T00:00:00\",\"2023-03-03T00:00:00\",\"2023-03-10T00:00:00\",\"2023-03-17T00:00:00\",\"2023-03-24T00:00:00\",\"2023-03-31T00:00:00\",\"2023-04-07T00:00:00\",\"2023-04-14T00:00:00\",\"2023-04-21T00:00:00\",\"2023-04-28T00:00:00\",\"2023-05-05T00:00:00\",\"2023-05-12T00:00:00\",\"2023-05-19T00:00:00\",\"2023-05-26T00:00:00\",\"2023-06-02T00:00:00\",\"2023-06-09T00:00:00\",\"2023-06-16T00:00:00\",\"2023-06-23T00:00:00\",\"2023-06-30T00:00:00\",\"2023-07-07T00:00:00\",\"2023-07-14T00:00:00\",\"2023-07-21T00:00:00\",\"2023-07-28T00:00:00\",\"2023-08-04T00:00:00\",\"2023-08-11T00:00:00\",\"2023-08-18T00:00:00\",\"2023-08-25T00:00:00\",\"2023-09-01T00:00:00\",\"2023-09-08T00:00:00\",\"2023-09-15T00:00:00\",\"2023-09-22T00:00:00\",\"2023-09-29T00:00:00\",\"2023-10-06T00:00:00\",\"2023-10-13T00:00:00\",\"2023-10-20T00:00:00\",\"2023-10-27T00:00:00\",\"2023-11-03T00:00:00\",\"2023-11-10T00:00:00\",\"2023-11-17T00:00:00\",\"2023-11-24T00:00:00\",\"2023-12-01T00:00:00\",\"2023-12-08T00:00:00\"],\"xaxis\":\"x\",\"y\":[100.0,101.35663967611336,101.36769479260724,100.60848683118321,100.14327438416574,103.27073180003612,103.13348169278599,103.90651154032733,105.11239477067039,106.0640560435938,106.20293009551132,104.69010526086228,104.7336887781544,105.18688205546533,105.85352550068382,105.28893430571527,105.58215399083674,104.26344062563201,102.91929943950437,104.13461684357443,104.12461684357443,103.91458083637298,104.5859836419842,104.86852652795797,104.58554130229516,105.79280517568463,106.71509066084903,106.93810148971252,106.806867893912,108.060279396995,107.12187468500537,107.343581830022,107.35380304671382,107.24315019488806,107.18286080582052,108.41804859453312,106.90355444099981,106.93451738867243,106.8519750857422,105.85032287591154,108.24940496624221,107.17020459953139,107.23093040598302,106.88871366713721,106.95911527356292,107.61107114116572,107.82033870469338,107.25351292903704,107.00348792653679,106.92335758765569,106.30211598028019,106.90695468995762,107.29779637332436,108.22353595875401,107.91884369793745,107.47369586480661,106.23373145199524,106.05303826332737,105.85199489880377,105.35982937047913,105.79959448792043,106.24711139997775,106.10715538238479,105.1865319459793,104.55149326317827,103.70327452253363,103.51224392672042,102.99978411964648,103.1797211385408,104.3968001489159,104.8896051952396,104.59537216267779,104.12321005368705,104.17227706297743,103.27185174151354,103.11220296881349,104.371429432935,103.22735734626903,105.47960959852128,105.50009090932518,107.03723215689254,107.75350081360895,107.98719315256444,109.10802317598842,110.16541745709998,109.1480396069371,109.7237566831168,109.31488414912928,110.96735258800847,111.23016357346889,111.49383445954483,111.54431911221043,111.54431911221043,112.03881906175125,111.8481442274472,113.05127236059336,112.10749318462422,111.17269776892098,112.35967149317784,111.6177424777377,110.82006571006093,111.0506912112638,110.12087717407124,110.76703016630054,110.59478265563199,111.35843344928278,111.5738180646674,111.51298241866063,111.02974162079923,111.4120125165529,110.56804380514905,109.0537174609514,109.49420943190364,109.07682166849125,110.40646182387869,107.61969946508503,109.04781414056195,112.7464586714015,116.28318275692182,113.59325946176578,114.72904171900512,114.68764242279316,115.31975705138822,114.12756794553006,113.06781966177721,113.0472287012089,113.07810878355579,114.06657665834986,113.99378131725169,112.93499611513178,112.92449632512756,113.37753738361755,113.57802276928811,114.06438352208997,114.34062661601263,116.25837645620012,117.09478749248082,117.01001698092423,116.6483335087629,116.92333075879039,116.1115712151309,115.05303770484556,114.51947995990852,114.19241757680808,115.99436141182346,116.79383464246011,117.86922026053529,117.40803655569283,118.55570296732253,119.91889182181171,118.01049487524682,119.47797680965482,119.60136784723561,120.15003458705785,118.56425835402243,118.7584233394517,117.9982503446191,117.2779708379992,116.83214705737433,116.76443460956935,116.11331659714698,116.71937720320757,116.18866356273784,115.21146486566944,116.00123127278846,115.50790242426284,114.14675102406201,116.39523203672024,116.5028514943182,116.62335676200257,117.70231455700687,118.04306634062948,119.93389834742138,119.46027142684142,118.79730001069099,118.6988317393562,120.01589120710344,120.05249866713893,120.41078355730978,120.60352551075673,120.5479637816757,120.42566002361478,117.80187175688876,117.30529189577766,116.88283577455232,117.55609019957133,117.04226052864095,117.04226052864095,118.51060945185174,119.4630578457142,119.3456070367942,119.18178003810482,118.51935173148613,118.25891170076078,117.79909124969882,119.3710964807363,118.5666343977158,117.85540602401338,117.43876656530861,116.94280969199325,116.17349557345385,116.20625381761195,116.54739233960737,117.48156457582958,116.76789664311119,117.27447133593292,117.91362202383239,118.33063467101948,118.55857345317514,118.09290310446386,117.41833015266319,118.0646221890308,118.55704273757237,118.83056571350235,120.88504185173603,120.35844324883438,120.29603184001849,120.77124514599105,121.14276440806375,120.22404413136681,122.13306562149445,122.35996992464155,122.5531444256074,122.13604765141386,121.25328426626703,122.1651658888722,123.6920453290164,125.18551791387279,123.385606409448,122.15203714756731,119.46522532175828,121.26161563573325,120.70768586984696,118.0156580141147,116.15367420844669,114.95767462086035,115.2498586968282,113.54469482210132,113.51469482210132,112.0513301065876,113.11178602101278,114.03726691139498,116.07694969870647,117.91610857721115,118.59375661724451,120.19880994643576,118.18087272670482,118.55532664806948,120.29625929055653,120.82589872832389,120.04615202113037,121.12234671139586,120.36642866882573,120.53686963896004,120.60716487896808,115.21087003422885,113.80038792740076,114.72214345269667,115.64190241241756,115.29179997963908,115.23827824981676,115.2618286407346,116.19410468016882,116.53187104036351,116.4241008065021,117.07378577791218,117.08723570187482,117.64098163021359,117.39262832063577,117.54417627473842,119.1870642989494,118.7404458387197,120.36607497779255,120.92258524172217,121.57285735056573,121.05362055995907,119.9720079739217,118.67976145304698,118.52310933264863,118.78087017541449,119.16446284252828,119.8752867284863,120.12041207667573,120.78730103966339,121.16270128256944,121.77069490263325,122.82239422733157,122.46437229848843,122.2782964902387,123.01872971935884,119.98434128681691,120.42517655363827,120.88717701563873,120.54676082800938,120.99813618617557,120.36359643483533,120.05747398585572,120.01226091927948,119.10840824726502,119.50389251554407,120.58539547016552,119.59576608565195,120.19666196678381,121.05399324838417,122.15155422399394,121.0081846465923,120.5902870515574,120.12637516904738,122.00961434042213,122.31445796693224,123.87731187406702,125.07832890121843],\"yaxis\":\"y\",\"type\":\"scatter\"}],                        {\"template\":{\"data\":{\"histogram2dcontour\":[{\"type\":\"histogram2dcontour\",\"colorbar\":{\"outlinewidth\":0,\"ticks\":\"\"},\"colorscale\":[[0.0,\"#0d0887\"],[0.1111111111111111,\"#46039f\"],[0.2222222222222222,\"#7201a8\"],[0.3333333333333333,\"#9c179e\"],[0.4444444444444444,\"#bd3786\"],[0.5555555555555556,\"#d8576b\"],[0.6666666666666666,\"#ed7953\"],[0.7777777777777778,\"#fb9f3a\"],[0.8888888888888888,\"#fdca26\"],[1.0,\"#f0f921\"]]}],\"choropleth\":[{\"type\":\"choropleth\",\"colorbar\":{\"outlinewidth\":0,\"ticks\":\"\"}}],\"histogram2d\":[{\"type\":\"histogram2d\",\"colorbar\":{\"outlinewidth\":0,\"ticks\":\"\"},\"colorscale\":[[0.0,\"#0d0887\"],[0.1111111111111111,\"#46039f\"],[0.2222222222222222,\"#7201a8\"],[0.3333333333333333,\"#9c179e\"],[0.4444444444444444,\"#bd3786\"],[0.5555555555555556,\"#d8576b\"],[0.6666666666666666,\"#ed7953\"],[0.7777777777777778,\"#fb9f3a\"],[0.8888888888888888,\"#fdca26\"],[1.0,\"#f0f921\"]]}],\"heatmap\":[{\"type\":\"heatmap\",\"colorbar\":{\"outlinewidth\":0,\"ticks\":\"\"},\"colorscale\":[[0.0,\"#0d0887\"],[0.1111111111111111,\"#46039f\"],[0.2222222222222222,\"#7201a8\"],[0.3333333333333333,\"#9c179e\"],[0.4444444444444444,\"#bd3786\"],[0.5555555555555556,\"#d8576b\"],[0.6666666666666666,\"#ed7953\"],[0.7777777777777778,\"#fb9f3a\"],[0.8888888888888888,\"#fdca26\"],[1.0,\"#f0f921\"]]}],\"heatmapgl\":[{\"type\":\"heatmapgl\",\"colorbar\":{\"outlinewidth\":0,\"ticks\":\"\"},\"colorscale\":[[0.0,\"#0d0887\"],[0.1111111111111111,\"#46039f\"],[0.2222222222222222,\"#7201a8\"],[0.3333333333333333,\"#9c179e\"],[0.4444444444444444,\"#bd3786\"],[0.5555555555555556,\"#d8576b\"],[0.6666666666666666,\"#ed7953\"],[0.7777777777777778,\"#fb9f3a\"],[0.8888888888888888,\"#fdca26\"],[1.0,\"#f0f921\"]]}],\"contourcarpet\":[{\"type\":\"contourcarpet\",\"colorbar\":{\"outlinewidth\":0,\"ticks\":\"\"}}],\"contour\":[{\"type\":\"contour\",\"colorbar\":{\"outlinewidth\":0,\"ticks\":\"\"},\"colorscale\":[[0.0,\"#0d0887\"],[0.1111111111111111,\"#46039f\"],[0.2222222222222222,\"#7201a8\"],[0.3333333333333333,\"#9c179e\"],[0.4444444444444444,\"#bd3786\"],[0.5555555555555556,\"#d8576b\"],[0.6666666666666666,\"#ed7953\"],[0.7777777777777778,\"#fb9f3a\"],[0.8888888888888888,\"#fdca26\"],[1.0,\"#f0f921\"]]}],\"surface\":[{\"type\":\"surface\",\"colorbar\":{\"outlinewidth\":0,\"ticks\":\"\"},\"colorscale\":[[0.0,\"#0d0887\"],[0.1111111111111111,\"#46039f\"],[0.2222222222222222,\"#7201a8\"],[0.3333333333333333,\"#9c179e\"],[0.4444444444444444,\"#bd3786\"],[0.5555555555555556,\"#d8576b\"],[0.6666666666666666,\"#ed7953\"],[0.7777777777777778,\"#fb9f3a\"],[0.8888888888888888,\"#fdca26\"],[1.0,\"#f0f921\"]]}],\"mesh3d\":[{\"type\":\"mesh3d\",\"colorbar\":{\"outlinewidth\":0,\"ticks\":\"\"}}],\"scatter\":[{\"fillpattern\":{\"fillmode\":\"overlay\",\"size\":10,\"solidity\":0.2},\"type\":\"scatter\"}],\"parcoords\":[{\"type\":\"parcoords\",\"line\":{\"colorbar\":{\"outlinewidth\":0,\"ticks\":\"\"}}}],\"scatterpolargl\":[{\"type\":\"scatterpolargl\",\"marker\":{\"colorbar\":{\"outlinewidth\":0,\"ticks\":\"\"}}}],\"bar\":[{\"error_x\":{\"color\":\"#2a3f5f\"},\"error_y\":{\"color\":\"#2a3f5f\"},\"marker\":{\"line\":{\"color\":\"#E5ECF6\",\"width\":0.5},\"pattern\":{\"fillmode\":\"overlay\",\"size\":10,\"solidity\":0.2}},\"type\":\"bar\"}],\"scattergeo\":[{\"type\":\"scattergeo\",\"marker\":{\"colorbar\":{\"outlinewidth\":0,\"ticks\":\"\"}}}],\"scatterpolar\":[{\"type\":\"scatterpolar\",\"marker\":{\"colorbar\":{\"outlinewidth\":0,\"ticks\":\"\"}}}],\"histogram\":[{\"marker\":{\"pattern\":{\"fillmode\":\"overlay\",\"size\":10,\"solidity\":0.2}},\"type\":\"histogram\"}],\"scattergl\":[{\"type\":\"scattergl\",\"marker\":{\"colorbar\":{\"outlinewidth\":0,\"ticks\":\"\"}}}],\"scatter3d\":[{\"type\":\"scatter3d\",\"line\":{\"colorbar\":{\"outlinewidth\":0,\"ticks\":\"\"}},\"marker\":{\"colorbar\":{\"outlinewidth\":0,\"ticks\":\"\"}}}],\"scattermapbox\":[{\"type\":\"scattermapbox\",\"marker\":{\"colorbar\":{\"outlinewidth\":0,\"ticks\":\"\"}}}],\"scatterternary\":[{\"type\":\"scatterternary\",\"marker\":{\"colorbar\":{\"outlinewidth\":0,\"ticks\":\"\"}}}],\"scattercarpet\":[{\"type\":\"scattercarpet\",\"marker\":{\"colorbar\":{\"outlinewidth\":0,\"ticks\":\"\"}}}],\"carpet\":[{\"aaxis\":{\"endlinecolor\":\"#2a3f5f\",\"gridcolor\":\"white\",\"linecolor\":\"white\",\"minorgridcolor\":\"white\",\"startlinecolor\":\"#2a3f5f\"},\"baxis\":{\"endlinecolor\":\"#2a3f5f\",\"gridcolor\":\"white\",\"linecolor\":\"white\",\"minorgridcolor\":\"white\",\"startlinecolor\":\"#2a3f5f\"},\"type\":\"carpet\"}],\"table\":[{\"cells\":{\"fill\":{\"color\":\"#EBF0F8\"},\"line\":{\"color\":\"white\"}},\"header\":{\"fill\":{\"color\":\"#C8D4E3\"},\"line\":{\"color\":\"white\"}},\"type\":\"table\"}],\"barpolar\":[{\"marker\":{\"line\":{\"color\":\"#E5ECF6\",\"width\":0.5},\"pattern\":{\"fillmode\":\"overlay\",\"size\":10,\"solidity\":0.2}},\"type\":\"barpolar\"}],\"pie\":[{\"automargin\":true,\"type\":\"pie\"}]},\"layout\":{\"autotypenumbers\":\"strict\",\"colorway\":[\"#636efa\",\"#EF553B\",\"#00cc96\",\"#ab63fa\",\"#FFA15A\",\"#19d3f3\",\"#FF6692\",\"#B6E880\",\"#FF97FF\",\"#FECB52\"],\"font\":{\"color\":\"#2a3f5f\"},\"hovermode\":\"closest\",\"hoverlabel\":{\"align\":\"left\"},\"paper_bgcolor\":\"white\",\"plot_bgcolor\":\"#E5ECF6\",\"polar\":{\"bgcolor\":\"#E5ECF6\",\"angularaxis\":{\"gridcolor\":\"white\",\"linecolor\":\"white\",\"ticks\":\"\"},\"radialaxis\":{\"gridcolor\":\"white\",\"linecolor\":\"white\",\"ticks\":\"\"}},\"ternary\":{\"bgcolor\":\"#E5ECF6\",\"aaxis\":{\"gridcolor\":\"white\",\"linecolor\":\"white\",\"ticks\":\"\"},\"baxis\":{\"gridcolor\":\"white\",\"linecolor\":\"white\",\"ticks\":\"\"},\"caxis\":{\"gridcolor\":\"white\",\"linecolor\":\"white\",\"ticks\":\"\"}},\"coloraxis\":{\"colorbar\":{\"outlinewidth\":0,\"ticks\":\"\"}},\"colorscale\":{\"sequential\":[[0.0,\"#0d0887\"],[0.1111111111111111,\"#46039f\"],[0.2222222222222222,\"#7201a8\"],[0.3333333333333333,\"#9c179e\"],[0.4444444444444444,\"#bd3786\"],[0.5555555555555556,\"#d8576b\"],[0.6666666666666666,\"#ed7953\"],[0.7777777777777778,\"#fb9f3a\"],[0.8888888888888888,\"#fdca26\"],[1.0,\"#f0f921\"]],\"sequentialminus\":[[0.0,\"#0d0887\"],[0.1111111111111111,\"#46039f\"],[0.2222222222222222,\"#7201a8\"],[0.3333333333333333,\"#9c179e\"],[0.4444444444444444,\"#bd3786\"],[0.5555555555555556,\"#d8576b\"],[0.6666666666666666,\"#ed7953\"],[0.7777777777777778,\"#fb9f3a\"],[0.8888888888888888,\"#fdca26\"],[1.0,\"#f0f921\"]],\"diverging\":[[0,\"#8e0152\"],[0.1,\"#c51b7d\"],[0.2,\"#de77ae\"],[0.3,\"#f1b6da\"],[0.4,\"#fde0ef\"],[0.5,\"#f7f7f7\"],[0.6,\"#e6f5d0\"],[0.7,\"#b8e186\"],[0.8,\"#7fbc41\"],[0.9,\"#4d9221\"],[1,\"#276419\"]]},\"xaxis\":{\"gridcolor\":\"white\",\"linecolor\":\"white\",\"ticks\":\"\",\"title\":{\"standoff\":15},\"zerolinecolor\":\"white\",\"automargin\":true,\"zerolinewidth\":2},\"yaxis\":{\"gridcolor\":\"white\",\"linecolor\":\"white\",\"ticks\":\"\",\"title\":{\"standoff\":15},\"zerolinecolor\":\"white\",\"automargin\":true,\"zerolinewidth\":2},\"scene\":{\"xaxis\":{\"backgroundcolor\":\"#E5ECF6\",\"gridcolor\":\"white\",\"linecolor\":\"white\",\"showbackground\":true,\"ticks\":\"\",\"zerolinecolor\":\"white\",\"gridwidth\":2},\"yaxis\":{\"backgroundcolor\":\"#E5ECF6\",\"gridcolor\":\"white\",\"linecolor\":\"white\",\"showbackground\":true,\"ticks\":\"\",\"zerolinecolor\":\"white\",\"gridwidth\":2},\"zaxis\":{\"backgroundcolor\":\"#E5ECF6\",\"gridcolor\":\"white\",\"linecolor\":\"white\",\"showbackground\":true,\"ticks\":\"\",\"zerolinecolor\":\"white\",\"gridwidth\":2}},\"shapedefaults\":{\"line\":{\"color\":\"#2a3f5f\"}},\"annotationdefaults\":{\"arrowcolor\":\"#2a3f5f\",\"arrowhead\":0,\"arrowwidth\":1},\"geo\":{\"bgcolor\":\"white\",\"landcolor\":\"#E5ECF6\",\"subunitcolor\":\"white\",\"showland\":true,\"showlakes\":true,\"lakecolor\":\"white\"},\"title\":{\"x\":0.05},\"mapbox\":{\"style\":\"light\"}}},\"xaxis\":{\"anchor\":\"y\",\"domain\":[0.0,1.0],\"title\":{\"text\":\"index\"}},\"yaxis\":{\"anchor\":\"x\",\"domain\":[0.0,1.0],\"title\":{\"text\":\"value\"}},\"legend\":{\"title\":{\"text\":\"variable\"},\"tracegroupgap\":0},\"margin\":{\"t\":60}},                        {\"responsive\": true}                    ).then(function(){\n",
       "                            \n",
       "var gd = document.getElementById('6b63bef7-1400-4bb7-a34a-4ba1c243737b');\n",
       "var x = new MutationObserver(function (mutations, observer) {{\n",
       "        var display = window.getComputedStyle(gd).display;\n",
       "        if (!display || display === 'none') {{\n",
       "            console.log([gd, 'removed!']);\n",
       "            Plotly.purge(gd);\n",
       "            observer.disconnect();\n",
       "        }}\n",
       "}});\n",
       "\n",
       "// Listen for the removal of the full notebook cells\n",
       "var notebookContainer = gd.closest('#notebook-container');\n",
       "if (notebookContainer) {{\n",
       "    x.observe(notebookContainer, {childList: true});\n",
       "}}\n",
       "\n",
       "// Listen for the clearing of the current output cell\n",
       "var outputEl = gd.closest('.output');\n",
       "if (outputEl) {{\n",
       "    x.observe(outputEl, {childList: true});\n",
       "}}\n",
       "\n",
       "                        })                };                });            </script>        </div>"
      ]
     },
     "metadata": {},
     "output_type": "display_data"
    }
   ],
   "source": [
    "# Create a new DataFrame 'Strategy' containing the 'USDJPY' values from the test set, shifted by one position to represent the next date\n",
    "Strategy = pd.DataFrame(df_combined['USDCHF'][x_train.shape[0]+1:])\n",
    "\n",
    "# Add the 'Y_pred' (predictions) from the random forest model as a new column 'Prediction' in the 'Strategy' DataFrame\n",
    "Strategy['Prediction'] = y_pred\n",
    "\n",
    "# Drop any rows with missing values (NaN) in the 'Strategy' DataFrame\n",
    "Strategy.dropna(inplace=True)\n",
    "\n",
    "# Calculate the 'Strategy' column, which represents the strategy's performance based on multiplying 'USDJPY' with 'Prediction'\n",
    "transaction_cost =  0.00015 #4 Bps Transaction Cost\n",
    "\n",
    "Strategy['Transaction_Cost'] = abs(Strategy['Prediction'] - Strategy['Prediction'].shift(1)) * transaction_cost # Calculate transaction cost\n",
    "Strategy['Strategy'] = (Strategy['Prediction'] * Strategy['USDCHF']) - Strategy['Transaction_Cost']  # Adjusted return\n",
    "\n",
    "Strategy.dropna(inplace=True)\n",
    "\n",
    "# Calculate the cumulative return for 'USDJPY' and 'Strategy' by taking the cumulative sum and multiplying by 100, then adding 100 to start from the initial value of 100\n",
    "Strategy['USDCHF_Cumulative_Return'] = (Strategy['USDCHF'].cumsum() * 100).add(100)\n",
    "Strategy['Strategy_Cumulative_Return'] = (Strategy['Strategy'].cumsum() * 100).add(100)\n",
    "\n",
    "# Create a dictionary 'new_row' representing a new row of data with zeros for 'USDJPY', 'Prediction', 'Strategy' and 100 for 'USDJPY_Cumulative_Return' and 'Strategy_Cumulative_Return'\n",
    "new_row = {'USDCHF': 0.0, 'Prediction': 0.0, 'Strategy': 0.0, 'USDCHF_Cumulative_Return': 100.0, 'Strategy_Cumulative_Return': 100.0}\n",
    "\n",
    "# Create a DataFrame 'new_row_df' from the 'new_row' dictionary and set the index to '2021-01-01'\n",
    "new_row_df = pd.DataFrame(new_row, index=[Strategy.index[0] - timedelta(days=7)])\n",
    "\n",
    "# Concatenate the 'new_row_df' DataFrame with the 'Strategy' DataFrame to add the new row at the beginning\n",
    "Strategy = pd.concat([new_row_df, Strategy])\n",
    "\n",
    "# Plot a line chart showing the 'USDJPY_Cumulative_Return' and 'Strategy_Cumulative_Return' columns from the 'Strategy' DataFrame\n",
    "px.line(Strategy[['USDCHF_Cumulative_Return', 'Strategy_Cumulative_Return']])\n",
    "\n"
   ]
  },
  {
   "cell_type": "code",
   "execution_count": 54,
   "metadata": {
    "tags": []
   },
   "outputs": [
    {
     "name": "stdout",
     "output_type": "stream",
     "text": [
      "Portfolio Comparison Metrics:\n",
      "------------------------------\n",
      "Metric                   USDCHF                   Strategy                 \n",
      "------------------------------\n",
      "Cumulative Return:        -0.0988                  0.2508                   \n",
      "Annualized Return:        -0.0165                  0.0418                   \n",
      "Annualized Volatility:    0.0754                   0.0751                   \n",
      "Sharpe Ratio:             -0.2186                  0.5564                   \n",
      "Maximum Drawdown:         -0.1491                  -0.1049                  \n",
      "------------------------------\n"
     ]
    }
   ],
   "source": [
    "# Calculate portfolio returns\n",
    "eurusd_returns = Strategy['USDCHF']\n",
    "strategy_returns = Strategy['Strategy']\n",
    "\n",
    "# Calculate portfolio annualized return\n",
    "eurusd_annual_return = eurusd_returns.mean() * 52\n",
    "strategy_annual_return = strategy_returns.mean() * 52\n",
    "\n",
    "# Calculate portfolio volatility\n",
    "eurusd_volatility = eurusd_returns.std() * np.sqrt(52)\n",
    "strategy_volatility = strategy_returns.std() * np.sqrt(52)\n",
    "\n",
    "# Calculate portfolio cumulative returns\n",
    "eurusd_cumulative_returns = eurusd_returns.cumsum().iloc[-1]\n",
    "strategy_cumulative_returns = strategy_returns.cumsum().iloc[-1]\n",
    "\n",
    "# Calculate portfolio Information Ratio\n",
    "eurusd_sharpe_ratio = eurusd_annual_return / eurusd_volatility\n",
    "strategy_sharpe_ratio = strategy_annual_return / strategy_volatility\n",
    "\n",
    "# Calculate portfolio maximum drawdown\n",
    "eurusd_drawdown = np.min(Strategy['USDCHF_Cumulative_Return'] / Strategy['USDCHF_Cumulative_Return'].cummax() - 1)\n",
    "strategy_drawdown = np.min(Strategy['Strategy_Cumulative_Return'] / Strategy['Strategy_Cumulative_Return'].cummax() - 1)\n",
    "\n",
    "# Print the comparison metrics\n",
    "print(\"Portfolio Comparison Metrics:\")\n",
    "print(f\"{'-' * 30}\")\n",
    "print(f\"{'Metric':<25}{'USDCHF':<25}{'Strategy':<25}\")\n",
    "print(f\"{'-' * 30}\")\n",
    "print(f\"Cumulative Return:        {eurusd_cumulative_returns:<25.4f}{strategy_cumulative_returns:<25.4f}\")\n",
    "print(f\"Annualized Return:        {eurusd_annual_return:<25.4f}{strategy_annual_return:<25.4f}\")\n",
    "print(f\"Annualized Volatility:    {eurusd_volatility:<25.4f}{strategy_volatility:<25.4f}\")\n",
    "print(f\"Sharpe Ratio:             {eurusd_sharpe_ratio:<25.4f}{strategy_sharpe_ratio:<25.4f}\")\n",
    "print(f\"Maximum Drawdown:         {eurusd_drawdown:<25.4f}{strategy_drawdown:<25.4f}\")\n",
    "print(f\"{'-' * 30}\")\n"
   ]
  },
  {
   "cell_type": "code",
   "execution_count": 55,
   "metadata": {
    "tags": []
   },
   "outputs": [
    {
     "data": {
      "image/png": "[encoded data removed]",
      "text/plain": [
       "<Figure size 800x600 with 1 Axes>"
      ]
     },
     "metadata": {},
     "output_type": "display_data"
    }
   ],
   "source": [
    "# Get the feature importances\n",
    "importances = model.feature_importances_\n",
    "\n",
    "# Get the names of the features\n",
    "feature_names = x_train.columns\n",
    "\n",
    "# Create a dataframe to store the feature importances\n",
    "importance_df = pd.DataFrame({'Feature': feature_names, 'Importance': importances})\n",
    "\n",
    "# Sort the dataframe by importance (descending order)\n",
    "importance_df = importance_df.sort_values(by='Importance', ascending=False)\n",
    "\n",
    "# Plot the feature importances\n",
    "plt.figure(figsize=(8, 6))\n",
    "plt.bar(importance_df['Feature'], importance_df['Importance'])\n",
    "plt.xticks(rotation=90)\n",
    "plt.xlabel('Features')\n",
    "plt.ylabel('Importance')\n",
    "plt.title('Feature Importance')\n",
    "plt.tight_layout()\n",
    "plt.show()"
   ]
  },
  {
   "cell_type": "code",
   "execution_count": 57,
   "metadata": {
    "tags": []
   },
   "outputs": [
    {
     "name": "stderr",
     "output_type": "stream",
     "text": [
      "C:\\ProgramData\\anaconda3\\Lib\\site-packages\\sklearn\\model_selection\\_split.py:725: UserWarning:\n",
      "\n",
      "The least populated class in y has only 3 members, which is less than n_splits=5.\n",
      "\n"
     ]
    },
    {
     "data": {
      "image/png": "[encoded data removed]",
      "text/plain": [
       "<Figure size 800x550 with 1 Axes>"
      ]
     },
     "metadata": {},
     "output_type": "display_data"
    },
    {
     "data": {
      "text/plain": [
       "<Axes: title={'center': 'Cross Validation Scores for DecisionTreeClassifier'}, xlabel='Training Instances', ylabel='Score'>"
      ]
     },
     "execution_count": 57,
     "metadata": {},
     "output_type": "execute_result"
    }
   ],
   "source": [
    "from sklearn.model_selection import StratifiedKFold\n",
    "from yellowbrick.model_selection import CVScores\n",
    "cv = StratifiedKFold(n_splits=5, shuffle=True, random_state=42)\n",
    "visualizer = CVScores(model, cv=cv, scoring='accuracy')\n",
    "visualizer.fit(x, y)        # Fit the data to the visualizer\n",
    "visualizer.show()  "
   ]
  },
  {
   "cell_type": "code",
   "execution_count": 19,
   "metadata": {},
   "outputs": [
    {
     "data": {
      "image/png": "[encoded data removed]",
      "text/plain": [
       "<Figure size 1080x1800 with 1 Axes>"
      ]
     },
     "metadata": {
      "needs_background": "light"
     },
     "output_type": "display_data"
    }
   ],
   "source": [
    "from sklearn import tree\n",
    "from matplotlib import pyplot as plt\n",
    "fig, axes = plt.subplots(figsize = (15,25))\n",
    "tree.plot_tree(model, feature_names=x_train.columns.tolist(),filled=True,fontsize=6)\n",
    "plt.show()"
   ]
  },
  {
   "cell_type": "code",
   "execution_count": 20,
   "metadata": {
    "tags": []
   },
   "outputs": [
    {
     "data": {
      "application/vnd.plotly.v1+json": {
       "config": {
        "plotlyServerURL": "https://plot.ly"
       },
       "data": [
        {
         "hovertemplate": "variable=Cummulative_Long_prediction<br>Date=%{x}<br>value=%{y}<extra></extra>",
         "legendgroup": "Cummulative_Long_prediction",
         "line": {
          "color": "#636efa",
          "dash": "solid"
         },
         "marker": {
          "symbol": "circle"
         },
         "mode": "lines",
         "name": "Cummulative_Long_prediction",
         "orientation": "v",
         "showlegend": true,
         "type": "scatter",
         "x": [
          "2017-12-22T00:00:00",
          "2017-12-29T00:00:00",
          "2018-01-05T00:00:00",
          "2018-01-12T00:00:00",
          "2018-01-19T00:00:00",
          "2018-01-26T00:00:00",
          "2018-02-02T00:00:00",
          "2018-02-09T00:00:00",
          "2018-02-16T00:00:00",
          "2018-02-23T00:00:00",
          "2018-03-02T00:00:00",
          "2018-03-09T00:00:00",
          "2018-03-16T00:00:00",
          "2018-03-23T00:00:00",
          "2018-03-30T00:00:00",
          "2018-04-06T00:00:00",
          "2018-04-13T00:00:00",
          "2018-04-20T00:00:00",
          "2018-04-27T00:00:00",
          "2018-05-04T00:00:00",
          "2018-05-11T00:00:00",
          "2018-05-18T00:00:00",
          "2018-05-25T00:00:00",
          "2018-06-01T00:00:00",
          "2018-06-08T00:00:00",
          "2018-06-15T00:00:00",
          "2018-06-22T00:00:00",
          "2018-06-29T00:00:00",
          "2018-07-06T00:00:00",
          "2018-07-13T00:00:00",
          "2018-07-20T00:00:00",
          "2018-07-27T00:00:00",
          "2018-08-03T00:00:00",
          "2018-08-10T00:00:00",
          "2018-08-17T00:00:00",
          "2018-08-24T00:00:00",
          "2018-08-31T00:00:00",
          "2018-09-07T00:00:00",
          "2018-09-14T00:00:00",
          "2018-09-21T00:00:00",
          "2018-09-28T00:00:00",
          "2018-10-05T00:00:00",
          "2018-10-12T00:00:00",
          "2018-10-19T00:00:00",
          "2018-10-26T00:00:00",
          "2018-11-02T00:00:00",
          "2018-11-09T00:00:00",
          "2018-11-16T00:00:00",
          "2018-11-23T00:00:00",
          "2018-11-30T00:00:00",
          "2018-12-07T00:00:00",
          "2018-12-14T00:00:00",
          "2018-12-21T00:00:00",
          "2018-12-28T00:00:00",
          "2019-01-04T00:00:00",
          "2019-01-11T00:00:00",
          "2019-01-18T00:00:00",
          "2019-01-25T00:00:00",
          "2019-02-01T00:00:00",
          "2019-02-08T00:00:00",
          "2019-02-15T00:00:00",
          "2019-02-22T00:00:00",
          "2019-03-01T00:00:00",
          "2019-03-08T00:00:00",
          "2019-03-15T00:00:00",
          "2019-03-22T00:00:00",
          "2019-03-29T00:00:00",
          "2019-04-05T00:00:00",
          "2019-04-12T00:00:00",
          "2019-04-19T00:00:00",
          "2019-04-26T00:00:00",
          "2019-05-03T00:00:00",
          "2019-05-10T00:00:00",
          "2019-05-17T00:00:00",
          "2019-05-24T00:00:00",
          "2019-05-31T00:00:00",
          "2019-06-07T00:00:00",
          "2019-06-14T00:00:00",
          "2019-06-21T00:00:00",
          "2019-06-28T00:00:00",
          "2019-07-05T00:00:00",
          "2019-07-12T00:00:00",
          "2019-07-19T00:00:00",
          "2019-07-26T00:00:00",
          "2019-08-02T00:00:00",
          "2019-08-09T00:00:00",
          "2019-08-16T00:00:00",
          "2019-08-23T00:00:00",
          "2019-08-30T00:00:00",
          "2019-09-06T00:00:00",
          "2019-09-13T00:00:00",
          "2019-09-20T00:00:00",
          "2019-09-27T00:00:00",
          "2019-10-04T00:00:00",
          "2019-10-11T00:00:00",
          "2019-10-18T00:00:00",
          "2019-10-25T00:00:00",
          "2019-11-01T00:00:00",
          "2019-11-08T00:00:00",
          "2019-11-15T00:00:00",
          "2019-11-22T00:00:00",
          "2019-11-29T00:00:00",
          "2019-12-06T00:00:00",
          "2019-12-13T00:00:00",
          "2019-12-20T00:00:00",
          "2019-12-27T00:00:00",
          "2020-01-03T00:00:00",
          "2020-01-10T00:00:00",
          "2020-01-17T00:00:00",
          "2020-01-24T00:00:00",
          "2020-01-31T00:00:00",
          "2020-02-07T00:00:00",
          "2020-02-14T00:00:00",
          "2020-02-21T00:00:00",
          "2020-02-28T00:00:00",
          "2020-03-06T00:00:00",
          "2020-03-13T00:00:00",
          "2020-03-20T00:00:00",
          "2020-03-27T00:00:00",
          "2020-04-03T00:00:00",
          "2020-04-10T00:00:00",
          "2020-04-17T00:00:00",
          "2020-04-24T00:00:00",
          "2020-05-01T00:00:00",
          "2020-05-08T00:00:00",
          "2020-05-15T00:00:00",
          "2020-05-22T00:00:00",
          "2020-05-29T00:00:00",
          "2020-06-05T00:00:00",
          "2020-06-12T00:00:00",
          "2020-06-19T00:00:00",
          "2020-06-26T00:00:00",
          "2020-07-03T00:00:00",
          "2020-07-10T00:00:00",
          "2020-07-17T00:00:00",
          "2020-07-24T00:00:00",
          "2020-07-31T00:00:00",
          "2020-08-07T00:00:00",
          "2020-08-14T00:00:00",
          "2020-08-21T00:00:00",
          "2020-08-28T00:00:00",
          "2020-09-04T00:00:00",
          "2020-09-11T00:00:00",
          "2020-09-18T00:00:00",
          "2020-09-25T00:00:00",
          "2020-10-02T00:00:00",
          "2020-10-09T00:00:00",
          "2020-10-16T00:00:00",
          "2020-10-23T00:00:00",
          "2020-10-30T00:00:00",
          "2020-11-06T00:00:00",
          "2020-11-13T00:00:00",
          "2020-11-20T00:00:00",
          "2020-11-27T00:00:00",
          "2020-12-04T00:00:00",
          "2020-12-11T00:00:00",
          "2020-12-18T00:00:00",
          "2020-12-25T00:00:00",
          "2021-01-01T00:00:00",
          "2021-01-08T00:00:00",
          "2021-01-15T00:00:00",
          "2021-01-22T00:00:00",
          "2021-01-29T00:00:00",
          "2021-02-05T00:00:00",
          "2021-02-12T00:00:00",
          "2021-02-19T00:00:00",
          "2021-02-26T00:00:00",
          "2021-03-05T00:00:00",
          "2021-03-12T00:00:00",
          "2021-03-19T00:00:00",
          "2021-03-26T00:00:00",
          "2021-04-02T00:00:00",
          "2021-04-09T00:00:00",
          "2021-04-16T00:00:00",
          "2021-04-23T00:00:00",
          "2021-04-30T00:00:00",
          "2021-05-07T00:00:00",
          "2021-05-14T00:00:00",
          "2021-05-21T00:00:00",
          "2021-05-28T00:00:00",
          "2021-06-04T00:00:00",
          "2021-06-11T00:00:00",
          "2021-06-18T00:00:00",
          "2021-06-25T00:00:00",
          "2021-07-02T00:00:00",
          "2021-07-09T00:00:00",
          "2021-07-16T00:00:00",
          "2021-07-23T00:00:00",
          "2021-07-30T00:00:00",
          "2021-08-06T00:00:00",
          "2021-08-13T00:00:00",
          "2021-08-20T00:00:00",
          "2021-08-27T00:00:00",
          "2021-09-03T00:00:00",
          "2021-09-10T00:00:00",
          "2021-09-17T00:00:00",
          "2021-09-24T00:00:00",
          "2021-10-01T00:00:00",
          "2021-10-08T00:00:00",
          "2021-10-15T00:00:00",
          "2021-10-22T00:00:00",
          "2021-10-29T00:00:00",
          "2021-11-05T00:00:00",
          "2021-11-12T00:00:00",
          "2021-11-19T00:00:00",
          "2021-11-26T00:00:00",
          "2021-12-03T00:00:00",
          "2021-12-10T00:00:00",
          "2021-12-17T00:00:00",
          "2021-12-24T00:00:00",
          "2021-12-31T00:00:00",
          "2022-01-07T00:00:00",
          "2022-01-14T00:00:00",
          "2022-01-21T00:00:00",
          "2022-01-28T00:00:00",
          "2022-02-04T00:00:00",
          "2022-02-11T00:00:00",
          "2022-02-18T00:00:00",
          "2022-02-25T00:00:00",
          "2022-03-04T00:00:00",
          "2022-03-11T00:00:00",
          "2022-03-18T00:00:00",
          "2022-03-25T00:00:00",
          "2022-04-01T00:00:00",
          "2022-04-08T00:00:00",
          "2022-04-15T00:00:00",
          "2022-04-22T00:00:00",
          "2022-04-29T00:00:00",
          "2022-05-06T00:00:00",
          "2022-05-13T00:00:00",
          "2022-05-20T00:00:00",
          "2022-05-27T00:00:00",
          "2022-06-03T00:00:00",
          "2022-06-10T00:00:00",
          "2022-06-17T00:00:00",
          "2022-06-24T00:00:00",
          "2022-07-01T00:00:00",
          "2022-07-08T00:00:00",
          "2022-07-15T00:00:00",
          "2022-07-22T00:00:00",
          "2022-07-29T00:00:00",
          "2022-08-05T00:00:00",
          "2022-08-12T00:00:00",
          "2022-08-19T00:00:00",
          "2022-08-26T00:00:00",
          "2022-09-02T00:00:00",
          "2022-09-09T00:00:00",
          "2022-09-16T00:00:00",
          "2022-09-23T00:00:00",
          "2022-09-30T00:00:00",
          "2022-10-07T00:00:00",
          "2022-10-14T00:00:00",
          "2022-10-21T00:00:00",
          "2022-10-28T00:00:00",
          "2022-11-04T00:00:00",
          "2022-11-11T00:00:00",
          "2022-11-18T00:00:00",
          "2022-11-25T00:00:00",
          "2022-12-02T00:00:00",
          "2022-12-09T00:00:00",
          "2022-12-16T00:00:00",
          "2022-12-23T00:00:00",
          "2022-12-30T00:00:00",
          "2023-01-06T00:00:00",
          "2023-01-13T00:00:00",
          "2023-01-20T00:00:00",
          "2023-01-27T00:00:00",
          "2023-02-03T00:00:00",
          "2023-02-10T00:00:00",
          "2023-02-17T00:00:00",
          "2023-02-24T00:00:00",
          "2023-03-03T00:00:00",
          "2023-03-10T00:00:00",
          "2023-03-17T00:00:00",
          "2023-03-24T00:00:00",
          "2023-03-31T00:00:00",
          "2023-04-07T00:00:00",
          "2023-04-14T00:00:00",
          "2023-04-21T00:00:00",
          "2023-04-28T00:00:00",
          "2023-05-05T00:00:00",
          "2023-05-12T00:00:00",
          "2023-05-19T00:00:00",
          "2023-05-26T00:00:00",
          "2023-06-02T00:00:00",
          "2023-06-09T00:00:00",
          "2023-06-16T00:00:00",
          "2023-06-23T00:00:00",
          "2023-06-30T00:00:00",
          "2023-07-07T00:00:00",
          "2023-07-14T00:00:00",
          "2023-07-21T00:00:00",
          "2023-07-28T00:00:00",
          "2023-08-04T00:00:00",
          "2023-08-11T00:00:00",
          "2023-08-18T00:00:00",
          "2023-08-25T00:00:00",
          "2023-09-01T00:00:00",
          "2023-09-08T00:00:00",
          "2023-09-15T00:00:00",
          "2023-09-22T00:00:00",
          "2023-09-29T00:00:00",
          "2023-10-06T00:00:00",
          "2023-10-13T00:00:00",
          "2023-10-20T00:00:00",
          "2023-10-27T00:00:00",
          "2023-11-03T00:00:00",
          "2023-11-10T00:00:00",
          "2023-11-17T00:00:00",
          "2023-11-24T00:00:00",
          "2023-12-01T00:00:00",
          "2023-12-08T00:00:00"
         ],
         "xaxis": "x",
         "y": [
          99.74760222110045,
          99.74760222110045,
          99.78865733759433,
          99.0294493761703,
          98.56423692915283,
          98.56423692915283,
          98.45698682190272,
          99.23001666944404,
          99.23001666944404,
          100.21167794236744,
          100.35055199428497,
          100.35055199428497,
          100.42413551157709,
          100.42413551157709,
          101.12077895679559,
          101.12077895679559,
          101.44399864191706,
          101.44399864191706,
          101.44399864191706,
          102.68931604598713,
          102.68931604598713,
          102.50928003878568,
          102.50928003878568,
          102.50928003878568,
          102.25629481312286,
          103.46355868651233,
          103.46355868651233,
          103.71656951537582,
          103.5853359195753,
          104.8387474226583,
          103.90034271066867,
          104.1220498556853,
          104.1220498556853,
          104.1220498556853,
          104.1220498556853,
          104.1220498556853,
          102.637555702152,
          102.66851864982462,
          102.58597634689438,
          101.58432413706373,
          103.9834062273944,
          103.9834062273944,
          104.07413203384601,
          104.07413203384601,
          104.17453364027172,
          104.82648950787453,
          105.03575707140217,
          104.46893129574585,
          104.2189062932456,
          104.2189062932456,
          103.6276646858701,
          104.23250339554752,
          104.23250339554752,
          104.23250339554752,
          104.23250339554752,
          103.81735556241671,
          103.81735556241671,
          103.66666237374884,
          103.66666237374884,
          103.66666237374884,
          104.13642749119013,
          104.13642749119013,
          104.02647147359717,
          104.02647147359717,
          103.42143279079615,
          102.57321405015149,
          102.57321405015149,
          102.57321405015149,
          102.78315106904583,
          104.00023007942092,
          104.49303512574461,
          104.19880209318282,
          103.72663998419208,
          103.72663998419208,
          102.85621466272818,
          102.69656589002813,
          102.69656589002813,
          102.69656589002813,
          102.69656589002813,
          102.69656589002813,
          104.26370713759549,
          104.26370713759549,
          104.26370713759549,
          105.41453716101947,
          105.41453716101947,
          104.42715931085658,
          105.00287638703628,
          104.59400385304876,
          106.24647229192794,
          106.24647229192794,
          106.5401431780039,
          106.59062783066949,
          106.59062783066949,
          107.08512778021031,
          107.08512778021031,
          107.08512778021031,
          107.08512778021031,
          106.1803323645071,
          107.36730608876395,
          106.62537707332382,
          106.62537707332382,
          106.88600257452669,
          105.95618853733413,
          105.95618853733413,
          105.81394102666557,
          105.81394102666557,
          105.81394102666557,
          105.7831053806588,
          105.29986458279738,
          105.68213547855107,
          104.83816676714721,
          104.83816676714721,
          105.30865873809945,
          104.89127097468705,
          104.89127097468705,
          102.1345086158934,
          103.56262329137031,
          107.26126782220986,
          107.26126782220986,
          107.26126782220986,
          107.26126782220986,
          107.26126782220986,
          107.92338245080492,
          106.73119334494676,
          106.73119334494676,
          106.73119334494676,
          106.73119334494676,
          106.73119334494676,
          106.73119334494676,
          105.70240814282684,
          105.69190835282264,
          105.69190835282264,
          105.69190835282264,
          105.69190835282264,
          105.69190835282264,
          105.69190835282264,
          105.69190835282264,
          105.63713784126605,
          105.27545436910472,
          105.55045161913222,
          104.73869207547271,
          104.73869207547271,
          104.23513433053567,
          104.23513433053567,
          106.06707816555104,
          106.06707816555104,
          106.06707816555104,
          106.06707816555104,
          106.06707816555104,
          107.46026702004022,
          105.55187007347533,
          107.01935200788333,
          107.01935200788333,
          107.01935200788333,
          105.46357577484791,
          105.46357577484791,
          104.7334027800153,
          104.7334027800153,
          104.31757899939042,
          104.24986655158544,
          104.24986655158544,
          104.24986655158544,
          104.24986655158544,
          104.24986655158544,
          104.24986655158544,
          104.24986655158544,
          104.24986655158544,
          106.52834756424367,
          106.63596702184162,
          106.63596702184162,
          107.74492481684592,
          108.08567660046853,
          108.08567660046853,
          107.64204967988856,
          106.97907826373815,
          106.88060999240335,
          106.88060999240335,
          106.94721745243886,
          106.94721745243886,
          107.16995940588579,
          107.11439767680478,
          106.99209391874386,
          106.99209391874386,
          106.52551405763275,
          106.52551405763275,
          106.52551405763275,
          106.52551405763275,
          106.52551405763275,
          106.52551405763275,
          107.5079624514952,
          107.5079624514952,
          107.5079624514952,
          106.87553414487651,
          106.87553414487651,
          106.87553414487651,
          108.477539375914,
          107.67307729289351,
          107.67307729289351,
          107.28643783418875,
          106.79048096087338,
          106.02116684233398,
          106.0539250864921,
          106.0539250864921,
          107.0180973227143,
          107.0180973227143,
          107.0180973227143,
          107.0180973227143,
          107.46510996990139,
          107.69304875205705,
          107.22737840334577,
          106.5528054515451,
          107.19909748791271,
          107.19909748791271,
          107.19909748791271,
          109.28357362614639,
          108.75697502324473,
          108.75697502324473,
          108.75697502324473,
          109.15849428531743,
          108.23977400862049,
          110.14879549874813,
          110.14879549874813,
          110.14879549874813,
          109.76169872455458,
          109.76169872455458,
          110.70358034715974,
          112.23045978730394,
          113.72393237216033,
          113.72393237216033,
          113.72393237216033,
          111.06712054635129,
          111.06712054635129,
          111.06712054635129,
          111.06712054635129,
          109.23513674068329,
          108.03913715309695,
          108.3313212290648,
          108.3313212290648,
          108.3313212290648,
          106.86795651355108,
          106.86795651355108,
          107.82343740393327,
          107.82343740393327,
          109.69259628243795,
          110.37024432247131,
          111.97529765166257,
          109.95736043193163,
          110.3318143532963,
          112.07274699578333,
          112.60238643355069,
          112.60238643355069,
          113.70858112381619,
          112.95266308124606,
          112.95266308124606,
          112.95266308124606,
          107.58636823650684,
          107.58636823650684,
          107.58636823650684,
          107.58636823650684,
          107.26626580372834,
          107.21274407390604,
          107.21274407390604,
          107.21274407390604,
          107.58051043410072,
          107.47274020023931,
          107.47274020023931,
          107.51619012420196,
          108.06993605254071,
          107.8215827429629,
          107.97313069706554,
          109.61601872127652,
          109.16940026104683,
          109.16940026104683,
          109.75591052497646,
          109.75591052497646,
          109.2666737343698,
          108.18506114833244,
          106.8928146274577,
          106.73616250705935,
          106.99392334982522,
          106.99392334982522,
          107.73474723578325,
          107.97987258397268,
          108.64676154696033,
          109.02216178986639,
          109.02216178986639,
          109.02216178986639,
          109.02216178986639,
          108.86608598161666,
          108.86608598161666,
          105.86169754907473,
          106.30253281589607,
          106.76453327789655,
          106.76453327789655,
          107.24590863606274,
          107.24590863606274,
          107.24590863606274,
          107.24590863606274,
          107.24590863606274,
          107.67139290434177,
          108.75289585896324,
          108.75289585896324,
          108.75289585896324,
          108.75289585896324,
          108.75289585896324,
          108.75289585896324,
          108.36499826392833,
          108.36499826392833,
          108.36499826392833,
          108.36499826392833,
          108.36499826392833,
          109.04378335366603
         ],
         "yaxis": "y"
        },
        {
         "hovertemplate": "variable=Cummulative_Short_prediction<br>Date=%{x}<br>value=%{y}<extra></extra>",
         "legendgroup": "Cummulative_Short_prediction",
         "line": {
          "color": "#EF553B",
          "dash": "solid"
         },
         "marker": {
          "symbol": "circle"
         },
         "mode": "lines",
         "name": "Cummulative_Short_prediction",
         "orientation": "v",
         "showlegend": true,
         "type": "scatter",
         "x": [
          "2017-12-22T00:00:00",
          "2017-12-29T00:00:00",
          "2018-01-05T00:00:00",
          "2018-01-12T00:00:00",
          "2018-01-19T00:00:00",
          "2018-01-26T00:00:00",
          "2018-02-02T00:00:00",
          "2018-02-09T00:00:00",
          "2018-02-16T00:00:00",
          "2018-02-23T00:00:00",
          "2018-03-02T00:00:00",
          "2018-03-09T00:00:00",
          "2018-03-16T00:00:00",
          "2018-03-23T00:00:00",
          "2018-03-30T00:00:00",
          "2018-04-06T00:00:00",
          "2018-04-13T00:00:00",
          "2018-04-20T00:00:00",
          "2018-04-27T00:00:00",
          "2018-05-04T00:00:00",
          "2018-05-11T00:00:00",
          "2018-05-18T00:00:00",
          "2018-05-25T00:00:00",
          "2018-06-01T00:00:00",
          "2018-06-08T00:00:00",
          "2018-06-15T00:00:00",
          "2018-06-22T00:00:00",
          "2018-06-29T00:00:00",
          "2018-07-06T00:00:00",
          "2018-07-13T00:00:00",
          "2018-07-20T00:00:00",
          "2018-07-27T00:00:00",
          "2018-08-03T00:00:00",
          "2018-08-10T00:00:00",
          "2018-08-17T00:00:00",
          "2018-08-24T00:00:00",
          "2018-08-31T00:00:00",
          "2018-09-07T00:00:00",
          "2018-09-14T00:00:00",
          "2018-09-21T00:00:00",
          "2018-09-28T00:00:00",
          "2018-10-05T00:00:00",
          "2018-10-12T00:00:00",
          "2018-10-19T00:00:00",
          "2018-10-26T00:00:00",
          "2018-11-02T00:00:00",
          "2018-11-09T00:00:00",
          "2018-11-16T00:00:00",
          "2018-11-23T00:00:00",
          "2018-11-30T00:00:00",
          "2018-12-07T00:00:00",
          "2018-12-14T00:00:00",
          "2018-12-21T00:00:00",
          "2018-12-28T00:00:00",
          "2019-01-04T00:00:00",
          "2019-01-11T00:00:00",
          "2019-01-18T00:00:00",
          "2019-01-25T00:00:00",
          "2019-02-01T00:00:00",
          "2019-02-08T00:00:00",
          "2019-02-15T00:00:00",
          "2019-02-22T00:00:00",
          "2019-03-01T00:00:00",
          "2019-03-08T00:00:00",
          "2019-03-15T00:00:00",
          "2019-03-22T00:00:00",
          "2019-03-29T00:00:00",
          "2019-04-05T00:00:00",
          "2019-04-12T00:00:00",
          "2019-04-19T00:00:00",
          "2019-04-26T00:00:00",
          "2019-05-03T00:00:00",
          "2019-05-10T00:00:00",
          "2019-05-17T00:00:00",
          "2019-05-24T00:00:00",
          "2019-05-31T00:00:00",
          "2019-06-07T00:00:00",
          "2019-06-14T00:00:00",
          "2019-06-21T00:00:00",
          "2019-06-28T00:00:00",
          "2019-07-05T00:00:00",
          "2019-07-12T00:00:00",
          "2019-07-19T00:00:00",
          "2019-07-26T00:00:00",
          "2019-08-02T00:00:00",
          "2019-08-09T00:00:00",
          "2019-08-16T00:00:00",
          "2019-08-23T00:00:00",
          "2019-08-30T00:00:00",
          "2019-09-06T00:00:00",
          "2019-09-13T00:00:00",
          "2019-09-20T00:00:00",
          "2019-09-27T00:00:00",
          "2019-10-04T00:00:00",
          "2019-10-11T00:00:00",
          "2019-10-18T00:00:00",
          "2019-10-25T00:00:00",
          "2019-11-01T00:00:00",
          "2019-11-08T00:00:00",
          "2019-11-15T00:00:00",
          "2019-11-22T00:00:00",
          "2019-11-29T00:00:00",
          "2019-12-06T00:00:00",
          "2019-12-13T00:00:00",
          "2019-12-20T00:00:00",
          "2019-12-27T00:00:00",
          "2020-01-03T00:00:00",
          "2020-01-10T00:00:00",
          "2020-01-17T00:00:00",
          "2020-01-24T00:00:00",
          "2020-01-31T00:00:00",
          "2020-02-07T00:00:00",
          "2020-02-14T00:00:00",
          "2020-02-21T00:00:00",
          "2020-02-28T00:00:00",
          "2020-03-06T00:00:00",
          "2020-03-13T00:00:00",
          "2020-03-20T00:00:00",
          "2020-03-27T00:00:00",
          "2020-04-03T00:00:00",
          "2020-04-10T00:00:00",
          "2020-04-17T00:00:00",
          "2020-04-24T00:00:00",
          "2020-05-01T00:00:00",
          "2020-05-08T00:00:00",
          "2020-05-15T00:00:00",
          "2020-05-22T00:00:00",
          "2020-05-29T00:00:00",
          "2020-06-05T00:00:00",
          "2020-06-12T00:00:00",
          "2020-06-19T00:00:00",
          "2020-06-26T00:00:00",
          "2020-07-03T00:00:00",
          "2020-07-10T00:00:00",
          "2020-07-17T00:00:00",
          "2020-07-24T00:00:00",
          "2020-07-31T00:00:00",
          "2020-08-07T00:00:00",
          "2020-08-14T00:00:00",
          "2020-08-21T00:00:00",
          "2020-08-28T00:00:00",
          "2020-09-04T00:00:00",
          "2020-09-11T00:00:00",
          "2020-09-18T00:00:00",
          "2020-09-25T00:00:00",
          "2020-10-02T00:00:00",
          "2020-10-09T00:00:00",
          "2020-10-16T00:00:00",
          "2020-10-23T00:00:00",
          "2020-10-30T00:00:00",
          "2020-11-06T00:00:00",
          "2020-11-13T00:00:00",
          "2020-11-20T00:00:00",
          "2020-11-27T00:00:00",
          "2020-12-04T00:00:00",
          "2020-12-11T00:00:00",
          "2020-12-18T00:00:00",
          "2020-12-25T00:00:00",
          "2021-01-01T00:00:00",
          "2021-01-08T00:00:00",
          "2021-01-15T00:00:00",
          "2021-01-22T00:00:00",
          "2021-01-29T00:00:00",
          "2021-02-05T00:00:00",
          "2021-02-12T00:00:00",
          "2021-02-19T00:00:00",
          "2021-02-26T00:00:00",
          "2021-03-05T00:00:00",
          "2021-03-12T00:00:00",
          "2021-03-19T00:00:00",
          "2021-03-26T00:00:00",
          "2021-04-02T00:00:00",
          "2021-04-09T00:00:00",
          "2021-04-16T00:00:00",
          "2021-04-23T00:00:00",
          "2021-04-30T00:00:00",
          "2021-05-07T00:00:00",
          "2021-05-14T00:00:00",
          "2021-05-21T00:00:00",
          "2021-05-28T00:00:00",
          "2021-06-04T00:00:00",
          "2021-06-11T00:00:00",
          "2021-06-18T00:00:00",
          "2021-06-25T00:00:00",
          "2021-07-02T00:00:00",
          "2021-07-09T00:00:00",
          "2021-07-16T00:00:00",
          "2021-07-23T00:00:00",
          "2021-07-30T00:00:00",
          "2021-08-06T00:00:00",
          "2021-08-13T00:00:00",
          "2021-08-20T00:00:00",
          "2021-08-27T00:00:00",
          "2021-09-03T00:00:00",
          "2021-09-10T00:00:00",
          "2021-09-17T00:00:00",
          "2021-09-24T00:00:00",
          "2021-10-01T00:00:00",
          "2021-10-08T00:00:00",
          "2021-10-15T00:00:00",
          "2021-10-22T00:00:00",
          "2021-10-29T00:00:00",
          "2021-11-05T00:00:00",
          "2021-11-12T00:00:00",
          "2021-11-19T00:00:00",
          "2021-11-26T00:00:00",
          "2021-12-03T00:00:00",
          "2021-12-10T00:00:00",
          "2021-12-17T00:00:00",
          "2021-12-24T00:00:00",
          "2021-12-31T00:00:00",
          "2022-01-07T00:00:00",
          "2022-01-14T00:00:00",
          "2022-01-21T00:00:00",
          "2022-01-28T00:00:00",
          "2022-02-04T00:00:00",
          "2022-02-11T00:00:00",
          "2022-02-18T00:00:00",
          "2022-02-25T00:00:00",
          "2022-03-04T00:00:00",
          "2022-03-11T00:00:00",
          "2022-03-18T00:00:00",
          "2022-03-25T00:00:00",
          "2022-04-01T00:00:00",
          "2022-04-08T00:00:00",
          "2022-04-15T00:00:00",
          "2022-04-22T00:00:00",
          "2022-04-29T00:00:00",
          "2022-05-06T00:00:00",
          "2022-05-13T00:00:00",
          "2022-05-20T00:00:00",
          "2022-05-27T00:00:00",
          "2022-06-03T00:00:00",
          "2022-06-10T00:00:00",
          "2022-06-17T00:00:00",
          "2022-06-24T00:00:00",
          "2022-07-01T00:00:00",
          "2022-07-08T00:00:00",
          "2022-07-15T00:00:00",
          "2022-07-22T00:00:00",
          "2022-07-29T00:00:00",
          "2022-08-05T00:00:00",
          "2022-08-12T00:00:00",
          "2022-08-19T00:00:00",
          "2022-08-26T00:00:00",
          "2022-09-02T00:00:00",
          "2022-09-09T00:00:00",
          "2022-09-16T00:00:00",
          "2022-09-23T00:00:00",
          "2022-09-30T00:00:00",
          "2022-10-07T00:00:00",
          "2022-10-14T00:00:00",
          "2022-10-21T00:00:00",
          "2022-10-28T00:00:00",
          "2022-11-04T00:00:00",
          "2022-11-11T00:00:00",
          "2022-11-18T00:00:00",
          "2022-11-25T00:00:00",
          "2022-12-02T00:00:00",
          "2022-12-09T00:00:00",
          "2022-12-16T00:00:00",
          "2022-12-23T00:00:00",
          "2022-12-30T00:00:00",
          "2023-01-06T00:00:00",
          "2023-01-13T00:00:00",
          "2023-01-20T00:00:00",
          "2023-01-27T00:00:00",
          "2023-02-03T00:00:00",
          "2023-02-10T00:00:00",
          "2023-02-17T00:00:00",
          "2023-02-24T00:00:00",
          "2023-03-03T00:00:00",
          "2023-03-10T00:00:00",
          "2023-03-17T00:00:00",
          "2023-03-24T00:00:00",
          "2023-03-31T00:00:00",
          "2023-04-07T00:00:00",
          "2023-04-14T00:00:00",
          "2023-04-21T00:00:00",
          "2023-04-28T00:00:00",
          "2023-05-05T00:00:00",
          "2023-05-12T00:00:00",
          "2023-05-19T00:00:00",
          "2023-05-26T00:00:00",
          "2023-06-02T00:00:00",
          "2023-06-09T00:00:00",
          "2023-06-16T00:00:00",
          "2023-06-23T00:00:00",
          "2023-06-30T00:00:00",
          "2023-07-07T00:00:00",
          "2023-07-14T00:00:00",
          "2023-07-21T00:00:00",
          "2023-07-28T00:00:00",
          "2023-08-04T00:00:00",
          "2023-08-11T00:00:00",
          "2023-08-18T00:00:00",
          "2023-08-25T00:00:00",
          "2023-09-01T00:00:00",
          "2023-09-08T00:00:00",
          "2023-09-15T00:00:00",
          "2023-09-22T00:00:00",
          "2023-09-29T00:00:00",
          "2023-10-06T00:00:00",
          "2023-10-13T00:00:00",
          "2023-10-20T00:00:00",
          "2023-10-27T00:00:00",
          "2023-11-03T00:00:00",
          "2023-11-10T00:00:00",
          "2023-11-17T00:00:00",
          "2023-11-24T00:00:00",
          "2023-12-01T00:00:00",
          "2023-12-08T00:00:00"
         ],
         "xaxis": "x",
         "y": [
          100,
          101.38663967611336,
          101.38663967611336,
          101.38663967611336,
          101.38663967611336,
          104.54409709198373,
          104.54409709198373,
          104.54409709198373,
          105.7799803223268,
          105.7799803223268,
          105.7799803223268,
          104.29715548767776,
          104.29715548767776,
          104.78034876498869,
          104.78034876498869,
          104.24575757002013,
          104.24575757002013,
          102.9570442048154,
          101.61290301868776,
          101.61290301868776,
          101.63290301868776,
          101.63290301868776,
          102.33430582429898,
          102.61684871027275,
          102.61684871027275,
          102.61684871027275,
          103.56913419543716,
          103.56913419543716,
          103.56913419543716,
          103.56913419543716,
          103.56913419543716,
          103.56913419543716,
          103.60935541212896,
          103.4987025603032,
          103.43841317123568,
          104.67360095994826,
          104.67360095994826,
          104.67360095994826,
          104.67360095994826,
          104.67360095994826,
          104.67360095994826,
          103.62440059323745,
          103.62440059323745,
          103.31218385439165,
          103.31218385439165,
          103.31218385439165,
          103.31218385439165,
          103.31218385439165,
          103.31218385439165,
          103.26205351551054,
          103.26205351551054,
          103.26205351551054,
          103.68289519887728,
          104.60863478430694,
          104.30394252349036,
          104.30394252349036,
          103.09397811067899,
          103.09397811067899,
          102.92293474615538,
          102.43076921783076,
          102.43076921783076,
          102.90828612988807,
          102.90828612988807,
          102.01766269348258,
          102.01766269348258,
          102.01766269348258,
          101.85663209766938,
          101.34417229059542,
          101.34417229059542,
          101.34417229059542,
          101.34417229059542,
          101.34417229059542,
          101.34417229059542,
          101.42323929988581,
          101.42323929988581,
          101.42323929988581,
          102.71246576400733,
          101.56839367734135,
          103.8206459295936,
          103.8411272403975,
          103.8411272403975,
          104.58739589711392,
          104.82108823606941,
          104.82108823606941,
          105.90848251718097,
          105.90848251718097,
          105.90848251718097,
          105.90848251718097,
          105.90848251718097,
          106.20129350264138,
          106.20129350264138,
          106.20129350264138,
          106.20129350264138,
          106.20129350264138,
          106.04061866833732,
          107.24374680148348,
          106.29996762551434,
          106.29996762551434,
          106.29996762551434,
          106.29996762551434,
          105.53229085783757,
          105.53229085783757,
          105.53229085783757,
          106.20844385006686,
          106.20844385006686,
          107.00209464371765,
          107.21747925910228,
          107.21747925910228,
          107.21747925910228,
          107.21747925910228,
          107.21747925910228,
          105.73315291490464,
          105.73315291490464,
          105.73315291490464,
          107.09279307029207,
          107.09279307029207,
          107.09279307029207,
          107.09279307029207,
          110.6595171558124,
          107.96959386065636,
          109.1053761178957,
          109.06397682168374,
          109.06397682168374,
          109.06397682168374,
          108.03422853793087,
          108.01363757736257,
          108.04451765970947,
          109.03298553450354,
          108.96019019340537,
          108.96019019340537,
          108.96019019340537,
          109.44323125189534,
          109.64371663756592,
          110.13007739036776,
          110.40632048429042,
          112.32407032447793,
          113.16048136075861,
          113.16048136075861,
          113.16048136075861,
          113.16048136075861,
          113.16048136075861,
          112.13194785047328,
          112.13194785047328,
          111.83488546737284,
          111.83488546737284,
          112.66435869800951,
          113.73974431608468,
          113.27856061124223,
          114.42622702287191,
          114.42622702287191,
          114.42622702287191,
          114.42622702287191,
          114.57961806045272,
          115.12828480027495,
          115.12828480027495,
          115.35244978570422,
          115.35244978570422,
          114.66217027908434,
          114.66217027908434,
          114.66217027908434,
          114.04105226666196,
          114.64711287272257,
          114.11639923225285,
          113.13920053518444,
          113.92896694230346,
          113.43563809377784,
          112.074486693577,
          112.074486693577,
          112.074486693577,
          112.22499196126138,
          112.22499196126138,
          112.22499196126138,
          114.14582396805328,
          114.14582396805328,
          114.14582396805328,
          114.14582396805328,
          115.49288343580051,
          115.49288343580051,
          115.88116832597134,
          115.88116832597134,
          115.88116832597134,
          115.88116832597134,
          113.28738005924532,
          113.28738005924532,
          112.89492393801999,
          113.568178363039,
          113.05434869210863,
          113.05434869210863,
          114.52269761531942,
          114.52269761531942,
          114.43524680639942,
          114.27141980771003,
          114.27141980771003,
          114.04097977698468,
          113.58115932592273,
          113.58115932592273,
          113.58115932592273,
          112.89993095222029,
          112.89993095222029,
          112.89993095222029,
          112.89993095222029,
          112.89993095222029,
          113.27106947421571,
          113.27106947421571,
          112.58740154149731,
          113.09397623431904,
          113.7331269222185,
          113.7331269222185,
          113.7331269222185,
          113.7331269222185,
          113.7331269222185,
          113.7331269222185,
          114.25554747076008,
          114.52907044669006,
          114.52907044669006,
          114.52907044669006,
          114.49665903787417,
          114.97187234384674,
          114.97187234384674,
          114.97187234384674,
          114.97187234384674,
          115.22877664699382,
          115.42195114795969,
          115.42195114795969,
          114.56918776281287,
          114.56918776281287,
          114.56918776281287,
          114.56918776281287,
          112.79927625838809,
          111.5657069965074,
          111.5657069965074,
          113.39209731048237,
          112.83816754459608,
          110.14613968886383,
          110.14613968886383,
          110.14613968886383,
          110.14613968886383,
          108.47097581413693,
          108.47097581413693,
          108.47097581413693,
          109.56143172856211,
          109.56143172856211,
          111.6311145158736,
          111.6311145158736,
          111.6311145158736,
          111.6311145158736,
          111.6311145158736,
          111.6311145158736,
          111.6311145158736,
          111.6311145158736,
          110.88136780868008,
          110.88136780868008,
          110.88136780868008,
          111.08180877881438,
          111.15210401882241,
          111.15210401882241,
          109.77162191199433,
          110.69337743729024,
          111.61313639701113,
          111.61313639701113,
          111.61313639701113,
          111.66668678792898,
          112.5989628273632,
          112.5989628273632,
          112.5989628273632,
          113.27864779877326,
          113.27864779877326,
          113.27864779877326,
          113.27864779877326,
          113.27864779877326,
          113.27864779877326,
          113.27864779877326,
          114.93427693784612,
          114.93427693784612,
          115.61454904668967,
          115.61454904668967,
          115.61454904668967,
          115.61454904668967,
          115.61454904668967,
          115.61454904668967,
          116.02814171380345,
          116.02814171380345,
          116.02814171380345,
          116.02814171380345,
          116.02814171380345,
          116.66613533386726,
          117.71783465856558,
          117.35981272972245,
          117.35981272972245,
          118.13024595884258,
          118.13024595884258,
          118.13024595884258,
          118.13024595884258,
          117.81982977121324,
          117.81982977121324,
          117.21529001987298,
          116.90916757089337,
          116.86395450431715,
          115.96010183230268,
          115.96010183230268,
          115.96010183230268,
          115.00047244778911,
          115.60136832892097,
          116.45869961052134,
          117.55626058613109,
          116.41289100872945,
          116.41289100872945,
          115.97897912621944,
          117.86221829759418,
          118.1670619241043,
          119.72991583123908,
          119.72991583123908
         ],
         "yaxis": "y"
        }
       ],
       "layout": {
        "autosize": true,
        "legend": {
         "title": {
          "text": "variable"
         },
         "tracegroupgap": 0
        },
        "margin": {
         "t": 60
        },
        "template": {
         "data": {
          "bar": [
           {
            "error_x": {
             "color": "#2a3f5f"
            },
            "error_y": {
             "color": "#2a3f5f"
            },
            "marker": {
             "line": {
              "color": "#E5ECF6",
              "width": 0.5
             },
             "pattern": {
              "fillmode": "overlay",
              "size": 10,
              "solidity": 0.2
             }
            },
            "type": "bar"
           }
          ],
          "barpolar": [
           {
            "marker": {
             "line": {
              "color": "#E5ECF6",
              "width": 0.5
             },
             "pattern": {
              "fillmode": "overlay",
              "size": 10,
              "solidity": 0.2
             }
            },
            "type": "barpolar"
           }
          ],
          "carpet": [
           {
            "aaxis": {
             "endlinecolor": "#2a3f5f",
             "gridcolor": "white",
             "linecolor": "white",
             "minorgridcolor": "white",
             "startlinecolor": "#2a3f5f"
            },
            "baxis": {
             "endlinecolor": "#2a3f5f",
             "gridcolor": "white",
             "linecolor": "white",
             "minorgridcolor": "white",
             "startlinecolor": "#2a3f5f"
            },
            "type": "carpet"
           }
          ],
          "choropleth": [
           {
            "colorbar": {
             "outlinewidth": 0,
             "ticks": ""
            },
            "type": "choropleth"
           }
          ],
          "contour": [
           {
            "colorbar": {
             "outlinewidth": 0,
             "ticks": ""
            },
            "colorscale": [
             [
              0,
              "#0d0887"
             ],
             [
              0.1111111111111111,
              "#46039f"
             ],
             [
              0.2222222222222222,
              "#7201a8"
             ],
             [
              0.3333333333333333,
              "#9c179e"
             ],
             [
              0.4444444444444444,
              "#bd3786"
             ],
             [
              0.5555555555555556,
              "#d8576b"
             ],
             [
              0.6666666666666666,
              "#ed7953"
             ],
             [
              0.7777777777777778,
              "#fb9f3a"
             ],
             [
              0.8888888888888888,
              "#fdca26"
             ],
             [
              1,
              "#f0f921"
             ]
            ],
            "type": "contour"
           }
          ],
          "contourcarpet": [
           {
            "colorbar": {
             "outlinewidth": 0,
             "ticks": ""
            },
            "type": "contourcarpet"
           }
          ],
          "heatmap": [
           {
            "colorbar": {
             "outlinewidth": 0,
             "ticks": ""
            },
            "colorscale": [
             [
              0,
              "#0d0887"
             ],
             [
              0.1111111111111111,
              "#46039f"
             ],
             [
              0.2222222222222222,
              "#7201a8"
             ],
             [
              0.3333333333333333,
              "#9c179e"
             ],
             [
              0.4444444444444444,
              "#bd3786"
             ],
             [
              0.5555555555555556,
              "#d8576b"
             ],
             [
              0.6666666666666666,
              "#ed7953"
             ],
             [
              0.7777777777777778,
              "#fb9f3a"
             ],
             [
              0.8888888888888888,
              "#fdca26"
             ],
             [
              1,
              "#f0f921"
             ]
            ],
            "type": "heatmap"
           }
          ],
          "heatmapgl": [
           {
            "colorbar": {
             "outlinewidth": 0,
             "ticks": ""
            },
            "colorscale": [
             [
              0,
              "#0d0887"
             ],
             [
              0.1111111111111111,
              "#46039f"
             ],
             [
              0.2222222222222222,
              "#7201a8"
             ],
             [
              0.3333333333333333,
              "#9c179e"
             ],
             [
              0.4444444444444444,
              "#bd3786"
             ],
             [
              0.5555555555555556,
              "#d8576b"
             ],
             [
              0.6666666666666666,
              "#ed7953"
             ],
             [
              0.7777777777777778,
              "#fb9f3a"
             ],
             [
              0.8888888888888888,
              "#fdca26"
             ],
             [
              1,
              "#f0f921"
             ]
            ],
            "type": "heatmapgl"
           }
          ],
          "histogram": [
           {
            "marker": {
             "pattern": {
              "fillmode": "overlay",
              "size": 10,
              "solidity": 0.2
             }
            },
            "type": "histogram"
           }
          ],
          "histogram2d": [
           {
            "colorbar": {
             "outlinewidth": 0,
             "ticks": ""
            },
            "colorscale": [
             [
              0,
              "#0d0887"
             ],
             [
              0.1111111111111111,
              "#46039f"
             ],
             [
              0.2222222222222222,
              "#7201a8"
             ],
             [
              0.3333333333333333,
              "#9c179e"
             ],
             [
              0.4444444444444444,
              "#bd3786"
             ],
             [
              0.5555555555555556,
              "#d8576b"
             ],
             [
              0.6666666666666666,
              "#ed7953"
             ],
             [
              0.7777777777777778,
              "#fb9f3a"
             ],
             [
              0.8888888888888888,
              "#fdca26"
             ],
             [
              1,
              "#f0f921"
             ]
            ],
            "type": "histogram2d"
           }
          ],
          "histogram2dcontour": [
           {
            "colorbar": {
             "outlinewidth": 0,
             "ticks": ""
            },
            "colorscale": [
             [
              0,
              "#0d0887"
             ],
             [
              0.1111111111111111,
              "#46039f"
             ],
             [
              0.2222222222222222,
              "#7201a8"
             ],
             [
              0.3333333333333333,
              "#9c179e"
             ],
             [
              0.4444444444444444,
              "#bd3786"
             ],
             [
              0.5555555555555556,
              "#d8576b"
             ],
             [
              0.6666666666666666,
              "#ed7953"
             ],
             [
              0.7777777777777778,
              "#fb9f3a"
             ],
             [
              0.8888888888888888,
              "#fdca26"
             ],
             [
              1,
              "#f0f921"
             ]
            ],
            "type": "histogram2dcontour"
           }
          ],
          "mesh3d": [
           {
            "colorbar": {
             "outlinewidth": 0,
             "ticks": ""
            },
            "type": "mesh3d"
           }
          ],
          "parcoords": [
           {
            "line": {
             "colorbar": {
              "outlinewidth": 0,
              "ticks": ""
             }
            },
            "type": "parcoords"
           }
          ],
          "pie": [
           {
            "automargin": true,
            "type": "pie"
           }
          ],
          "scatter": [
           {
            "marker": {
             "colorbar": {
              "outlinewidth": 0,
              "ticks": ""
             }
            },
            "type": "scatter"
           }
          ],
          "scatter3d": [
           {
            "line": {
             "colorbar": {
              "outlinewidth": 0,
              "ticks": ""
             }
            },
            "marker": {
             "colorbar": {
              "outlinewidth": 0,
              "ticks": ""
             }
            },
            "type": "scatter3d"
           }
          ],
          "scattercarpet": [
           {
            "marker": {
             "colorbar": {
              "outlinewidth": 0,
              "ticks": ""
             }
            },
            "type": "scattercarpet"
           }
          ],
          "scattergeo": [
           {
            "marker": {
             "colorbar": {
              "outlinewidth": 0,
              "ticks": ""
             }
            },
            "type": "scattergeo"
           }
          ],
          "scattergl": [
           {
            "marker": {
             "colorbar": {
              "outlinewidth": 0,
              "ticks": ""
             }
            },
            "type": "scattergl"
           }
          ],
          "scattermapbox": [
           {
            "marker": {
             "colorbar": {
              "outlinewidth": 0,
              "ticks": ""
             }
            },
            "type": "scattermapbox"
           }
          ],
          "scatterpolar": [
           {
            "marker": {
             "colorbar": {
              "outlinewidth": 0,
              "ticks": ""
             }
            },
            "type": "scatterpolar"
           }
          ],
          "scatterpolargl": [
           {
            "marker": {
             "colorbar": {
              "outlinewidth": 0,
              "ticks": ""
             }
            },
            "type": "scatterpolargl"
           }
          ],
          "scatterternary": [
           {
            "marker": {
             "colorbar": {
              "outlinewidth": 0,
              "ticks": ""
             }
            },
            "type": "scatterternary"
           }
          ],
          "surface": [
           {
            "colorbar": {
             "outlinewidth": 0,
             "ticks": ""
            },
            "colorscale": [
             [
              0,
              "#0d0887"
             ],
             [
              0.1111111111111111,
              "#46039f"
             ],
             [
              0.2222222222222222,
              "#7201a8"
             ],
             [
              0.3333333333333333,
              "#9c179e"
             ],
             [
              0.4444444444444444,
              "#bd3786"
             ],
             [
              0.5555555555555556,
              "#d8576b"
             ],
             [
              0.6666666666666666,
              "#ed7953"
             ],
             [
              0.7777777777777778,
              "#fb9f3a"
             ],
             [
              0.8888888888888888,
              "#fdca26"
             ],
             [
              1,
              "#f0f921"
             ]
            ],
            "type": "surface"
           }
          ],
          "table": [
           {
            "cells": {
             "fill": {
              "color": "#EBF0F8"
             },
             "line": {
              "color": "white"
             }
            },
            "header": {
             "fill": {
              "color": "#C8D4E3"
             },
             "line": {
              "color": "white"
             }
            },
            "type": "table"
           }
          ]
         },
         "layout": {
          "annotationdefaults": {
           "arrowcolor": "#2a3f5f",
           "arrowhead": 0,
           "arrowwidth": 1
          },
          "autotypenumbers": "strict",
          "coloraxis": {
           "colorbar": {
            "outlinewidth": 0,
            "ticks": ""
           }
          },
          "colorscale": {
           "diverging": [
            [
             0,
             "#8e0152"
            ],
            [
             0.1,
             "#c51b7d"
            ],
            [
             0.2,
             "#de77ae"
            ],
            [
             0.3,
             "#f1b6da"
            ],
            [
             0.4,
             "#fde0ef"
            ],
            [
             0.5,
             "#f7f7f7"
            ],
            [
             0.6,
             "#e6f5d0"
            ],
            [
             0.7,
             "#b8e186"
            ],
            [
             0.8,
             "#7fbc41"
            ],
            [
             0.9,
             "#4d9221"
            ],
            [
             1,
             "#276419"
            ]
           ],
           "sequential": [
            [
             0,
             "#0d0887"
            ],
            [
             0.1111111111111111,
             "#46039f"
            ],
            [
             0.2222222222222222,
             "#7201a8"
            ],
            [
             0.3333333333333333,
             "#9c179e"
            ],
            [
             0.4444444444444444,
             "#bd3786"
            ],
            [
             0.5555555555555556,
             "#d8576b"
            ],
            [
             0.6666666666666666,
             "#ed7953"
            ],
            [
             0.7777777777777778,
             "#fb9f3a"
            ],
            [
             0.8888888888888888,
             "#fdca26"
            ],
            [
             1,
             "#f0f921"
            ]
           ],
           "sequentialminus": [
            [
             0,
             "#0d0887"
            ],
            [
             0.1111111111111111,
             "#46039f"
            ],
            [
             0.2222222222222222,
             "#7201a8"
            ],
            [
             0.3333333333333333,
             "#9c179e"
            ],
            [
             0.4444444444444444,
             "#bd3786"
            ],
            [
             0.5555555555555556,
             "#d8576b"
            ],
            [
             0.6666666666666666,
             "#ed7953"
            ],
            [
             0.7777777777777778,
             "#fb9f3a"
            ],
            [
             0.8888888888888888,
             "#fdca26"
            ],
            [
             1,
             "#f0f921"
            ]
           ]
          },
          "colorway": [
           "#636efa",
           "#EF553B",
           "#00cc96",
           "#ab63fa",
           "#FFA15A",
           "#19d3f3",
           "#FF6692",
           "#B6E880",
           "#FF97FF",
           "#FECB52"
          ],
          "font": {
           "color": "#2a3f5f"
          },
          "geo": {
           "bgcolor": "white",
           "lakecolor": "white",
           "landcolor": "#E5ECF6",
           "showlakes": true,
           "showland": true,
           "subunitcolor": "white"
          },
          "hoverlabel": {
           "align": "left"
          },
          "hovermode": "closest",
          "mapbox": {
           "style": "light"
          },
          "paper_bgcolor": "white",
          "plot_bgcolor": "#E5ECF6",
          "polar": {
           "angularaxis": {
            "gridcolor": "white",
            "linecolor": "white",
            "ticks": ""
           },
           "bgcolor": "#E5ECF6",
           "radialaxis": {
            "gridcolor": "white",
            "linecolor": "white",
            "ticks": ""
           }
          },
          "scene": {
           "xaxis": {
            "backgroundcolor": "#E5ECF6",
            "gridcolor": "white",
            "gridwidth": 2,
            "linecolor": "white",
            "showbackground": true,
            "ticks": "",
            "zerolinecolor": "white"
           },
           "yaxis": {
            "backgroundcolor": "#E5ECF6",
            "gridcolor": "white",
            "gridwidth": 2,
            "linecolor": "white",
            "showbackground": true,
            "ticks": "",
            "zerolinecolor": "white"
           },
           "zaxis": {
            "backgroundcolor": "#E5ECF6",
            "gridcolor": "white",
            "gridwidth": 2,
            "linecolor": "white",
            "showbackground": true,
            "ticks": "",
            "zerolinecolor": "white"
           }
          },
          "shapedefaults": {
           "line": {
            "color": "#2a3f5f"
           }
          },
          "ternary": {
           "aaxis": {
            "gridcolor": "white",
            "linecolor": "white",
            "ticks": ""
           },
           "baxis": {
            "gridcolor": "white",
            "linecolor": "white",
            "ticks": ""
           },
           "bgcolor": "#E5ECF6",
           "caxis": {
            "gridcolor": "white",
            "linecolor": "white",
            "ticks": ""
           }
          },
          "title": {
           "x": 0.05
          },
          "xaxis": {
           "automargin": true,
           "gridcolor": "white",
           "linecolor": "white",
           "ticks": "",
           "title": {
            "standoff": 15
           },
           "zerolinecolor": "white",
           "zerolinewidth": 2
          },
          "yaxis": {
           "automargin": true,
           "gridcolor": "white",
           "linecolor": "white",
           "ticks": "",
           "title": {
            "standoff": 15
           },
           "zerolinecolor": "white",
           "zerolinewidth": 2
          }
         }
        },
        "xaxis": {
         "anchor": "y",
         "autorange": true,
         "domain": [
          0,
          1
         ],
         "range": [
          "2017-12-22",
          "2023-12-08"
         ],
         "title": {
          "text": "Date"
         },
         "type": "date"
        },
        "yaxis": {
         "anchor": "x",
         "autorange": true,
         "domain": [
          0,
          1
         ],
         "range": [
          97.27515743249513,
          120.91174522064667
         ],
         "title": {
          "text": "value"
         },
         "type": "linear"
        }
       }
      },
      "image/png": "[encoded data removed]"
     },
     "metadata": {},
     "output_type": "display_data"
    }
   ],
   "source": [
    "Performance_Contribution = pd.DataFrame(df_combined['USDCHF'][x_train.shape[0]+1:])\n",
    "\n",
    "# Add the 'Y_pred' (predictions) from the random forest model as a new column 'Prediction' in the 'Strategy' DataFrame\n",
    "Performance_Contribution['Prediction'] = y_pred\n",
    "\n",
    "Performance_Contribution['Short_prediction'] = np.where(Performance_Contribution['Prediction'] < 0, Performance_Contribution['USDCHF'] * Performance_Contribution['Prediction'], 0)\n",
    "\n",
    "Performance_Contribution['Long_prediction'] = np.where(Performance_Contribution['Prediction'] >= 0, Performance_Contribution['USDCHF'] * Performance_Contribution['Prediction'], 0)\n",
    "\n",
    "Performance_Contribution['Cummulative_Short_prediction'] = (Performance_Contribution['Short_prediction'].cumsum() * 100).add(100)\n",
    "\n",
    "Performance_Contribution['Cummulative_Long_prediction'] = (Performance_Contribution['Long_prediction'].cumsum() * 100).add(100)\n",
    "\n",
    "px.line(Performance_Contribution[['Cummulative_Long_prediction', 'Cummulative_Short_prediction']])"
   ]
  },
  {
   "cell_type": "code",
   "execution_count": 21,
   "metadata": {
    "tags": []
   },
   "outputs": [
    {
     "data": {
      "text/html": [
       "<div>\n",
       "<style scoped>\n",
       "    .dataframe tbody tr th:only-of-type {\n",
       "        vertical-align: middle;\n",
       "    }\n",
       "\n",
       "    .dataframe tbody tr th {\n",
       "        vertical-align: top;\n",
       "    }\n",
       "\n",
       "    .dataframe thead th {\n",
       "        text-align: right;\n",
       "    }\n",
       "</style>\n",
       "<table border=\"1\" class=\"dataframe\">\n",
       "  <thead>\n",
       "    <tr style=\"text-align: right;\">\n",
       "      <th></th>\n",
       "      <th>USDCHF</th>\n",
       "      <th>Prediction</th>\n",
       "      <th>Short_prediction</th>\n",
       "      <th>Long_prediction</th>\n",
       "      <th>Cummulative_Short_prediction</th>\n",
       "      <th>Cummulative_Long_prediction</th>\n",
       "    </tr>\n",
       "    <tr>\n",
       "      <th>Date</th>\n",
       "      <th></th>\n",
       "      <th></th>\n",
       "      <th></th>\n",
       "      <th></th>\n",
       "      <th></th>\n",
       "      <th></th>\n",
       "    </tr>\n",
       "  </thead>\n",
       "  <tbody>\n",
       "    <tr>\n",
       "      <th>2017-12-22</th>\n",
       "      <td>-0.002524</td>\n",
       "      <td>1</td>\n",
       "      <td>0.000000</td>\n",
       "      <td>-0.002524</td>\n",
       "      <td>100.000000</td>\n",
       "      <td>99.747602</td>\n",
       "    </tr>\n",
       "    <tr>\n",
       "      <th>2017-12-29</th>\n",
       "      <td>-0.013866</td>\n",
       "      <td>-1</td>\n",
       "      <td>0.013866</td>\n",
       "      <td>0.000000</td>\n",
       "      <td>101.386640</td>\n",
       "      <td>99.747602</td>\n",
       "    </tr>\n",
       "    <tr>\n",
       "      <th>2018-01-05</th>\n",
       "      <td>0.000411</td>\n",
       "      <td>1</td>\n",
       "      <td>0.000000</td>\n",
       "      <td>0.000411</td>\n",
       "      <td>101.386640</td>\n",
       "      <td>99.788657</td>\n",
       "    </tr>\n",
       "    <tr>\n",
       "      <th>2018-01-12</th>\n",
       "      <td>-0.007592</td>\n",
       "      <td>1</td>\n",
       "      <td>0.000000</td>\n",
       "      <td>-0.007592</td>\n",
       "      <td>101.386640</td>\n",
       "      <td>99.029449</td>\n",
       "    </tr>\n",
       "    <tr>\n",
       "      <th>2018-01-19</th>\n",
       "      <td>-0.004652</td>\n",
       "      <td>1</td>\n",
       "      <td>0.000000</td>\n",
       "      <td>-0.004652</td>\n",
       "      <td>101.386640</td>\n",
       "      <td>98.564237</td>\n",
       "    </tr>\n",
       "    <tr>\n",
       "      <th>...</th>\n",
       "      <td>...</td>\n",
       "      <td>...</td>\n",
       "      <td>...</td>\n",
       "      <td>...</td>\n",
       "      <td>...</td>\n",
       "      <td>...</td>\n",
       "    </tr>\n",
       "    <tr>\n",
       "      <th>2023-11-10</th>\n",
       "      <td>0.004339</td>\n",
       "      <td>-1</td>\n",
       "      <td>-0.004339</td>\n",
       "      <td>0.000000</td>\n",
       "      <td>115.978979</td>\n",
       "      <td>108.364998</td>\n",
       "    </tr>\n",
       "    <tr>\n",
       "      <th>2023-11-17</th>\n",
       "      <td>-0.018832</td>\n",
       "      <td>-1</td>\n",
       "      <td>0.018832</td>\n",
       "      <td>0.000000</td>\n",
       "      <td>117.862218</td>\n",
       "      <td>108.364998</td>\n",
       "    </tr>\n",
       "    <tr>\n",
       "      <th>2023-11-24</th>\n",
       "      <td>-0.003048</td>\n",
       "      <td>-1</td>\n",
       "      <td>0.003048</td>\n",
       "      <td>0.000000</td>\n",
       "      <td>118.167062</td>\n",
       "      <td>108.364998</td>\n",
       "    </tr>\n",
       "    <tr>\n",
       "      <th>2023-12-01</th>\n",
       "      <td>-0.015629</td>\n",
       "      <td>-1</td>\n",
       "      <td>0.015629</td>\n",
       "      <td>0.000000</td>\n",
       "      <td>119.729916</td>\n",
       "      <td>108.364998</td>\n",
       "    </tr>\n",
       "    <tr>\n",
       "      <th>2023-12-08</th>\n",
       "      <td>0.006788</td>\n",
       "      <td>1</td>\n",
       "      <td>0.000000</td>\n",
       "      <td>0.006788</td>\n",
       "      <td>119.729916</td>\n",
       "      <td>109.043783</td>\n",
       "    </tr>\n",
       "  </tbody>\n",
       "</table>\n",
       "<p>312 rows × 6 columns</p>\n",
       "</div>"
      ],
      "text/plain": [
       "              USDCHF  Prediction  Short_prediction  Long_prediction  \\\n",
       "Date                                                                  \n",
       "2017-12-22 -0.002524           1          0.000000        -0.002524   \n",
       "2017-12-29 -0.013866          -1          0.013866         0.000000   \n",
       "2018-01-05  0.000411           1          0.000000         0.000411   \n",
       "2018-01-12 -0.007592           1          0.000000        -0.007592   \n",
       "2018-01-19 -0.004652           1          0.000000        -0.004652   \n",
       "...              ...         ...               ...              ...   \n",
       "2023-11-10  0.004339          -1         -0.004339         0.000000   \n",
       "2023-11-17 -0.018832          -1          0.018832         0.000000   \n",
       "2023-11-24 -0.003048          -1          0.003048         0.000000   \n",
       "2023-12-01 -0.015629          -1          0.015629         0.000000   \n",
       "2023-12-08  0.006788           1          0.000000         0.006788   \n",
       "\n",
       "            Cummulative_Short_prediction  Cummulative_Long_prediction  \n",
       "Date                                                                   \n",
       "2017-12-22                    100.000000                    99.747602  \n",
       "2017-12-29                    101.386640                    99.747602  \n",
       "2018-01-05                    101.386640                    99.788657  \n",
       "2018-01-12                    101.386640                    99.029449  \n",
       "2018-01-19                    101.386640                    98.564237  \n",
       "...                                  ...                          ...  \n",
       "2023-11-10                    115.978979                   108.364998  \n",
       "2023-11-17                    117.862218                   108.364998  \n",
       "2023-11-24                    118.167062                   108.364998  \n",
       "2023-12-01                    119.729916                   108.364998  \n",
       "2023-12-08                    119.729916                   109.043783  \n",
       "\n",
       "[312 rows x 6 columns]"
      ]
     },
     "execution_count": 21,
     "metadata": {},
     "output_type": "execute_result"
    }
   ],
   "source": [
    "Performance_Contribution"
   ]
  },
  {
   "cell_type": "code",
   "execution_count": 22,
   "metadata": {
    "tags": []
   },
   "outputs": [
    {
     "data": {
      "application/vnd.plotly.v1+json": {
       "config": {
        "plotlyServerURL": "https://plot.ly"
       },
       "data": [
        {
         "hovertemplate": "variable=Cummulative_Long_prediction<br>index=%{x}<br>value=%{y}<extra></extra>",
         "legendgroup": "Cummulative_Long_prediction",
         "line": {
          "color": "#636efa",
          "dash": "solid"
         },
         "marker": {
          "symbol": "circle"
         },
         "mode": "lines",
         "name": "Cummulative_Long_prediction",
         "orientation": "v",
         "showlegend": true,
         "type": "scatter",
         "x": [
          "2017-12-15T00:00:00",
          "2017-12-22T00:00:00",
          "2017-12-29T00:00:00",
          "2018-01-05T00:00:00",
          "2018-01-12T00:00:00",
          "2018-01-19T00:00:00",
          "2018-01-26T00:00:00",
          "2018-02-02T00:00:00",
          "2018-02-09T00:00:00",
          "2018-02-16T00:00:00",
          "2018-02-23T00:00:00",
          "2018-03-02T00:00:00",
          "2018-03-09T00:00:00",
          "2018-03-16T00:00:00",
          "2018-03-23T00:00:00",
          "2018-03-30T00:00:00",
          "2018-04-06T00:00:00",
          "2018-04-13T00:00:00",
          "2018-04-20T00:00:00",
          "2018-04-27T00:00:00",
          "2018-05-04T00:00:00",
          "2018-05-11T00:00:00",
          "2018-05-18T00:00:00",
          "2018-05-25T00:00:00",
          "2018-06-01T00:00:00",
          "2018-06-08T00:00:00",
          "2018-06-15T00:00:00",
          "2018-06-22T00:00:00",
          "2018-06-29T00:00:00",
          "2018-07-06T00:00:00",
          "2018-07-13T00:00:00",
          "2018-07-20T00:00:00",
          "2018-07-27T00:00:00",
          "2018-08-03T00:00:00",
          "2018-08-10T00:00:00",
          "2018-08-17T00:00:00",
          "2018-08-24T00:00:00",
          "2018-08-31T00:00:00",
          "2018-09-07T00:00:00",
          "2018-09-14T00:00:00",
          "2018-09-21T00:00:00",
          "2018-09-28T00:00:00",
          "2018-10-05T00:00:00",
          "2018-10-12T00:00:00",
          "2018-10-19T00:00:00",
          "2018-10-26T00:00:00",
          "2018-11-02T00:00:00",
          "2018-11-09T00:00:00",
          "2018-11-16T00:00:00",
          "2018-11-23T00:00:00",
          "2018-11-30T00:00:00",
          "2018-12-07T00:00:00",
          "2018-12-14T00:00:00",
          "2018-12-21T00:00:00",
          "2018-12-28T00:00:00",
          "2019-01-04T00:00:00",
          "2019-01-11T00:00:00",
          "2019-01-18T00:00:00",
          "2019-01-25T00:00:00",
          "2019-02-01T00:00:00",
          "2019-02-08T00:00:00",
          "2019-02-15T00:00:00",
          "2019-02-22T00:00:00",
          "2019-03-01T00:00:00",
          "2019-03-08T00:00:00",
          "2019-03-15T00:00:00",
          "2019-03-22T00:00:00",
          "2019-03-29T00:00:00",
          "2019-04-05T00:00:00",
          "2019-04-12T00:00:00",
          "2019-04-19T00:00:00",
          "2019-04-26T00:00:00",
          "2019-05-03T00:00:00",
          "2019-05-10T00:00:00",
          "2019-05-17T00:00:00",
          "2019-05-24T00:00:00",
          "2019-05-31T00:00:00",
          "2019-06-07T00:00:00",
          "2019-06-14T00:00:00",
          "2019-06-21T00:00:00",
          "2019-06-28T00:00:00",
          "2019-07-05T00:00:00",
          "2019-07-12T00:00:00",
          "2019-07-19T00:00:00",
          "2019-07-26T00:00:00",
          "2019-08-02T00:00:00",
          "2019-08-09T00:00:00",
          "2019-08-16T00:00:00",
          "2019-08-23T00:00:00",
          "2019-08-30T00:00:00",
          "2019-09-06T00:00:00",
          "2019-09-13T00:00:00",
          "2019-09-20T00:00:00",
          "2019-09-27T00:00:00",
          "2019-10-04T00:00:00",
          "2019-10-11T00:00:00",
          "2019-10-18T00:00:00",
          "2019-10-25T00:00:00",
          "2019-11-01T00:00:00",
          "2019-11-08T00:00:00",
          "2019-11-15T00:00:00",
          "2019-11-22T00:00:00",
          "2019-11-29T00:00:00",
          "2019-12-06T00:00:00",
          "2019-12-13T00:00:00",
          "2019-12-20T00:00:00",
          "2019-12-27T00:00:00",
          "2020-01-03T00:00:00",
          "2020-01-10T00:00:00",
          "2020-01-17T00:00:00",
          "2020-01-24T00:00:00",
          "2020-01-31T00:00:00",
          "2020-02-07T00:00:00",
          "2020-02-14T00:00:00",
          "2020-02-21T00:00:00",
          "2020-02-28T00:00:00",
          "2020-03-06T00:00:00",
          "2020-03-13T00:00:00",
          "2020-03-20T00:00:00",
          "2020-03-27T00:00:00",
          "2020-04-03T00:00:00",
          "2020-04-10T00:00:00",
          "2020-04-17T00:00:00",
          "2020-04-24T00:00:00",
          "2020-05-01T00:00:00",
          "2020-05-08T00:00:00",
          "2020-05-15T00:00:00",
          "2020-05-22T00:00:00",
          "2020-05-29T00:00:00",
          "2020-06-05T00:00:00",
          "2020-06-12T00:00:00",
          "2020-06-19T00:00:00",
          "2020-06-26T00:00:00",
          "2020-07-03T00:00:00",
          "2020-07-10T00:00:00",
          "2020-07-17T00:00:00",
          "2020-07-24T00:00:00",
          "2020-07-31T00:00:00",
          "2020-08-07T00:00:00",
          "2020-08-14T00:00:00",
          "2020-08-21T00:00:00",
          "2020-08-28T00:00:00",
          "2020-09-04T00:00:00",
          "2020-09-11T00:00:00",
          "2020-09-18T00:00:00",
          "2020-09-25T00:00:00",
          "2020-10-02T00:00:00",
          "2020-10-09T00:00:00",
          "2020-10-16T00:00:00",
          "2020-10-23T00:00:00",
          "2020-10-30T00:00:00",
          "2020-11-06T00:00:00",
          "2020-11-13T00:00:00",
          "2020-11-20T00:00:00",
          "2020-11-27T00:00:00",
          "2020-12-04T00:00:00",
          "2020-12-11T00:00:00",
          "2020-12-18T00:00:00",
          "2020-12-25T00:00:00",
          "2021-01-01T00:00:00",
          "2021-01-08T00:00:00",
          "2021-01-15T00:00:00",
          "2021-01-22T00:00:00",
          "2021-01-29T00:00:00",
          "2021-02-05T00:00:00",
          "2021-02-12T00:00:00",
          "2021-02-19T00:00:00",
          "2021-02-26T00:00:00",
          "2021-03-05T00:00:00",
          "2021-03-12T00:00:00",
          "2021-03-19T00:00:00",
          "2021-03-26T00:00:00",
          "2021-04-02T00:00:00",
          "2021-04-09T00:00:00",
          "2021-04-16T00:00:00",
          "2021-04-23T00:00:00",
          "2021-04-30T00:00:00",
          "2021-05-07T00:00:00",
          "2021-05-14T00:00:00",
          "2021-05-21T00:00:00",
          "2021-05-28T00:00:00",
          "2021-06-04T00:00:00",
          "2021-06-11T00:00:00",
          "2021-06-18T00:00:00",
          "2021-06-25T00:00:00",
          "2021-07-02T00:00:00",
          "2021-07-09T00:00:00",
          "2021-07-16T00:00:00",
          "2021-07-23T00:00:00",
          "2021-07-30T00:00:00",
          "2021-08-06T00:00:00",
          "2021-08-13T00:00:00",
          "2021-08-20T00:00:00",
          "2021-08-27T00:00:00",
          "2021-09-03T00:00:00",
          "2021-09-10T00:00:00",
          "2021-09-17T00:00:00",
          "2021-09-24T00:00:00",
          "2021-10-01T00:00:00",
          "2021-10-08T00:00:00",
          "2021-10-15T00:00:00",
          "2021-10-22T00:00:00",
          "2021-10-29T00:00:00",
          "2021-11-05T00:00:00",
          "2021-11-12T00:00:00",
          "2021-11-19T00:00:00",
          "2021-11-26T00:00:00",
          "2021-12-03T00:00:00",
          "2021-12-10T00:00:00",
          "2021-12-17T00:00:00",
          "2021-12-24T00:00:00",
          "2021-12-31T00:00:00",
          "2022-01-07T00:00:00",
          "2022-01-14T00:00:00",
          "2022-01-21T00:00:00",
          "2022-01-28T00:00:00",
          "2022-02-04T00:00:00",
          "2022-02-11T00:00:00",
          "2022-02-18T00:00:00",
          "2022-02-25T00:00:00",
          "2022-03-04T00:00:00",
          "2022-03-11T00:00:00",
          "2022-03-18T00:00:00",
          "2022-03-25T00:00:00",
          "2022-04-01T00:00:00",
          "2022-04-08T00:00:00",
          "2022-04-15T00:00:00",
          "2022-04-22T00:00:00",
          "2022-04-29T00:00:00",
          "2022-05-06T00:00:00",
          "2022-05-13T00:00:00",
          "2022-05-20T00:00:00",
          "2022-05-27T00:00:00",
          "2022-06-03T00:00:00",
          "2022-06-10T00:00:00",
          "2022-06-17T00:00:00",
          "2022-06-24T00:00:00",
          "2022-07-01T00:00:00",
          "2022-07-08T00:00:00",
          "2022-07-15T00:00:00",
          "2022-07-22T00:00:00",
          "2022-07-29T00:00:00",
          "2022-08-05T00:00:00",
          "2022-08-12T00:00:00",
          "2022-08-19T00:00:00",
          "2022-08-26T00:00:00",
          "2022-09-02T00:00:00",
          "2022-09-09T00:00:00",
          "2022-09-16T00:00:00",
          "2022-09-23T00:00:00",
          "2022-09-30T00:00:00",
          "2022-10-07T00:00:00",
          "2022-10-14T00:00:00",
          "2022-10-21T00:00:00",
          "2022-10-28T00:00:00",
          "2022-11-04T00:00:00",
          "2022-11-11T00:00:00",
          "2022-11-18T00:00:00",
          "2022-11-25T00:00:00",
          "2022-12-02T00:00:00",
          "2022-12-09T00:00:00",
          "2022-12-16T00:00:00",
          "2022-12-23T00:00:00",
          "2022-12-30T00:00:00",
          "2023-01-06T00:00:00",
          "2023-01-13T00:00:00",
          "2023-01-20T00:00:00",
          "2023-01-27T00:00:00",
          "2023-02-03T00:00:00",
          "2023-02-10T00:00:00",
          "2023-02-17T00:00:00",
          "2023-02-24T00:00:00",
          "2023-03-03T00:00:00",
          "2023-03-10T00:00:00",
          "2023-03-17T00:00:00",
          "2023-03-24T00:00:00",
          "2023-03-31T00:00:00",
          "2023-04-07T00:00:00",
          "2023-04-14T00:00:00",
          "2023-04-21T00:00:00",
          "2023-04-28T00:00:00",
          "2023-05-05T00:00:00",
          "2023-05-12T00:00:00",
          "2023-05-19T00:00:00",
          "2023-05-26T00:00:00",
          "2023-06-02T00:00:00",
          "2023-06-09T00:00:00",
          "2023-06-16T00:00:00",
          "2023-06-23T00:00:00",
          "2023-06-30T00:00:00",
          "2023-07-07T00:00:00",
          "2023-07-14T00:00:00",
          "2023-07-21T00:00:00",
          "2023-07-28T00:00:00",
          "2023-08-04T00:00:00",
          "2023-08-11T00:00:00",
          "2023-08-18T00:00:00",
          "2023-08-25T00:00:00",
          "2023-09-01T00:00:00",
          "2023-09-08T00:00:00",
          "2023-09-15T00:00:00",
          "2023-09-22T00:00:00",
          "2023-09-29T00:00:00",
          "2023-10-06T00:00:00",
          "2023-10-13T00:00:00",
          "2023-10-20T00:00:00",
          "2023-10-27T00:00:00",
          "2023-11-03T00:00:00",
          "2023-11-10T00:00:00",
          "2023-11-17T00:00:00",
          "2023-11-24T00:00:00",
          "2023-12-01T00:00:00",
          "2023-12-08T00:00:00"
         ],
         "xaxis": "x",
         "y": [
          100,
          99.74760222110045,
          99.74760222110045,
          99.78865733759433,
          99.0294493761703,
          98.56423692915283,
          98.56423692915283,
          98.45698682190272,
          99.23001666944404,
          99.23001666944404,
          100.21167794236744,
          100.35055199428497,
          100.35055199428497,
          100.42413551157709,
          100.42413551157709,
          101.12077895679559,
          101.12077895679559,
          101.44399864191706,
          101.44399864191706,
          101.44399864191706,
          102.68931604598713,
          102.68931604598713,
          102.50928003878568,
          102.50928003878568,
          102.50928003878568,
          102.25629481312286,
          103.46355868651233,
          103.46355868651233,
          103.71656951537582,
          103.5853359195753,
          104.8387474226583,
          103.90034271066867,
          104.1220498556853,
          104.1220498556853,
          104.1220498556853,
          104.1220498556853,
          104.1220498556853,
          102.637555702152,
          102.66851864982462,
          102.58597634689438,
          101.58432413706373,
          103.9834062273944,
          103.9834062273944,
          104.07413203384601,
          104.07413203384601,
          104.17453364027172,
          104.82648950787453,
          105.03575707140217,
          104.46893129574585,
          104.2189062932456,
          104.2189062932456,
          103.6276646858701,
          104.23250339554752,
          104.23250339554752,
          104.23250339554752,
          104.23250339554752,
          103.81735556241671,
          103.81735556241671,
          103.66666237374884,
          103.66666237374884,
          103.66666237374884,
          104.13642749119013,
          104.13642749119013,
          104.02647147359717,
          104.02647147359717,
          103.42143279079615,
          102.57321405015149,
          102.57321405015149,
          102.57321405015149,
          102.78315106904583,
          104.00023007942092,
          104.49303512574461,
          104.19880209318282,
          103.72663998419208,
          103.72663998419208,
          102.85621466272818,
          102.69656589002813,
          102.69656589002813,
          102.69656589002813,
          102.69656589002813,
          102.69656589002813,
          104.26370713759549,
          104.26370713759549,
          104.26370713759549,
          105.41453716101947,
          105.41453716101947,
          104.42715931085658,
          105.00287638703628,
          104.59400385304876,
          106.24647229192794,
          106.24647229192794,
          106.5401431780039,
          106.59062783066949,
          106.59062783066949,
          107.08512778021031,
          107.08512778021031,
          107.08512778021031,
          107.08512778021031,
          106.1803323645071,
          107.36730608876395,
          106.62537707332382,
          106.62537707332382,
          106.88600257452669,
          105.95618853733413,
          105.95618853733413,
          105.81394102666557,
          105.81394102666557,
          105.81394102666557,
          105.7831053806588,
          105.29986458279738,
          105.68213547855107,
          104.83816676714721,
          104.83816676714721,
          105.30865873809945,
          104.89127097468705,
          104.89127097468705,
          102.1345086158934,
          103.56262329137031,
          107.26126782220986,
          107.26126782220986,
          107.26126782220986,
          107.26126782220986,
          107.26126782220986,
          107.92338245080492,
          106.73119334494676,
          106.73119334494676,
          106.73119334494676,
          106.73119334494676,
          106.73119334494676,
          106.73119334494676,
          105.70240814282684,
          105.69190835282264,
          105.69190835282264,
          105.69190835282264,
          105.69190835282264,
          105.69190835282264,
          105.69190835282264,
          105.69190835282264,
          105.63713784126605,
          105.27545436910472,
          105.55045161913222,
          104.73869207547271,
          104.73869207547271,
          104.23513433053567,
          104.23513433053567,
          106.06707816555104,
          106.06707816555104,
          106.06707816555104,
          106.06707816555104,
          106.06707816555104,
          107.46026702004022,
          105.55187007347533,
          107.01935200788333,
          107.01935200788333,
          107.01935200788333,
          105.46357577484791,
          105.46357577484791,
          104.7334027800153,
          104.7334027800153,
          104.31757899939042,
          104.24986655158544,
          104.24986655158544,
          104.24986655158544,
          104.24986655158544,
          104.24986655158544,
          104.24986655158544,
          104.24986655158544,
          104.24986655158544,
          106.52834756424367,
          106.63596702184162,
          106.63596702184162,
          107.74492481684592,
          108.08567660046853,
          108.08567660046853,
          107.64204967988856,
          106.97907826373815,
          106.88060999240335,
          106.88060999240335,
          106.94721745243886,
          106.94721745243886,
          107.16995940588579,
          107.11439767680478,
          106.99209391874386,
          106.99209391874386,
          106.52551405763275,
          106.52551405763275,
          106.52551405763275,
          106.52551405763275,
          106.52551405763275,
          106.52551405763275,
          107.5079624514952,
          107.5079624514952,
          107.5079624514952,
          106.87553414487651,
          106.87553414487651,
          106.87553414487651,
          108.477539375914,
          107.67307729289351,
          107.67307729289351,
          107.28643783418875,
          106.79048096087338,
          106.02116684233398,
          106.0539250864921,
          106.0539250864921,
          107.0180973227143,
          107.0180973227143,
          107.0180973227143,
          107.0180973227143,
          107.46510996990139,
          107.69304875205705,
          107.22737840334577,
          106.5528054515451,
          107.19909748791271,
          107.19909748791271,
          107.19909748791271,
          109.28357362614639,
          108.75697502324473,
          108.75697502324473,
          108.75697502324473,
          109.15849428531743,
          108.23977400862049,
          110.14879549874813,
          110.14879549874813,
          110.14879549874813,
          109.76169872455458,
          109.76169872455458,
          110.70358034715974,
          112.23045978730394,
          113.72393237216033,
          113.72393237216033,
          113.72393237216033,
          111.06712054635129,
          111.06712054635129,
          111.06712054635129,
          111.06712054635129,
          109.23513674068329,
          108.03913715309695,
          108.3313212290648,
          108.3313212290648,
          108.3313212290648,
          106.86795651355108,
          106.86795651355108,
          107.82343740393327,
          107.82343740393327,
          109.69259628243795,
          110.37024432247131,
          111.97529765166257,
          109.95736043193163,
          110.3318143532963,
          112.07274699578333,
          112.60238643355069,
          112.60238643355069,
          113.70858112381619,
          112.95266308124606,
          112.95266308124606,
          112.95266308124606,
          107.58636823650684,
          107.58636823650684,
          107.58636823650684,
          107.58636823650684,
          107.26626580372834,
          107.21274407390604,
          107.21274407390604,
          107.21274407390604,
          107.58051043410072,
          107.47274020023931,
          107.47274020023931,
          107.51619012420196,
          108.06993605254071,
          107.8215827429629,
          107.97313069706554,
          109.61601872127652,
          109.16940026104683,
          109.16940026104683,
          109.75591052497646,
          109.75591052497646,
          109.2666737343698,
          108.18506114833244,
          106.8928146274577,
          106.73616250705935,
          106.99392334982522,
          106.99392334982522,
          107.73474723578325,
          107.97987258397268,
          108.64676154696033,
          109.02216178986639,
          109.02216178986639,
          109.02216178986639,
          109.02216178986639,
          108.86608598161666,
          108.86608598161666,
          105.86169754907473,
          106.30253281589607,
          106.76453327789655,
          106.76453327789655,
          107.24590863606274,
          107.24590863606274,
          107.24590863606274,
          107.24590863606274,
          107.24590863606274,
          107.67139290434177,
          108.75289585896324,
          108.75289585896324,
          108.75289585896324,
          108.75289585896324,
          108.75289585896324,
          108.75289585896324,
          108.36499826392833,
          108.36499826392833,
          108.36499826392833,
          108.36499826392833,
          108.36499826392833,
          109.04378335366603
         ],
         "yaxis": "y"
        },
        {
         "hovertemplate": "variable=Cummulative_Short_prediction<br>index=%{x}<br>value=%{y}<extra></extra>",
         "legendgroup": "Cummulative_Short_prediction",
         "line": {
          "color": "#EF553B",
          "dash": "solid"
         },
         "marker": {
          "symbol": "circle"
         },
         "mode": "lines",
         "name": "Cummulative_Short_prediction",
         "orientation": "v",
         "showlegend": true,
         "type": "scatter",
         "x": [
          "2017-12-15T00:00:00",
          "2017-12-22T00:00:00",
          "2017-12-29T00:00:00",
          "2018-01-05T00:00:00",
          "2018-01-12T00:00:00",
          "2018-01-19T00:00:00",
          "2018-01-26T00:00:00",
          "2018-02-02T00:00:00",
          "2018-02-09T00:00:00",
          "2018-02-16T00:00:00",
          "2018-02-23T00:00:00",
          "2018-03-02T00:00:00",
          "2018-03-09T00:00:00",
          "2018-03-16T00:00:00",
          "2018-03-23T00:00:00",
          "2018-03-30T00:00:00",
          "2018-04-06T00:00:00",
          "2018-04-13T00:00:00",
          "2018-04-20T00:00:00",
          "2018-04-27T00:00:00",
          "2018-05-04T00:00:00",
          "2018-05-11T00:00:00",
          "2018-05-18T00:00:00",
          "2018-05-25T00:00:00",
          "2018-06-01T00:00:00",
          "2018-06-08T00:00:00",
          "2018-06-15T00:00:00",
          "2018-06-22T00:00:00",
          "2018-06-29T00:00:00",
          "2018-07-06T00:00:00",
          "2018-07-13T00:00:00",
          "2018-07-20T00:00:00",
          "2018-07-27T00:00:00",
          "2018-08-03T00:00:00",
          "2018-08-10T00:00:00",
          "2018-08-17T00:00:00",
          "2018-08-24T00:00:00",
          "2018-08-31T00:00:00",
          "2018-09-07T00:00:00",
          "2018-09-14T00:00:00",
          "2018-09-21T00:00:00",
          "2018-09-28T00:00:00",
          "2018-10-05T00:00:00",
          "2018-10-12T00:00:00",
          "2018-10-19T00:00:00",
          "2018-10-26T00:00:00",
          "2018-11-02T00:00:00",
          "2018-11-09T00:00:00",
          "2018-11-16T00:00:00",
          "2018-11-23T00:00:00",
          "2018-11-30T00:00:00",
          "2018-12-07T00:00:00",
          "2018-12-14T00:00:00",
          "2018-12-21T00:00:00",
          "2018-12-28T00:00:00",
          "2019-01-04T00:00:00",
          "2019-01-11T00:00:00",
          "2019-01-18T00:00:00",
          "2019-01-25T00:00:00",
          "2019-02-01T00:00:00",
          "2019-02-08T00:00:00",
          "2019-02-15T00:00:00",
          "2019-02-22T00:00:00",
          "2019-03-01T00:00:00",
          "2019-03-08T00:00:00",
          "2019-03-15T00:00:00",
          "2019-03-22T00:00:00",
          "2019-03-29T00:00:00",
          "2019-04-05T00:00:00",
          "2019-04-12T00:00:00",
          "2019-04-19T00:00:00",
          "2019-04-26T00:00:00",
          "2019-05-03T00:00:00",
          "2019-05-10T00:00:00",
          "2019-05-17T00:00:00",
          "2019-05-24T00:00:00",
          "2019-05-31T00:00:00",
          "2019-06-07T00:00:00",
          "2019-06-14T00:00:00",
          "2019-06-21T00:00:00",
          "2019-06-28T00:00:00",
          "2019-07-05T00:00:00",
          "2019-07-12T00:00:00",
          "2019-07-19T00:00:00",
          "2019-07-26T00:00:00",
          "2019-08-02T00:00:00",
          "2019-08-09T00:00:00",
          "2019-08-16T00:00:00",
          "2019-08-23T00:00:00",
          "2019-08-30T00:00:00",
          "2019-09-06T00:00:00",
          "2019-09-13T00:00:00",
          "2019-09-20T00:00:00",
          "2019-09-27T00:00:00",
          "2019-10-04T00:00:00",
          "2019-10-11T00:00:00",
          "2019-10-18T00:00:00",
          "2019-10-25T00:00:00",
          "2019-11-01T00:00:00",
          "2019-11-08T00:00:00",
          "2019-11-15T00:00:00",
          "2019-11-22T00:00:00",
          "2019-11-29T00:00:00",
          "2019-12-06T00:00:00",
          "2019-12-13T00:00:00",
          "2019-12-20T00:00:00",
          "2019-12-27T00:00:00",
          "2020-01-03T00:00:00",
          "2020-01-10T00:00:00",
          "2020-01-17T00:00:00",
          "2020-01-24T00:00:00",
          "2020-01-31T00:00:00",
          "2020-02-07T00:00:00",
          "2020-02-14T00:00:00",
          "2020-02-21T00:00:00",
          "2020-02-28T00:00:00",
          "2020-03-06T00:00:00",
          "2020-03-13T00:00:00",
          "2020-03-20T00:00:00",
          "2020-03-27T00:00:00",
          "2020-04-03T00:00:00",
          "2020-04-10T00:00:00",
          "2020-04-17T00:00:00",
          "2020-04-24T00:00:00",
          "2020-05-01T00:00:00",
          "2020-05-08T00:00:00",
          "2020-05-15T00:00:00",
          "2020-05-22T00:00:00",
          "2020-05-29T00:00:00",
          "2020-06-05T00:00:00",
          "2020-06-12T00:00:00",
          "2020-06-19T00:00:00",
          "2020-06-26T00:00:00",
          "2020-07-03T00:00:00",
          "2020-07-10T00:00:00",
          "2020-07-17T00:00:00",
          "2020-07-24T00:00:00",
          "2020-07-31T00:00:00",
          "2020-08-07T00:00:00",
          "2020-08-14T00:00:00",
          "2020-08-21T00:00:00",
          "2020-08-28T00:00:00",
          "2020-09-04T00:00:00",
          "2020-09-11T00:00:00",
          "2020-09-18T00:00:00",
          "2020-09-25T00:00:00",
          "2020-10-02T00:00:00",
          "2020-10-09T00:00:00",
          "2020-10-16T00:00:00",
          "2020-10-23T00:00:00",
          "2020-10-30T00:00:00",
          "2020-11-06T00:00:00",
          "2020-11-13T00:00:00",
          "2020-11-20T00:00:00",
          "2020-11-27T00:00:00",
          "2020-12-04T00:00:00",
          "2020-12-11T00:00:00",
          "2020-12-18T00:00:00",
          "2020-12-25T00:00:00",
          "2021-01-01T00:00:00",
          "2021-01-08T00:00:00",
          "2021-01-15T00:00:00",
          "2021-01-22T00:00:00",
          "2021-01-29T00:00:00",
          "2021-02-05T00:00:00",
          "2021-02-12T00:00:00",
          "2021-02-19T00:00:00",
          "2021-02-26T00:00:00",
          "2021-03-05T00:00:00",
          "2021-03-12T00:00:00",
          "2021-03-19T00:00:00",
          "2021-03-26T00:00:00",
          "2021-04-02T00:00:00",
          "2021-04-09T00:00:00",
          "2021-04-16T00:00:00",
          "2021-04-23T00:00:00",
          "2021-04-30T00:00:00",
          "2021-05-07T00:00:00",
          "2021-05-14T00:00:00",
          "2021-05-21T00:00:00",
          "2021-05-28T00:00:00",
          "2021-06-04T00:00:00",
          "2021-06-11T00:00:00",
          "2021-06-18T00:00:00",
          "2021-06-25T00:00:00",
          "2021-07-02T00:00:00",
          "2021-07-09T00:00:00",
          "2021-07-16T00:00:00",
          "2021-07-23T00:00:00",
          "2021-07-30T00:00:00",
          "2021-08-06T00:00:00",
          "2021-08-13T00:00:00",
          "2021-08-20T00:00:00",
          "2021-08-27T00:00:00",
          "2021-09-03T00:00:00",
          "2021-09-10T00:00:00",
          "2021-09-17T00:00:00",
          "2021-09-24T00:00:00",
          "2021-10-01T00:00:00",
          "2021-10-08T00:00:00",
          "2021-10-15T00:00:00",
          "2021-10-22T00:00:00",
          "2021-10-29T00:00:00",
          "2021-11-05T00:00:00",
          "2021-11-12T00:00:00",
          "2021-11-19T00:00:00",
          "2021-11-26T00:00:00",
          "2021-12-03T00:00:00",
          "2021-12-10T00:00:00",
          "2021-12-17T00:00:00",
          "2021-12-24T00:00:00",
          "2021-12-31T00:00:00",
          "2022-01-07T00:00:00",
          "2022-01-14T00:00:00",
          "2022-01-21T00:00:00",
          "2022-01-28T00:00:00",
          "2022-02-04T00:00:00",
          "2022-02-11T00:00:00",
          "2022-02-18T00:00:00",
          "2022-02-25T00:00:00",
          "2022-03-04T00:00:00",
          "2022-03-11T00:00:00",
          "2022-03-18T00:00:00",
          "2022-03-25T00:00:00",
          "2022-04-01T00:00:00",
          "2022-04-08T00:00:00",
          "2022-04-15T00:00:00",
          "2022-04-22T00:00:00",
          "2022-04-29T00:00:00",
          "2022-05-06T00:00:00",
          "2022-05-13T00:00:00",
          "2022-05-20T00:00:00",
          "2022-05-27T00:00:00",
          "2022-06-03T00:00:00",
          "2022-06-10T00:00:00",
          "2022-06-17T00:00:00",
          "2022-06-24T00:00:00",
          "2022-07-01T00:00:00",
          "2022-07-08T00:00:00",
          "2022-07-15T00:00:00",
          "2022-07-22T00:00:00",
          "2022-07-29T00:00:00",
          "2022-08-05T00:00:00",
          "2022-08-12T00:00:00",
          "2022-08-19T00:00:00",
          "2022-08-26T00:00:00",
          "2022-09-02T00:00:00",
          "2022-09-09T00:00:00",
          "2022-09-16T00:00:00",
          "2022-09-23T00:00:00",
          "2022-09-30T00:00:00",
          "2022-10-07T00:00:00",
          "2022-10-14T00:00:00",
          "2022-10-21T00:00:00",
          "2022-10-28T00:00:00",
          "2022-11-04T00:00:00",
          "2022-11-11T00:00:00",
          "2022-11-18T00:00:00",
          "2022-11-25T00:00:00",
          "2022-12-02T00:00:00",
          "2022-12-09T00:00:00",
          "2022-12-16T00:00:00",
          "2022-12-23T00:00:00",
          "2022-12-30T00:00:00",
          "2023-01-06T00:00:00",
          "2023-01-13T00:00:00",
          "2023-01-20T00:00:00",
          "2023-01-27T00:00:00",
          "2023-02-03T00:00:00",
          "2023-02-10T00:00:00",
          "2023-02-17T00:00:00",
          "2023-02-24T00:00:00",
          "2023-03-03T00:00:00",
          "2023-03-10T00:00:00",
          "2023-03-17T00:00:00",
          "2023-03-24T00:00:00",
          "2023-03-31T00:00:00",
          "2023-04-07T00:00:00",
          "2023-04-14T00:00:00",
          "2023-04-21T00:00:00",
          "2023-04-28T00:00:00",
          "2023-05-05T00:00:00",
          "2023-05-12T00:00:00",
          "2023-05-19T00:00:00",
          "2023-05-26T00:00:00",
          "2023-06-02T00:00:00",
          "2023-06-09T00:00:00",
          "2023-06-16T00:00:00",
          "2023-06-23T00:00:00",
          "2023-06-30T00:00:00",
          "2023-07-07T00:00:00",
          "2023-07-14T00:00:00",
          "2023-07-21T00:00:00",
          "2023-07-28T00:00:00",
          "2023-08-04T00:00:00",
          "2023-08-11T00:00:00",
          "2023-08-18T00:00:00",
          "2023-08-25T00:00:00",
          "2023-09-01T00:00:00",
          "2023-09-08T00:00:00",
          "2023-09-15T00:00:00",
          "2023-09-22T00:00:00",
          "2023-09-29T00:00:00",
          "2023-10-06T00:00:00",
          "2023-10-13T00:00:00",
          "2023-10-20T00:00:00",
          "2023-10-27T00:00:00",
          "2023-11-03T00:00:00",
          "2023-11-10T00:00:00",
          "2023-11-17T00:00:00",
          "2023-11-24T00:00:00",
          "2023-12-01T00:00:00",
          "2023-12-08T00:00:00"
         ],
         "xaxis": "x",
         "y": [
          100,
          100,
          101.38663967611336,
          101.38663967611336,
          101.38663967611336,
          101.38663967611336,
          104.54409709198373,
          104.54409709198373,
          104.54409709198373,
          105.7799803223268,
          105.7799803223268,
          105.7799803223268,
          104.29715548767776,
          104.29715548767776,
          104.78034876498869,
          104.78034876498869,
          104.24575757002013,
          104.24575757002013,
          102.9570442048154,
          101.61290301868776,
          101.61290301868776,
          101.63290301868776,
          101.63290301868776,
          102.33430582429898,
          102.61684871027275,
          102.61684871027275,
          102.61684871027275,
          103.56913419543716,
          103.56913419543716,
          103.56913419543716,
          103.56913419543716,
          103.56913419543716,
          103.56913419543716,
          103.60935541212896,
          103.4987025603032,
          103.43841317123568,
          104.67360095994826,
          104.67360095994826,
          104.67360095994826,
          104.67360095994826,
          104.67360095994826,
          104.67360095994826,
          103.62440059323745,
          103.62440059323745,
          103.31218385439165,
          103.31218385439165,
          103.31218385439165,
          103.31218385439165,
          103.31218385439165,
          103.31218385439165,
          103.26205351551054,
          103.26205351551054,
          103.26205351551054,
          103.68289519887728,
          104.60863478430694,
          104.30394252349036,
          104.30394252349036,
          103.09397811067899,
          103.09397811067899,
          102.92293474615538,
          102.43076921783076,
          102.43076921783076,
          102.90828612988807,
          102.90828612988807,
          102.01766269348258,
          102.01766269348258,
          102.01766269348258,
          101.85663209766938,
          101.34417229059542,
          101.34417229059542,
          101.34417229059542,
          101.34417229059542,
          101.34417229059542,
          101.34417229059542,
          101.42323929988581,
          101.42323929988581,
          101.42323929988581,
          102.71246576400733,
          101.56839367734135,
          103.8206459295936,
          103.8411272403975,
          103.8411272403975,
          104.58739589711392,
          104.82108823606941,
          104.82108823606941,
          105.90848251718097,
          105.90848251718097,
          105.90848251718097,
          105.90848251718097,
          105.90848251718097,
          106.20129350264138,
          106.20129350264138,
          106.20129350264138,
          106.20129350264138,
          106.20129350264138,
          106.04061866833732,
          107.24374680148348,
          106.29996762551434,
          106.29996762551434,
          106.29996762551434,
          106.29996762551434,
          105.53229085783757,
          105.53229085783757,
          105.53229085783757,
          106.20844385006686,
          106.20844385006686,
          107.00209464371765,
          107.21747925910228,
          107.21747925910228,
          107.21747925910228,
          107.21747925910228,
          107.21747925910228,
          105.73315291490464,
          105.73315291490464,
          105.73315291490464,
          107.09279307029207,
          107.09279307029207,
          107.09279307029207,
          107.09279307029207,
          110.6595171558124,
          107.96959386065636,
          109.1053761178957,
          109.06397682168374,
          109.06397682168374,
          109.06397682168374,
          108.03422853793087,
          108.01363757736257,
          108.04451765970947,
          109.03298553450354,
          108.96019019340537,
          108.96019019340537,
          108.96019019340537,
          109.44323125189534,
          109.64371663756592,
          110.13007739036776,
          110.40632048429042,
          112.32407032447793,
          113.16048136075861,
          113.16048136075861,
          113.16048136075861,
          113.16048136075861,
          113.16048136075861,
          112.13194785047328,
          112.13194785047328,
          111.83488546737284,
          111.83488546737284,
          112.66435869800951,
          113.73974431608468,
          113.27856061124223,
          114.42622702287191,
          114.42622702287191,
          114.42622702287191,
          114.42622702287191,
          114.57961806045272,
          115.12828480027495,
          115.12828480027495,
          115.35244978570422,
          115.35244978570422,
          114.66217027908434,
          114.66217027908434,
          114.66217027908434,
          114.04105226666196,
          114.64711287272257,
          114.11639923225285,
          113.13920053518444,
          113.92896694230346,
          113.43563809377784,
          112.074486693577,
          112.074486693577,
          112.074486693577,
          112.22499196126138,
          112.22499196126138,
          112.22499196126138,
          114.14582396805328,
          114.14582396805328,
          114.14582396805328,
          114.14582396805328,
          115.49288343580051,
          115.49288343580051,
          115.88116832597134,
          115.88116832597134,
          115.88116832597134,
          115.88116832597134,
          113.28738005924532,
          113.28738005924532,
          112.89492393801999,
          113.568178363039,
          113.05434869210863,
          113.05434869210863,
          114.52269761531942,
          114.52269761531942,
          114.43524680639942,
          114.27141980771003,
          114.27141980771003,
          114.04097977698468,
          113.58115932592273,
          113.58115932592273,
          113.58115932592273,
          112.89993095222029,
          112.89993095222029,
          112.89993095222029,
          112.89993095222029,
          112.89993095222029,
          113.27106947421571,
          113.27106947421571,
          112.58740154149731,
          113.09397623431904,
          113.7331269222185,
          113.7331269222185,
          113.7331269222185,
          113.7331269222185,
          113.7331269222185,
          113.7331269222185,
          114.25554747076008,
          114.52907044669006,
          114.52907044669006,
          114.52907044669006,
          114.49665903787417,
          114.97187234384674,
          114.97187234384674,
          114.97187234384674,
          114.97187234384674,
          115.22877664699382,
          115.42195114795969,
          115.42195114795969,
          114.56918776281287,
          114.56918776281287,
          114.56918776281287,
          114.56918776281287,
          112.79927625838809,
          111.5657069965074,
          111.5657069965074,
          113.39209731048237,
          112.83816754459608,
          110.14613968886383,
          110.14613968886383,
          110.14613968886383,
          110.14613968886383,
          108.47097581413693,
          108.47097581413693,
          108.47097581413693,
          109.56143172856211,
          109.56143172856211,
          111.6311145158736,
          111.6311145158736,
          111.6311145158736,
          111.6311145158736,
          111.6311145158736,
          111.6311145158736,
          111.6311145158736,
          111.6311145158736,
          110.88136780868008,
          110.88136780868008,
          110.88136780868008,
          111.08180877881438,
          111.15210401882241,
          111.15210401882241,
          109.77162191199433,
          110.69337743729024,
          111.61313639701113,
          111.61313639701113,
          111.61313639701113,
          111.66668678792898,
          112.5989628273632,
          112.5989628273632,
          112.5989628273632,
          113.27864779877326,
          113.27864779877326,
          113.27864779877326,
          113.27864779877326,
          113.27864779877326,
          113.27864779877326,
          113.27864779877326,
          114.93427693784612,
          114.93427693784612,
          115.61454904668967,
          115.61454904668967,
          115.61454904668967,
          115.61454904668967,
          115.61454904668967,
          115.61454904668967,
          116.02814171380345,
          116.02814171380345,
          116.02814171380345,
          116.02814171380345,
          116.02814171380345,
          116.66613533386726,
          117.71783465856558,
          117.35981272972245,
          117.35981272972245,
          118.13024595884258,
          118.13024595884258,
          118.13024595884258,
          118.13024595884258,
          117.81982977121324,
          117.81982977121324,
          117.21529001987298,
          116.90916757089337,
          116.86395450431715,
          115.96010183230268,
          115.96010183230268,
          115.96010183230268,
          115.00047244778911,
          115.60136832892097,
          116.45869961052134,
          117.55626058613109,
          116.41289100872945,
          116.41289100872945,
          115.97897912621944,
          117.86221829759418,
          118.1670619241043,
          119.72991583123908,
          119.72991583123908
         ],
         "yaxis": "y"
        },
        {
         "hovertemplate": "variable=Cummulative_Spot<br>index=%{x}<br>value=%{y}<extra></extra>",
         "legendgroup": "Cummulative_Spot",
         "line": {
          "color": "#00cc96",
          "dash": "solid"
         },
         "marker": {
          "symbol": "circle"
         },
         "mode": "lines",
         "name": "Cummulative_Spot",
         "orientation": "v",
         "showlegend": true,
         "type": "scatter",
         "x": [
          "2017-12-15T00:00:00",
          "2017-12-22T00:00:00",
          "2017-12-29T00:00:00",
          "2018-01-05T00:00:00",
          "2018-01-12T00:00:00",
          "2018-01-19T00:00:00",
          "2018-01-26T00:00:00",
          "2018-02-02T00:00:00",
          "2018-02-09T00:00:00",
          "2018-02-16T00:00:00",
          "2018-02-23T00:00:00",
          "2018-03-02T00:00:00",
          "2018-03-09T00:00:00",
          "2018-03-16T00:00:00",
          "2018-03-23T00:00:00",
          "2018-03-30T00:00:00",
          "2018-04-06T00:00:00",
          "2018-04-13T00:00:00",
          "2018-04-20T00:00:00",
          "2018-04-27T00:00:00",
          "2018-05-04T00:00:00",
          "2018-05-11T00:00:00",
          "2018-05-18T00:00:00",
          "2018-05-25T00:00:00",
          "2018-06-01T00:00:00",
          "2018-06-08T00:00:00",
          "2018-06-15T00:00:00",
          "2018-06-22T00:00:00",
          "2018-06-29T00:00:00",
          "2018-07-06T00:00:00",
          "2018-07-13T00:00:00",
          "2018-07-20T00:00:00",
          "2018-07-27T00:00:00",
          "2018-08-03T00:00:00",
          "2018-08-10T00:00:00",
          "2018-08-17T00:00:00",
          "2018-08-24T00:00:00",
          "2018-08-31T00:00:00",
          "2018-09-07T00:00:00",
          "2018-09-14T00:00:00",
          "2018-09-21T00:00:00",
          "2018-09-28T00:00:00",
          "2018-10-05T00:00:00",
          "2018-10-12T00:00:00",
          "2018-10-19T00:00:00",
          "2018-10-26T00:00:00",
          "2018-11-02T00:00:00",
          "2018-11-09T00:00:00",
          "2018-11-16T00:00:00",
          "2018-11-23T00:00:00",
          "2018-11-30T00:00:00",
          "2018-12-07T00:00:00",
          "2018-12-14T00:00:00",
          "2018-12-21T00:00:00",
          "2018-12-28T00:00:00",
          "2019-01-04T00:00:00",
          "2019-01-11T00:00:00",
          "2019-01-18T00:00:00",
          "2019-01-25T00:00:00",
          "2019-02-01T00:00:00",
          "2019-02-08T00:00:00",
          "2019-02-15T00:00:00",
          "2019-02-22T00:00:00",
          "2019-03-01T00:00:00",
          "2019-03-08T00:00:00",
          "2019-03-15T00:00:00",
          "2019-03-22T00:00:00",
          "2019-03-29T00:00:00",
          "2019-04-05T00:00:00",
          "2019-04-12T00:00:00",
          "2019-04-19T00:00:00",
          "2019-04-26T00:00:00",
          "2019-05-03T00:00:00",
          "2019-05-10T00:00:00",
          "2019-05-17T00:00:00",
          "2019-05-24T00:00:00",
          "2019-05-31T00:00:00",
          "2019-06-07T00:00:00",
          "2019-06-14T00:00:00",
          "2019-06-21T00:00:00",
          "2019-06-28T00:00:00",
          "2019-07-05T00:00:00",
          "2019-07-12T00:00:00",
          "2019-07-19T00:00:00",
          "2019-07-26T00:00:00",
          "2019-08-02T00:00:00",
          "2019-08-09T00:00:00",
          "2019-08-16T00:00:00",
          "2019-08-23T00:00:00",
          "2019-08-30T00:00:00",
          "2019-09-06T00:00:00",
          "2019-09-13T00:00:00",
          "2019-09-20T00:00:00",
          "2019-09-27T00:00:00",
          "2019-10-04T00:00:00",
          "2019-10-11T00:00:00",
          "2019-10-18T00:00:00",
          "2019-10-25T00:00:00",
          "2019-11-01T00:00:00",
          "2019-11-08T00:00:00",
          "2019-11-15T00:00:00",
          "2019-11-22T00:00:00",
          "2019-11-29T00:00:00",
          "2019-12-06T00:00:00",
          "2019-12-13T00:00:00",
          "2019-12-20T00:00:00",
          "2019-12-27T00:00:00",
          "2020-01-03T00:00:00",
          "2020-01-10T00:00:00",
          "2020-01-17T00:00:00",
          "2020-01-24T00:00:00",
          "2020-01-31T00:00:00",
          "2020-02-07T00:00:00",
          "2020-02-14T00:00:00",
          "2020-02-21T00:00:00",
          "2020-02-28T00:00:00",
          "2020-03-06T00:00:00",
          "2020-03-13T00:00:00",
          "2020-03-20T00:00:00",
          "2020-03-27T00:00:00",
          "2020-04-03T00:00:00",
          "2020-04-10T00:00:00",
          "2020-04-17T00:00:00",
          "2020-04-24T00:00:00",
          "2020-05-01T00:00:00",
          "2020-05-08T00:00:00",
          "2020-05-15T00:00:00",
          "2020-05-22T00:00:00",
          "2020-05-29T00:00:00",
          "2020-06-05T00:00:00",
          "2020-06-12T00:00:00",
          "2020-06-19T00:00:00",
          "2020-06-26T00:00:00",
          "2020-07-03T00:00:00",
          "2020-07-10T00:00:00",
          "2020-07-17T00:00:00",
          "2020-07-24T00:00:00",
          "2020-07-31T00:00:00",
          "2020-08-07T00:00:00",
          "2020-08-14T00:00:00",
          "2020-08-21T00:00:00",
          "2020-08-28T00:00:00",
          "2020-09-04T00:00:00",
          "2020-09-11T00:00:00",
          "2020-09-18T00:00:00",
          "2020-09-25T00:00:00",
          "2020-10-02T00:00:00",
          "2020-10-09T00:00:00",
          "2020-10-16T00:00:00",
          "2020-10-23T00:00:00",
          "2020-10-30T00:00:00",
          "2020-11-06T00:00:00",
          "2020-11-13T00:00:00",
          "2020-11-20T00:00:00",
          "2020-11-27T00:00:00",
          "2020-12-04T00:00:00",
          "2020-12-11T00:00:00",
          "2020-12-18T00:00:00",
          "2020-12-25T00:00:00",
          "2021-01-01T00:00:00",
          "2021-01-08T00:00:00",
          "2021-01-15T00:00:00",
          "2021-01-22T00:00:00",
          "2021-01-29T00:00:00",
          "2021-02-05T00:00:00",
          "2021-02-12T00:00:00",
          "2021-02-19T00:00:00",
          "2021-02-26T00:00:00",
          "2021-03-05T00:00:00",
          "2021-03-12T00:00:00",
          "2021-03-19T00:00:00",
          "2021-03-26T00:00:00",
          "2021-04-02T00:00:00",
          "2021-04-09T00:00:00",
          "2021-04-16T00:00:00",
          "2021-04-23T00:00:00",
          "2021-04-30T00:00:00",
          "2021-05-07T00:00:00",
          "2021-05-14T00:00:00",
          "2021-05-21T00:00:00",
          "2021-05-28T00:00:00",
          "2021-06-04T00:00:00",
          "2021-06-11T00:00:00",
          "2021-06-18T00:00:00",
          "2021-06-25T00:00:00",
          "2021-07-02T00:00:00",
          "2021-07-09T00:00:00",
          "2021-07-16T00:00:00",
          "2021-07-23T00:00:00",
          "2021-07-30T00:00:00",
          "2021-08-06T00:00:00",
          "2021-08-13T00:00:00",
          "2021-08-20T00:00:00",
          "2021-08-27T00:00:00",
          "2021-09-03T00:00:00",
          "2021-09-10T00:00:00",
          "2021-09-17T00:00:00",
          "2021-09-24T00:00:00",
          "2021-10-01T00:00:00",
          "2021-10-08T00:00:00",
          "2021-10-15T00:00:00",
          "2021-10-22T00:00:00",
          "2021-10-29T00:00:00",
          "2021-11-05T00:00:00",
          "2021-11-12T00:00:00",
          "2021-11-19T00:00:00",
          "2021-11-26T00:00:00",
          "2021-12-03T00:00:00",
          "2021-12-10T00:00:00",
          "2021-12-17T00:00:00",
          "2021-12-24T00:00:00",
          "2021-12-31T00:00:00",
          "2022-01-07T00:00:00",
          "2022-01-14T00:00:00",
          "2022-01-21T00:00:00",
          "2022-01-28T00:00:00",
          "2022-02-04T00:00:00",
          "2022-02-11T00:00:00",
          "2022-02-18T00:00:00",
          "2022-02-25T00:00:00",
          "2022-03-04T00:00:00",
          "2022-03-11T00:00:00",
          "2022-03-18T00:00:00",
          "2022-03-25T00:00:00",
          "2022-04-01T00:00:00",
          "2022-04-08T00:00:00",
          "2022-04-15T00:00:00",
          "2022-04-22T00:00:00",
          "2022-04-29T00:00:00",
          "2022-05-06T00:00:00",
          "2022-05-13T00:00:00",
          "2022-05-20T00:00:00",
          "2022-05-27T00:00:00",
          "2022-06-03T00:00:00",
          "2022-06-10T00:00:00",
          "2022-06-17T00:00:00",
          "2022-06-24T00:00:00",
          "2022-07-01T00:00:00",
          "2022-07-08T00:00:00",
          "2022-07-15T00:00:00",
          "2022-07-22T00:00:00",
          "2022-07-29T00:00:00",
          "2022-08-05T00:00:00",
          "2022-08-12T00:00:00",
          "2022-08-19T00:00:00",
          "2022-08-26T00:00:00",
          "2022-09-02T00:00:00",
          "2022-09-09T00:00:00",
          "2022-09-16T00:00:00",
          "2022-09-23T00:00:00",
          "2022-09-30T00:00:00",
          "2022-10-07T00:00:00",
          "2022-10-14T00:00:00",
          "2022-10-21T00:00:00",
          "2022-10-28T00:00:00",
          "2022-11-04T00:00:00",
          "2022-11-11T00:00:00",
          "2022-11-18T00:00:00",
          "2022-11-25T00:00:00",
          "2022-12-02T00:00:00",
          "2022-12-09T00:00:00",
          "2022-12-16T00:00:00",
          "2022-12-23T00:00:00",
          "2022-12-30T00:00:00",
          "2023-01-06T00:00:00",
          "2023-01-13T00:00:00",
          "2023-01-20T00:00:00",
          "2023-01-27T00:00:00",
          "2023-02-03T00:00:00",
          "2023-02-10T00:00:00",
          "2023-02-17T00:00:00",
          "2023-02-24T00:00:00",
          "2023-03-03T00:00:00",
          "2023-03-10T00:00:00",
          "2023-03-17T00:00:00",
          "2023-03-24T00:00:00",
          "2023-03-31T00:00:00",
          "2023-04-07T00:00:00",
          "2023-04-14T00:00:00",
          "2023-04-21T00:00:00",
          "2023-04-28T00:00:00",
          "2023-05-05T00:00:00",
          "2023-05-12T00:00:00",
          "2023-05-19T00:00:00",
          "2023-05-26T00:00:00",
          "2023-06-02T00:00:00",
          "2023-06-09T00:00:00",
          "2023-06-16T00:00:00",
          "2023-06-23T00:00:00",
          "2023-06-30T00:00:00",
          "2023-07-07T00:00:00",
          "2023-07-14T00:00:00",
          "2023-07-21T00:00:00",
          "2023-07-28T00:00:00",
          "2023-08-04T00:00:00",
          "2023-08-11T00:00:00",
          "2023-08-18T00:00:00",
          "2023-08-25T00:00:00",
          "2023-09-01T00:00:00",
          "2023-09-08T00:00:00",
          "2023-09-15T00:00:00",
          "2023-09-22T00:00:00",
          "2023-09-29T00:00:00",
          "2023-10-06T00:00:00",
          "2023-10-13T00:00:00",
          "2023-10-20T00:00:00",
          "2023-10-27T00:00:00",
          "2023-11-03T00:00:00",
          "2023-11-10T00:00:00",
          "2023-11-17T00:00:00",
          "2023-11-24T00:00:00",
          "2023-12-01T00:00:00",
          "2023-12-08T00:00:00"
         ],
         "xaxis": "x",
         "y": [
          100,
          100,
          98.61336032388664,
          98.65441544038053,
          97.89520747895651,
          97.42999503193901,
          94.27253761606865,
          94.16528750881852,
          94.93831735635986,
          93.7024341260168,
          94.6840953989402,
          94.82296945085773,
          96.30579428550676,
          96.37937780279888,
          95.89618452548795,
          96.59282797070645,
          97.127419165675,
          97.45063885079648,
          98.73935221600121,
          100.08349340212885,
          101.32881080619892,
          101.3088108061989,
          101.12877479899747,
          100.42737199338625,
          100.14482910741248,
          99.89184388174967,
          101.09910775513914,
          100.14682226997473,
          100.39983309883822,
          100.26859950303769,
          101.52201100612069,
          100.58360629413107,
          100.80531343914771,
          100.76509222245589,
          100.87574507428165,
          100.93603446334917,
          99.7008466746366,
          98.21635252110329,
          98.24731546877591,
          98.16477316584566,
          97.16312095601502,
          99.56220304634567,
          100.6114034130565,
          100.70212921950811,
          101.01434595835391,
          101.11474756477962,
          101.76670343238243,
          101.97597099591007,
          101.40914522025375,
          101.1591202177535,
          101.2092505566346,
          100.6180089492591,
          101.22284765893653,
          100.8020059755698,
          99.87626639014013,
          100.18095865095671,
          99.76581081782588,
          100.97577523063727,
          100.8250820419694,
          100.996125406493,
          101.48829093481763,
          101.95805605225893,
          101.48053914020161,
          101.37058312260865,
          102.26120655901414,
          101.6561678762131,
          100.80794913556846,
          100.96897973138167,
          101.48143953845562,
          101.69137655734995,
          102.90845556772504,
          103.40126061404874,
          103.10702758148695,
          102.6348654724962,
          102.5557984632058,
          101.68537314174192,
          101.52572436904185,
          100.23649790492034,
          101.38056999158633,
          99.12831773933407,
          99.10783642853018,
          100.67497767609753,
          99.92870901938112,
          99.69501668042562,
          100.84584670384959,
          99.75845242273805,
          98.77107457257517,
          99.34679164875486,
          98.93791911476735,
          100.59038755364654,
          100.29757656818612,
          100.59124745426206,
          100.64173210692766,
          100.64173210692766,
          101.13623205646849,
          101.29690689077255,
          100.09377875762638,
          101.03755793359554,
          100.1327625178923,
          101.31973624214918,
          100.57780722670903,
          101.3454839943858,
          101.60610949558867,
          100.67629545839611,
          100.00014246616682,
          99.85789495549827,
          99.06424416184745,
          98.84885954646285,
          98.81802390045607,
          98.33478310259466,
          98.71705399834835,
          97.87308528694449,
          99.35741163114213,
          99.82790360209435,
          99.41051583868196,
          98.05087568329452,
          95.29411332450086,
          96.72222799997779,
          100.42087253081733,
          96.85414844529701,
          99.54407174045305,
          98.40828948321371,
          98.44968877942567,
          99.11180340802073,
          97.91961430216257,
          98.94936258591544,
          98.96995354648374,
          98.93907346413684,
          97.95060558934277,
          98.02340093044094,
          96.99461572832102,
          96.98411593831682,
          96.50107487982685,
          96.30058949415627,
          95.81422874135443,
          95.53798564743177,
          93.62023580724426,
          92.78382477096358,
          92.729054259407,
          92.36737078724566,
          92.64236803727314,
          91.83060849361365,
          92.85914200389898,
          92.35558425896194,
          92.65264664206238,
          94.48459047707775,
          93.6551172464411,
          92.57973162836592,
          93.04091533320836,
          91.89324892157867,
          93.28643777606786,
          91.37804082950296,
          92.84552276391096,
          92.69213172633016,
          92.14346498650792,
          90.5876887534725,
          90.36352376804322,
          89.63335077321062,
          90.3236302798305,
          89.90780649920563,
          89.84009405140064,
          90.46121206382301,
          89.85515145776242,
          90.38586509823214,
          91.36306379530055,
          90.57329738818153,
          91.06662623670715,
          92.42777763690798,
          94.70625864956622,
          94.81387810716416,
          94.66337283947979,
          95.77233063448409,
          96.1130824181067,
          94.1922504113148,
          93.74862349073484,
          93.08565207458443,
          92.98718380324962,
          91.64012433550239,
          91.7067317955379,
          91.31844690536705,
          91.541188858814,
          91.48562712973299,
          91.36332337167205,
          93.95711163839809,
          93.49053177728698,
          93.88298789851231,
          93.2097334734933,
          93.72356314442368,
          93.72356314442368,
          92.2552142212129,
          93.23766261507535,
          93.32511342399533,
          93.48894042268473,
          92.85651211606604,
          93.08695214679138,
          93.54677259785335,
          95.14877782889083,
          94.34431574587033,
          95.02554411957277,
          94.63890466086801,
          94.14294778755264,
          93.37363366901324,
          93.40639191317136,
          93.03525339117594,
          93.99942562739815,
          94.68309356011653,
          94.17651886729482,
          93.53736817939534,
          93.98438082658244,
          94.2123196087381,
          93.74664926002681,
          93.07207630822614,
          93.71836834459376,
          93.19594779605218,
          92.92242482012219,
          95.00690095835589,
          94.48030235545421,
          94.5127137642701,
          94.03750045829754,
          94.43901972037024,
          93.52029944367331,
          95.42932093380094,
          95.17241663065386,
          94.97924212968799,
          94.59214535549444,
          95.44490874064125,
          96.3867903632464,
          97.91366980339062,
          99.40714238824701,
          101.1770538926718,
          102.41062315455248,
          99.75381132874345,
          97.92742101476848,
          98.48135078065476,
          101.17337863638703,
          99.34139483071901,
          98.14539524313267,
          98.43757931910052,
          100.1127431938274,
          100.1127431938274,
          98.6493784783137,
          97.55892256388852,
          98.51440345427072,
          96.44472066695921,
          98.31387954546389,
          98.99152758549725,
          100.5965809146885,
          98.57864369495756,
          98.95309761632222,
          100.69403025880928,
          101.22366969657664,
          101.97341640377016,
          103.07961109403566,
          102.32369305146553,
          102.12325208133123,
          102.0529568413232,
          96.68666199658396,
          98.06714410341205,
          97.14538857811614,
          96.22562961839525,
          95.90552718561676,
          95.85200545579444,
          95.79845506487659,
          94.86617902544239,
          95.23394538563707,
          95.12617515177567,
          94.4464901803656,
          94.48994010432823,
          95.043686032667,
          94.79533272308919,
          94.94688067719183,
          96.5897687014028,
          96.14315024117312,
          94.48752110210026,
          95.07403136602987,
          94.39375925718633,
          93.90452246657968,
          92.82290988054231,
          91.53066335966757,
          91.37401123926922,
          91.6317720820351,
          91.21817941492132,
          91.95900330087935,
          92.20412864906878,
          92.87101761205643,
          93.24641785496249,
          92.60842423489868,
          91.55672491020036,
          91.91474683904349,
          91.75867103079376,
          90.98823780167362,
          87.98384936913169,
          88.42468463595304,
          88.88668509795352,
          89.19710128558286,
          89.67847664374905,
          90.2830163950893,
          90.58913884406891,
          90.63435191064514,
          91.5382045826596,
          91.96368885093865,
          93.04519180556011,
          94.00482119007368,
          93.40392530894181,
          92.54659402734146,
          91.4490330517317,
          92.59240262913335,
          92.20450503409845,
          92.63841691660845,
          90.7551777452337,
          90.45033411872359,
          88.88748021158881,
          89.5662653013265
         ],
         "yaxis": "y"
        }
       ],
       "layout": {
        "autosize": true,
        "legend": {
         "title": {
          "text": "variable"
         },
         "tracegroupgap": 0
        },
        "margin": {
         "t": 60
        },
        "template": {
         "data": {
          "bar": [
           {
            "error_x": {
             "color": "#2a3f5f"
            },
            "error_y": {
             "color": "#2a3f5f"
            },
            "marker": {
             "line": {
              "color": "#E5ECF6",
              "width": 0.5
             },
             "pattern": {
              "fillmode": "overlay",
              "size": 10,
              "solidity": 0.2
             }
            },
            "type": "bar"
           }
          ],
          "barpolar": [
           {
            "marker": {
             "line": {
              "color": "#E5ECF6",
              "width": 0.5
             },
             "pattern": {
              "fillmode": "overlay",
              "size": 10,
              "solidity": 0.2
             }
            },
            "type": "barpolar"
           }
          ],
          "carpet": [
           {
            "aaxis": {
             "endlinecolor": "#2a3f5f",
             "gridcolor": "white",
             "linecolor": "white",
             "minorgridcolor": "white",
             "startlinecolor": "#2a3f5f"
            },
            "baxis": {
             "endlinecolor": "#2a3f5f",
             "gridcolor": "white",
             "linecolor": "white",
             "minorgridcolor": "white",
             "startlinecolor": "#2a3f5f"
            },
            "type": "carpet"
           }
          ],
          "choropleth": [
           {
            "colorbar": {
             "outlinewidth": 0,
             "ticks": ""
            },
            "type": "choropleth"
           }
          ],
          "contour": [
           {
            "colorbar": {
             "outlinewidth": 0,
             "ticks": ""
            },
            "colorscale": [
             [
              0,
              "#0d0887"
             ],
             [
              0.1111111111111111,
              "#46039f"
             ],
             [
              0.2222222222222222,
              "#7201a8"
             ],
             [
              0.3333333333333333,
              "#9c179e"
             ],
             [
              0.4444444444444444,
              "#bd3786"
             ],
             [
              0.5555555555555556,
              "#d8576b"
             ],
             [
              0.6666666666666666,
              "#ed7953"
             ],
             [
              0.7777777777777778,
              "#fb9f3a"
             ],
             [
              0.8888888888888888,
              "#fdca26"
             ],
             [
              1,
              "#f0f921"
             ]
            ],
            "type": "contour"
           }
          ],
          "contourcarpet": [
           {
            "colorbar": {
             "outlinewidth": 0,
             "ticks": ""
            },
            "type": "contourcarpet"
           }
          ],
          "heatmap": [
           {
            "colorbar": {
             "outlinewidth": 0,
             "ticks": ""
            },
            "colorscale": [
             [
              0,
              "#0d0887"
             ],
             [
              0.1111111111111111,
              "#46039f"
             ],
             [
              0.2222222222222222,
              "#7201a8"
             ],
             [
              0.3333333333333333,
              "#9c179e"
             ],
             [
              0.4444444444444444,
              "#bd3786"
             ],
             [
              0.5555555555555556,
              "#d8576b"
             ],
             [
              0.6666666666666666,
              "#ed7953"
             ],
             [
              0.7777777777777778,
              "#fb9f3a"
             ],
             [
              0.8888888888888888,
              "#fdca26"
             ],
             [
              1,
              "#f0f921"
             ]
            ],
            "type": "heatmap"
           }
          ],
          "heatmapgl": [
           {
            "colorbar": {
             "outlinewidth": 0,
             "ticks": ""
            },
            "colorscale": [
             [
              0,
              "#0d0887"
             ],
             [
              0.1111111111111111,
              "#46039f"
             ],
             [
              0.2222222222222222,
              "#7201a8"
             ],
             [
              0.3333333333333333,
              "#9c179e"
             ],
             [
              0.4444444444444444,
              "#bd3786"
             ],
             [
              0.5555555555555556,
              "#d8576b"
             ],
             [
              0.6666666666666666,
              "#ed7953"
             ],
             [
              0.7777777777777778,
              "#fb9f3a"
             ],
             [
              0.8888888888888888,
              "#fdca26"
             ],
             [
              1,
              "#f0f921"
             ]
            ],
            "type": "heatmapgl"
           }
          ],
          "histogram": [
           {
            "marker": {
             "pattern": {
              "fillmode": "overlay",
              "size": 10,
              "solidity": 0.2
             }
            },
            "type": "histogram"
           }
          ],
          "histogram2d": [
           {
            "colorbar": {
             "outlinewidth": 0,
             "ticks": ""
            },
            "colorscale": [
             [
              0,
              "#0d0887"
             ],
             [
              0.1111111111111111,
              "#46039f"
             ],
             [
              0.2222222222222222,
              "#7201a8"
             ],
             [
              0.3333333333333333,
              "#9c179e"
             ],
             [
              0.4444444444444444,
              "#bd3786"
             ],
             [
              0.5555555555555556,
              "#d8576b"
             ],
             [
              0.6666666666666666,
              "#ed7953"
             ],
             [
              0.7777777777777778,
              "#fb9f3a"
             ],
             [
              0.8888888888888888,
              "#fdca26"
             ],
             [
              1,
              "#f0f921"
             ]
            ],
            "type": "histogram2d"
           }
          ],
          "histogram2dcontour": [
           {
            "colorbar": {
             "outlinewidth": 0,
             "ticks": ""
            },
            "colorscale": [
             [
              0,
              "#0d0887"
             ],
             [
              0.1111111111111111,
              "#46039f"
             ],
             [
              0.2222222222222222,
              "#7201a8"
             ],
             [
              0.3333333333333333,
              "#9c179e"
             ],
             [
              0.4444444444444444,
              "#bd3786"
             ],
             [
              0.5555555555555556,
              "#d8576b"
             ],
             [
              0.6666666666666666,
              "#ed7953"
             ],
             [
              0.7777777777777778,
              "#fb9f3a"
             ],
             [
              0.8888888888888888,
              "#fdca26"
             ],
             [
              1,
              "#f0f921"
             ]
            ],
            "type": "histogram2dcontour"
           }
          ],
          "mesh3d": [
           {
            "colorbar": {
             "outlinewidth": 0,
             "ticks": ""
            },
            "type": "mesh3d"
           }
          ],
          "parcoords": [
           {
            "line": {
             "colorbar": {
              "outlinewidth": 0,
              "ticks": ""
             }
            },
            "type": "parcoords"
           }
          ],
          "pie": [
           {
            "automargin": true,
            "type": "pie"
           }
          ],
          "scatter": [
           {
            "marker": {
             "colorbar": {
              "outlinewidth": 0,
              "ticks": ""
             }
            },
            "type": "scatter"
           }
          ],
          "scatter3d": [
           {
            "line": {
             "colorbar": {
              "outlinewidth": 0,
              "ticks": ""
             }
            },
            "marker": {
             "colorbar": {
              "outlinewidth": 0,
              "ticks": ""
             }
            },
            "type": "scatter3d"
           }
          ],
          "scattercarpet": [
           {
            "marker": {
             "colorbar": {
              "outlinewidth": 0,
              "ticks": ""
             }
            },
            "type": "scattercarpet"
           }
          ],
          "scattergeo": [
           {
            "marker": {
             "colorbar": {
              "outlinewidth": 0,
              "ticks": ""
             }
            },
            "type": "scattergeo"
           }
          ],
          "scattergl": [
           {
            "marker": {
             "colorbar": {
              "outlinewidth": 0,
              "ticks": ""
             }
            },
            "type": "scattergl"
           }
          ],
          "scattermapbox": [
           {
            "marker": {
             "colorbar": {
              "outlinewidth": 0,
              "ticks": ""
             }
            },
            "type": "scattermapbox"
           }
          ],
          "scatterpolar": [
           {
            "marker": {
             "colorbar": {
              "outlinewidth": 0,
              "ticks": ""
             }
            },
            "type": "scatterpolar"
           }
          ],
          "scatterpolargl": [
           {
            "marker": {
             "colorbar": {
              "outlinewidth": 0,
              "ticks": ""
             }
            },
            "type": "scatterpolargl"
           }
          ],
          "scatterternary": [
           {
            "marker": {
             "colorbar": {
              "outlinewidth": 0,
              "ticks": ""
             }
            },
            "type": "scatterternary"
           }
          ],
          "surface": [
           {
            "colorbar": {
             "outlinewidth": 0,
             "ticks": ""
            },
            "colorscale": [
             [
              0,
              "#0d0887"
             ],
             [
              0.1111111111111111,
              "#46039f"
             ],
             [
              0.2222222222222222,
              "#7201a8"
             ],
             [
              0.3333333333333333,
              "#9c179e"
             ],
             [
              0.4444444444444444,
              "#bd3786"
             ],
             [
              0.5555555555555556,
              "#d8576b"
             ],
             [
              0.6666666666666666,
              "#ed7953"
             ],
             [
              0.7777777777777778,
              "#fb9f3a"
             ],
             [
              0.8888888888888888,
              "#fdca26"
             ],
             [
              1,
              "#f0f921"
             ]
            ],
            "type": "surface"
           }
          ],
          "table": [
           {
            "cells": {
             "fill": {
              "color": "#EBF0F8"
             },
             "line": {
              "color": "white"
             }
            },
            "header": {
             "fill": {
              "color": "#C8D4E3"
             },
             "line": {
              "color": "white"
             }
            },
            "type": "table"
           }
          ]
         },
         "layout": {
          "annotationdefaults": {
           "arrowcolor": "#2a3f5f",
           "arrowhead": 0,
           "arrowwidth": 1
          },
          "autotypenumbers": "strict",
          "coloraxis": {
           "colorbar": {
            "outlinewidth": 0,
            "ticks": ""
           }
          },
          "colorscale": {
           "diverging": [
            [
             0,
             "#8e0152"
            ],
            [
             0.1,
             "#c51b7d"
            ],
            [
             0.2,
             "#de77ae"
            ],
            [
             0.3,
             "#f1b6da"
            ],
            [
             0.4,
             "#fde0ef"
            ],
            [
             0.5,
             "#f7f7f7"
            ],
            [
             0.6,
             "#e6f5d0"
            ],
            [
             0.7,
             "#b8e186"
            ],
            [
             0.8,
             "#7fbc41"
            ],
            [
             0.9,
             "#4d9221"
            ],
            [
             1,
             "#276419"
            ]
           ],
           "sequential": [
            [
             0,
             "#0d0887"
            ],
            [
             0.1111111111111111,
             "#46039f"
            ],
            [
             0.2222222222222222,
             "#7201a8"
            ],
            [
             0.3333333333333333,
             "#9c179e"
            ],
            [
             0.4444444444444444,
             "#bd3786"
            ],
            [
             0.5555555555555556,
             "#d8576b"
            ],
            [
             0.6666666666666666,
             "#ed7953"
            ],
            [
             0.7777777777777778,
             "#fb9f3a"
            ],
            [
             0.8888888888888888,
             "#fdca26"
            ],
            [
             1,
             "#f0f921"
            ]
           ],
           "sequentialminus": [
            [
             0,
             "#0d0887"
            ],
            [
             0.1111111111111111,
             "#46039f"
            ],
            [
             0.2222222222222222,
             "#7201a8"
            ],
            [
             0.3333333333333333,
             "#9c179e"
            ],
            [
             0.4444444444444444,
             "#bd3786"
            ],
            [
             0.5555555555555556,
             "#d8576b"
            ],
            [
             0.6666666666666666,
             "#ed7953"
            ],
            [
             0.7777777777777778,
             "#fb9f3a"
            ],
            [
             0.8888888888888888,
             "#fdca26"
            ],
            [
             1,
             "#f0f921"
            ]
           ]
          },
          "colorway": [
           "#636efa",
           "#EF553B",
           "#00cc96",
           "#ab63fa",
           "#FFA15A",
           "#19d3f3",
           "#FF6692",
           "#B6E880",
           "#FF97FF",
           "#FECB52"
          ],
          "font": {
           "color": "#2a3f5f"
          },
          "geo": {
           "bgcolor": "white",
           "lakecolor": "white",
           "landcolor": "#E5ECF6",
           "showlakes": true,
           "showland": true,
           "subunitcolor": "white"
          },
          "hoverlabel": {
           "align": "left"
          },
          "hovermode": "closest",
          "mapbox": {
           "style": "light"
          },
          "paper_bgcolor": "white",
          "plot_bgcolor": "#E5ECF6",
          "polar": {
           "angularaxis": {
            "gridcolor": "white",
            "linecolor": "white",
            "ticks": ""
           },
           "bgcolor": "#E5ECF6",
           "radialaxis": {
            "gridcolor": "white",
            "linecolor": "white",
            "ticks": ""
           }
          },
          "scene": {
           "xaxis": {
            "backgroundcolor": "#E5ECF6",
            "gridcolor": "white",
            "gridwidth": 2,
            "linecolor": "white",
            "showbackground": true,
            "ticks": "",
            "zerolinecolor": "white"
           },
           "yaxis": {
            "backgroundcolor": "#E5ECF6",
            "gridcolor": "white",
            "gridwidth": 2,
            "linecolor": "white",
            "showbackground": true,
            "ticks": "",
            "zerolinecolor": "white"
           },
           "zaxis": {
            "backgroundcolor": "#E5ECF6",
            "gridcolor": "white",
            "gridwidth": 2,
            "linecolor": "white",
            "showbackground": true,
            "ticks": "",
            "zerolinecolor": "white"
           }
          },
          "shapedefaults": {
           "line": {
            "color": "#2a3f5f"
           }
          },
          "ternary": {
           "aaxis": {
            "gridcolor": "white",
            "linecolor": "white",
            "ticks": ""
           },
           "baxis": {
            "gridcolor": "white",
            "linecolor": "white",
            "ticks": ""
           },
           "bgcolor": "#E5ECF6",
           "caxis": {
            "gridcolor": "white",
            "linecolor": "white",
            "ticks": ""
           }
          },
          "title": {
           "x": 0.05
          },
          "xaxis": {
           "automargin": true,
           "gridcolor": "white",
           "linecolor": "white",
           "ticks": "",
           "title": {
            "standoff": 15
           },
           "zerolinecolor": "white",
           "zerolinewidth": 2
          },
          "yaxis": {
           "automargin": true,
           "gridcolor": "white",
           "linecolor": "white",
           "ticks": "",
           "title": {
            "standoff": 15
           },
           "zerolinecolor": "white",
           "zerolinewidth": 2
          }
         }
        },
        "xaxis": {
         "anchor": "y",
         "autorange": true,
         "domain": [
          0,
          1
         ],
         "range": [
          "2017-12-15",
          "2023-12-08"
         ],
         "title": {
          "text": "index"
         },
         "type": "date"
        },
        "yaxis": {
         "anchor": "x",
         "autorange": true,
         "domain": [
          0,
          1
         ],
         "range": [
          86.22017901012572,
          121.49358619024505
         ],
         "title": {
          "text": "value"
         },
         "type": "linear"
        }
       }
      },
      "image/png": "[encoded data removed]"
     },
     "metadata": {},
     "output_type": "display_data"
    }
   ],
   "source": [
    "Performance_Contribution = pd.DataFrame(df_combined['USDCHF'][-len(y_pred):])\n",
    " \n",
    "# Add the 'Y_pred' (predictions) from the random forest model as a new column 'Prediction' in the 'Strategy' DataFrame\n",
    "Performance_Contribution['Prediction'] = y_pred\n",
    " \n",
    "Performance_Contribution['Short_prediction'] = np.where(Performance_Contribution['Prediction'] < 0, Performance_Contribution['USDCHF'] * Performance_Contribution['Prediction'], 0)\n",
    " \n",
    "Performance_Contribution['Long_prediction'] = np.where(Performance_Contribution['Prediction'] >= 0, Performance_Contribution['USDCHF'] * Performance_Contribution['Prediction'], 0)\n",
    " \n",
    "Performance_Contribution['Cummulative_Short_prediction'] = (Performance_Contribution['Short_prediction'].cumsum() * 100).add(100)\n",
    " \n",
    "Performance_Contribution['Cummulative_Long_prediction'] = (Performance_Contribution['Long_prediction'].cumsum() * 100).add(100)\n",
    " \n",
    "Performance_Contribution['Cummulative_Spot'] = (Strategy['USDCHF'].cumsum() * 100).add(100)\n",
    " \n",
    "fist_row = {'USDCHF': 0.0,'Cummulative_Short_prediction': 100.0, 'Cummulative_Spot': 100.0, 'Cummulative_Long_prediction': 100.0}\n",
    " \n",
    "fist_row_df = pd.DataFrame(fist_row, index=[Performance_Contribution.index[0] - timedelta(days=7)])\n",
    " \n",
    "Performance_Contribution = pd.concat([Performance_Contribution,fist_row_df]).sort_index()\n",
    " \n",
    "px.line(Performance_Contribution[['Cummulative_Long_prediction', 'Cummulative_Short_prediction','Cummulative_Spot']])"
   ]
  },
  {
   "cell_type": "code",
   "execution_count": 30,
   "metadata": {},
   "outputs": [
    {
     "data": {
      "text/html": [
       "<div>\n",
       "<style scoped>\n",
       "    .dataframe tbody tr th:only-of-type {\n",
       "        vertical-align: middle;\n",
       "    }\n",
       "\n",
       "    .dataframe tbody tr th {\n",
       "        vertical-align: top;\n",
       "    }\n",
       "\n",
       "    .dataframe thead th {\n",
       "        text-align: right;\n",
       "    }\n",
       "</style>\n",
       "<table border=\"1\" class=\"dataframe\">\n",
       "  <thead>\n",
       "    <tr style=\"text-align: right;\">\n",
       "      <th></th>\n",
       "      <th>USDCHF</th>\n",
       "      <th>Prediction</th>\n",
       "      <th>Short_prediction</th>\n",
       "      <th>Long_prediction</th>\n",
       "      <th>Cummulative_Short_prediction</th>\n",
       "      <th>Cummulative_Long_prediction</th>\n",
       "      <th>Cummulative_Spot</th>\n",
       "    </tr>\n",
       "  </thead>\n",
       "  <tbody>\n",
       "    <tr>\n",
       "      <th>2017-12-15</th>\n",
       "      <td>0.000000</td>\n",
       "      <td>NaN</td>\n",
       "      <td>NaN</td>\n",
       "      <td>NaN</td>\n",
       "      <td>100.000000</td>\n",
       "      <td>100.000000</td>\n",
       "      <td>100.000000</td>\n",
       "    </tr>\n",
       "    <tr>\n",
       "      <th>2017-12-22</th>\n",
       "      <td>-0.002524</td>\n",
       "      <td>1.0</td>\n",
       "      <td>0.000000</td>\n",
       "      <td>-0.002524</td>\n",
       "      <td>100.000000</td>\n",
       "      <td>99.747602</td>\n",
       "      <td>100.000000</td>\n",
       "    </tr>\n",
       "    <tr>\n",
       "      <th>2017-12-29</th>\n",
       "      <td>-0.013866</td>\n",
       "      <td>-1.0</td>\n",
       "      <td>0.013866</td>\n",
       "      <td>0.000000</td>\n",
       "      <td>101.386640</td>\n",
       "      <td>99.747602</td>\n",
       "      <td>98.613360</td>\n",
       "    </tr>\n",
       "    <tr>\n",
       "      <th>2018-01-05</th>\n",
       "      <td>0.000411</td>\n",
       "      <td>1.0</td>\n",
       "      <td>0.000000</td>\n",
       "      <td>0.000411</td>\n",
       "      <td>101.386640</td>\n",
       "      <td>99.788657</td>\n",
       "      <td>98.654415</td>\n",
       "    </tr>\n",
       "    <tr>\n",
       "      <th>2018-01-12</th>\n",
       "      <td>-0.007592</td>\n",
       "      <td>1.0</td>\n",
       "      <td>0.000000</td>\n",
       "      <td>-0.007592</td>\n",
       "      <td>101.386640</td>\n",
       "      <td>99.029449</td>\n",
       "      <td>97.895207</td>\n",
       "    </tr>\n",
       "    <tr>\n",
       "      <th>...</th>\n",
       "      <td>...</td>\n",
       "      <td>...</td>\n",
       "      <td>...</td>\n",
       "      <td>...</td>\n",
       "      <td>...</td>\n",
       "      <td>...</td>\n",
       "      <td>...</td>\n",
       "    </tr>\n",
       "    <tr>\n",
       "      <th>2023-11-10</th>\n",
       "      <td>0.004339</td>\n",
       "      <td>-1.0</td>\n",
       "      <td>-0.004339</td>\n",
       "      <td>0.000000</td>\n",
       "      <td>115.978979</td>\n",
       "      <td>108.364998</td>\n",
       "      <td>92.638417</td>\n",
       "    </tr>\n",
       "    <tr>\n",
       "      <th>2023-11-17</th>\n",
       "      <td>-0.018832</td>\n",
       "      <td>-1.0</td>\n",
       "      <td>0.018832</td>\n",
       "      <td>0.000000</td>\n",
       "      <td>117.862218</td>\n",
       "      <td>108.364998</td>\n",
       "      <td>90.755178</td>\n",
       "    </tr>\n",
       "    <tr>\n",
       "      <th>2023-11-24</th>\n",
       "      <td>-0.003048</td>\n",
       "      <td>-1.0</td>\n",
       "      <td>0.003048</td>\n",
       "      <td>0.000000</td>\n",
       "      <td>118.167062</td>\n",
       "      <td>108.364998</td>\n",
       "      <td>90.450334</td>\n",
       "    </tr>\n",
       "    <tr>\n",
       "      <th>2023-12-01</th>\n",
       "      <td>-0.015629</td>\n",
       "      <td>-1.0</td>\n",
       "      <td>0.015629</td>\n",
       "      <td>0.000000</td>\n",
       "      <td>119.729916</td>\n",
       "      <td>108.364998</td>\n",
       "      <td>88.887480</td>\n",
       "    </tr>\n",
       "    <tr>\n",
       "      <th>2023-12-08</th>\n",
       "      <td>0.006788</td>\n",
       "      <td>1.0</td>\n",
       "      <td>0.000000</td>\n",
       "      <td>0.006788</td>\n",
       "      <td>119.729916</td>\n",
       "      <td>109.043783</td>\n",
       "      <td>89.566265</td>\n",
       "    </tr>\n",
       "  </tbody>\n",
       "</table>\n",
       "<p>313 rows × 7 columns</p>\n",
       "</div>"
      ],
      "text/plain": [
       "              USDCHF  Prediction  Short_prediction  Long_prediction  \\\n",
       "2017-12-15  0.000000         NaN               NaN              NaN   \n",
       "2017-12-22 -0.002524         1.0          0.000000        -0.002524   \n",
       "2017-12-29 -0.013866        -1.0          0.013866         0.000000   \n",
       "2018-01-05  0.000411         1.0          0.000000         0.000411   \n",
       "2018-01-12 -0.007592         1.0          0.000000        -0.007592   \n",
       "...              ...         ...               ...              ...   \n",
       "2023-11-10  0.004339        -1.0         -0.004339         0.000000   \n",
       "2023-11-17 -0.018832        -1.0          0.018832         0.000000   \n",
       "2023-11-24 -0.003048        -1.0          0.003048         0.000000   \n",
       "2023-12-01 -0.015629        -1.0          0.015629         0.000000   \n",
       "2023-12-08  0.006788         1.0          0.000000         0.006788   \n",
       "\n",
       "            Cummulative_Short_prediction  Cummulative_Long_prediction  \\\n",
       "2017-12-15                    100.000000                   100.000000   \n",
       "2017-12-22                    100.000000                    99.747602   \n",
       "2017-12-29                    101.386640                    99.747602   \n",
       "2018-01-05                    101.386640                    99.788657   \n",
       "2018-01-12                    101.386640                    99.029449   \n",
       "...                                  ...                          ...   \n",
       "2023-11-10                    115.978979                   108.364998   \n",
       "2023-11-17                    117.862218                   108.364998   \n",
       "2023-11-24                    118.167062                   108.364998   \n",
       "2023-12-01                    119.729916                   108.364998   \n",
       "2023-12-08                    119.729916                   109.043783   \n",
       "\n",
       "            Cummulative_Spot  \n",
       "2017-12-15        100.000000  \n",
       "2017-12-22        100.000000  \n",
       "2017-12-29         98.613360  \n",
       "2018-01-05         98.654415  \n",
       "2018-01-12         97.895207  \n",
       "...                      ...  \n",
       "2023-11-10         92.638417  \n",
       "2023-11-17         90.755178  \n",
       "2023-11-24         90.450334  \n",
       "2023-12-01         88.887480  \n",
       "2023-12-08         89.566265  \n",
       "\n",
       "[313 rows x 7 columns]"
      ]
     },
     "execution_count": 30,
     "metadata": {},
     "output_type": "execute_result"
    }
   ],
   "source": [
    "Performance_Contribution"
   ]
  },
  {
   "cell_type": "code",
   "execution_count": 31,
   "metadata": {
    "tags": []
   },
   "outputs": [
    {
     "name": "stdout",
     "output_type": "stream",
     "text": [
      "[-1]\n"
     ]
    },
    {
     "name": "stderr",
     "output_type": "stream",
     "text": [
      "c:\\Users\\shandar\\Anaconda3\\lib\\site-packages\\sklearn\\base.py:450: UserWarning:\n",
      "\n",
      "X does not have valid feature names, but DecisionTreeClassifier was fitted with feature names\n",
      "\n"
     ]
    }
   ],
   "source": [
    "input_data = df_binary.loc['2023-12-08'].drop('USDCHF').values\n",
    "\n",
    "# Reshape the input data to a 2D array\n",
    "input_data_2d = np.reshape(input_data, (1, -1))\n",
    "\n",
    "# Make predictions using the reshaped data\n",
    "predictions = model.predict(input_data_2d)\n",
    "\n",
    "# Print or use the predictions as needed\n",
    "print(predictions)"
   ]
  },
  {
   "cell_type": "code",
   "execution_count": null,
   "metadata": {},
   "outputs": [],
   "source": []
  },
  {
   "cell_type": "code",
   "execution_count": null,
   "metadata": {},
   "outputs": [],
   "source": []
  },
  {
   "cell_type": "code",
   "execution_count": null,
   "metadata": {},
   "outputs": [],
   "source": []
  },
  {
   "cell_type": "code",
   "execution_count": 66,
   "metadata": {
    "tags": []
   },
   "outputs": [
    {
     "data": {
      "text/plain": [
       "array([20, 26, 15, 30, 26, 23, 15,  5, 19,  4, 15,  5, 29, 26,  8, 22, 19,\n",
       "       19,  5, 20, 19,  5,  8, 19, 19, 12, 22, 11, 30, 19,  4, 30, 11,  8,\n",
       "       11, 20,  5, 29,  8, 20, 29,  7, 26, 22, 20, 15, 30,  8, 26, 30, 22,\n",
       "       30, 15, 29,  4, 11, 15, 30, 22, 14, 11, 23,  7, 29, 20, 19, 23, 11,\n",
       "       15, 11, 14, 26, 15, 26, 22, 23, 19,  5,  7, 29,  5, 20,  8,  7,  5,\n",
       "       29,  7, 29,  8, 20,  7,  4,  5, 20,  5, 23, 15, 26, 26, 14, 23, 30,\n",
       "        8, 19,  7, 29, 12, 26, 22, 29, 15, 30, 12, 29,  5,  5, 22, 15, 19,\n",
       "       12, 19,  5,  5, 26, 12, 14,  4, 29,  8,  7, 30, 12, 19, 29,  7,  7,\n",
       "        5,  4, 30, 15, 11, 30, 14, 26, 26, 30,  8, 29,  5, 30, 15, 14, 30,\n",
       "       27, 11, 23, 11, 12, 12, 19,  5,  7,  4, 20,  4, 20,  4, 19, 14, 20,\n",
       "        5, 26,  4, 20,  8,  8, 15, 15, 14, 30, 14, 26,  4, 15, 15, 22, 14,\n",
       "        8, 29, 29,  8,  8, 26, 29,  8,  5, 26, 15, 26, 29, 11, 15, 12, 19,\n",
       "        4, 27,  7,  8,  5, 20,  5, 22, 23, 19, 15, 26, 11, 11, 30, 15, 15,\n",
       "       14,  4, 29,  5,  4, 30, 27, 14, 30, 23, 19,  7, 29,  8, 23, 12, 12,\n",
       "       29, 20, 27, 27,  5, 15, 26, 12, 29,  8, 29,  4,  4,  7, 23, 30, 12,\n",
       "       30, 26, 20,  7,  8,  7, 11, 11, 27, 23, 14, 19, 19, 14,  8, 19,  7,\n",
       "        4, 22, 22, 22, 30, 15,  7, 27, 27, 12, 15, 23, 14, 30, 20, 26,  8,\n",
       "       14, 22, 26, 23, 12, 15, 15, 27, 22, 23, 15, 12, 30, 12, 20,  5, 14,\n",
       "       14, 11,  4, 22,  7, 15, 15, 14, 11,  5,  4, 20,  4, 14, 22, 11, 27,\n",
       "       11, 12, 15, 19, 20,  5,  8, 29, 29, 29,  8, 15, 23, 15,  7, 26, 11,\n",
       "       22, 15, 22, 11, 15, 23,  5, 29,  4, 20, 12, 23,  7, 19,  7, 27, 15,\n",
       "       14, 15, 14, 15,  7,  7,  4,  7, 22, 12, 22, 14, 23,  5,  7,  7,  8,\n",
       "       20, 23, 29, 20, 19,  5,  4,  4, 12, 23, 14, 27, 26, 30,  7,  4, 26,\n",
       "        7, 12, 26, 30, 20,  7, 19,  5, 15, 11, 22, 30,  4, 20, 27, 22, 14,\n",
       "       23,  5, 29, 30, 15, 15, 26, 22, 30, 14,  4, 26,  8, 20,  7,  5, 29,\n",
       "       14, 14, 11,  8, 19, 20,  5, 11, 23,  4,  5, 26,  7, 29,  7,  4, 11,\n",
       "        7, 20, 29, 19,  7, 22, 22, 19, 11,  5,  8,  7, 15, 26, 30, 14, 14,\n",
       "       23, 30, 14, 23, 15, 19,  4, 26], dtype=int64)"
      ]
     },
     "execution_count": 66,
     "metadata": {},
     "output_type": "execute_result"
    }
   ],
   "source": [
    "x=model.apply(x_train)"
   ]
  },
  {
   "cell_type": "code",
   "execution_count": null,
   "metadata": {},
   "outputs": [],
   "source": [
    "# I am adding this code for fun, just checking the github\n",
    "# this is only the change for branch justinxu, checking please"
   ]
  }
 ],
 "metadata": {
  "colab": {
   "provenance": []
  },
  "kernelspec": {
   "display_name": "Python 3 (ipykernel)",
   "language": "python",
   "name": "python3"
  },
  "language_info": {
   "codemirror_mode": {
    "name": "ipython",
    "version": 3
   },
   "file_extension": ".py",
   "mimetype": "text/x-python",
   "name": "python",
   "nbconvert_exporter": "python",
   "pygments_lexer": "ipython3",
   "version": "3.11.5"
  }
 },
 "nbformat": 4,
 "nbformat_minor": 4
}
